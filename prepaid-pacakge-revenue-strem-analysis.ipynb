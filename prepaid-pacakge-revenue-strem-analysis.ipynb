{
 "cells": [
  {
   "cell_type": "markdown",
   "metadata": {},
   "source": [
    "<span style=\"font-size:28pt; font-weight: bold;\">Prepaid Package Revenue Stream Analysis</span>\n"
   ]
  },
  {
   "cell_type": "markdown",
   "metadata": {},
   "source": [
    "<span id=\"contents\" style=\"font-size:20pt; font-weight: bold;\">Contents</span>"
   ]
  },
  {
   "cell_type": "markdown",
   "metadata": {},
   "source": [
    "1. [Initialization](#Initialization)\n",
    "   - [Analysis Background](#Analysis-Background)\n",
    "   - [Data Loading](#Data-Loading)\n",
    "   \n",
    "\n",
    "\n",
    "2. [Data Preparation](#Data-Preparation)\n",
    "   - [Prepaid Packages](#Prepaid-Packages)\n",
    "       - [Prepaid Packages Data Refinement](#Prepaid-Packages-Data-Refinement)\n",
    "       - [Prepaid Packages Data Quality Enhancement](#Prepaid-Packages-Data-Quality-Enhancement)\n",
    "   - [Users](#Users)\n",
    "       - [Users Data Refinement](#Users-Data-Refinement)\n",
    "       - [Users Data Quality Enhancement](#Users-Data-Quality-Enhancement)\n",
    "   - [Phone Call](#Phone-Call)\n",
    "       - [Phone Call Data Refinement](#Phone-Call-Data-Refinement)\n",
    "       - [Phone Call Data Quality Enhancement](#Phone-Call-Data-Quality-Enhancement)\n",
    "   - [Text Message](#Text-Message)\n",
    "       - [Text Message Data Refinement](#Text-Message-Data-Refinement)\n",
    "       - [Text Message Data Quality Enhancement](#Text-Message-Data-Quality-Enhancement)\n",
    "   - [Internet](#Internet)\n",
    "       - [Internet Data Refinement](#Internet-Data-Refinement)\n",
    "       - [Internet Data Quality Enhancement](#Internet-Data-Quality-Enhancement)\n",
    "   \n",
    "   \n",
    "       \n",
    "3. [Analysis](#Analysis)\n",
    "   - [Package Terms and Condition](#Package-Terms-and-Condition)\n",
    "   - [Aggregated Data per User](#Aggregated-Data-per-User)\n",
    "   - [Users Behaviour](#Users-Behaviour)\n",
    "       - [Phone Call Activity](#Phone-Call-Activity)\n",
    "       - [Text Messaging Activity](#Text-Messaging-Activity)\n",
    "       - [Web Session Activity](#Web-Session-Activity)\n",
    "   - [Revenue](#Revenue)\n",
    "       \n",
    "     \n",
    "     \n",
    "4. [Hypothesis Testing](#Hypothesis-Testing)\n",
    "   - [Average Revenue by Package](#Average-Revenue-by-Package)\n",
    "   - [Average Revenue by Location](#Average-Revenue-by-Location)\n",
    "\n",
    "\n",
    "\n",
    "5. [Findings and Conclusion](#Findings-and-Conclusion)\n"
   ]
  },
  {
   "cell_type": "markdown",
   "metadata": {},
   "source": [
    "# Initialization"
   ]
  },
  {
   "cell_type": "markdown",
   "metadata": {},
   "source": [
    "## Analysis Background"
   ]
  },
  {
   "cell_type": "markdown",
   "metadata": {},
   "source": [
    "**Megaline** is a telecommunications operator offering two types of prepaid plans: the **Surf** plan and the **Ultimate** plan. As part of a marketing budget evaluation, the advertising department seeks to determine which prepaid plan generates higher revenue, enabling them to allocate advertising budgets more effectively.\n",
    "\n",
    "This report presents a preliminary analysis of these prepaid plans based on a relatively small sample of clients. The dataset includes 500 Megaline clients and contains information such as demographic details, geographic location, the type of plan they use, as well as the number of calls made and messages sent in 2018. \n",
    "\n",
    "The objective of this analysis is to examine user behavior and **identify which prepaid plan generates greater revenue for the company.**\n",
    "\n",
    "The report is organized into five sections: initialization, data preparation, data analysis, hypothesis testing, and findings and conclusion."
   ]
  },
  {
   "cell_type": "code",
   "execution_count": 1,
   "metadata": {},
   "outputs": [],
   "source": [
    "# Import Library data processing\n",
    "import pandas as pd, numpy as np\n",
    "\n",
    "#Import Library data visualization\n",
    "import matplotlib.pyplot as plt, seaborn as sns\n",
    "\n",
    "#Import Library Statistics\n",
    "from scipy.stats import ttest_ind\n",
    "import scipy.stats as stats\n",
    "\n",
    "#Import Library Statistical Testing\n",
    "from scipy.stats import ttest_1samp, shapiro, mannwhitneyu, chi2_contingency"
   ]
  },
  {
   "cell_type": "markdown",
   "metadata": {},
   "source": [
    "## Data Loading"
   ]
  },
  {
   "cell_type": "markdown",
   "metadata": {},
   "source": [
    "The analysis involves five separate DataFrames, each consists data regarding users, prepaid packages, phone call log, text message log, and web session (internet usage). "
   ]
  },
  {
   "cell_type": "code",
   "execution_count": 2,
   "metadata": {},
   "outputs": [
    {
     "data": {
      "text/html": [
       "<div>\n",
       "<style scoped>\n",
       "    .dataframe tbody tr th:only-of-type {\n",
       "        vertical-align: middle;\n",
       "    }\n",
       "\n",
       "    .dataframe tbody tr th {\n",
       "        vertical-align: top;\n",
       "    }\n",
       "\n",
       "    .dataframe thead th {\n",
       "        text-align: right;\n",
       "    }\n",
       "</style>\n",
       "<table border=\"1\" class=\"dataframe\">\n",
       "  <thead>\n",
       "    <tr style=\"text-align: right;\">\n",
       "      <th></th>\n",
       "      <th>user_id</th>\n",
       "      <th>first_name</th>\n",
       "      <th>last_name</th>\n",
       "      <th>age</th>\n",
       "      <th>city</th>\n",
       "      <th>reg_date</th>\n",
       "      <th>plan</th>\n",
       "      <th>churn_date</th>\n",
       "    </tr>\n",
       "  </thead>\n",
       "  <tbody>\n",
       "    <tr>\n",
       "      <th>0</th>\n",
       "      <td>1000</td>\n",
       "      <td>Anamaria</td>\n",
       "      <td>Bauer</td>\n",
       "      <td>45</td>\n",
       "      <td>Atlanta-Sandy Springs-Roswell, GA MSA</td>\n",
       "      <td>2018-12-24</td>\n",
       "      <td>ultimate</td>\n",
       "      <td>NaN</td>\n",
       "    </tr>\n",
       "    <tr>\n",
       "      <th>1</th>\n",
       "      <td>1001</td>\n",
       "      <td>Mickey</td>\n",
       "      <td>Wilkerson</td>\n",
       "      <td>28</td>\n",
       "      <td>Seattle-Tacoma-Bellevue, WA MSA</td>\n",
       "      <td>2018-08-13</td>\n",
       "      <td>surf</td>\n",
       "      <td>NaN</td>\n",
       "    </tr>\n",
       "    <tr>\n",
       "      <th>2</th>\n",
       "      <td>1002</td>\n",
       "      <td>Carlee</td>\n",
       "      <td>Hoffman</td>\n",
       "      <td>36</td>\n",
       "      <td>Las Vegas-Henderson-Paradise, NV MSA</td>\n",
       "      <td>2018-10-21</td>\n",
       "      <td>surf</td>\n",
       "      <td>NaN</td>\n",
       "    </tr>\n",
       "    <tr>\n",
       "      <th>3</th>\n",
       "      <td>1003</td>\n",
       "      <td>Reynaldo</td>\n",
       "      <td>Jenkins</td>\n",
       "      <td>52</td>\n",
       "      <td>Tulsa, OK MSA</td>\n",
       "      <td>2018-01-28</td>\n",
       "      <td>surf</td>\n",
       "      <td>NaN</td>\n",
       "    </tr>\n",
       "    <tr>\n",
       "      <th>4</th>\n",
       "      <td>1004</td>\n",
       "      <td>Leonila</td>\n",
       "      <td>Thompson</td>\n",
       "      <td>40</td>\n",
       "      <td>Seattle-Tacoma-Bellevue, WA MSA</td>\n",
       "      <td>2018-05-23</td>\n",
       "      <td>surf</td>\n",
       "      <td>NaN</td>\n",
       "    </tr>\n",
       "  </tbody>\n",
       "</table>\n",
       "</div>"
      ],
      "text/plain": [
       "   user_id first_name  last_name  age                                   city  \\\n",
       "0     1000   Anamaria      Bauer   45  Atlanta-Sandy Springs-Roswell, GA MSA   \n",
       "1     1001     Mickey  Wilkerson   28        Seattle-Tacoma-Bellevue, WA MSA   \n",
       "2     1002     Carlee    Hoffman   36   Las Vegas-Henderson-Paradise, NV MSA   \n",
       "3     1003   Reynaldo    Jenkins   52                          Tulsa, OK MSA   \n",
       "4     1004    Leonila   Thompson   40        Seattle-Tacoma-Bellevue, WA MSA   \n",
       "\n",
       "     reg_date      plan churn_date  \n",
       "0  2018-12-24  ultimate        NaN  \n",
       "1  2018-08-13      surf        NaN  \n",
       "2  2018-10-21      surf        NaN  \n",
       "3  2018-01-28      surf        NaN  \n",
       "4  2018-05-23      surf        NaN  "
      ]
     },
     "execution_count": 2,
     "metadata": {},
     "output_type": "execute_result"
    }
   ],
   "source": [
    "#loading data of users\n",
    "user = pd.read_csv('/datasets/megaline_users.csv')\n",
    "user.head()"
   ]
  },
  {
   "cell_type": "code",
   "execution_count": 3,
   "metadata": {
    "scrolled": true
   },
   "outputs": [
    {
     "data": {
      "text/html": [
       "<div>\n",
       "<style scoped>\n",
       "    .dataframe tbody tr th:only-of-type {\n",
       "        vertical-align: middle;\n",
       "    }\n",
       "\n",
       "    .dataframe tbody tr th {\n",
       "        vertical-align: top;\n",
       "    }\n",
       "\n",
       "    .dataframe thead th {\n",
       "        text-align: right;\n",
       "    }\n",
       "</style>\n",
       "<table border=\"1\" class=\"dataframe\">\n",
       "  <thead>\n",
       "    <tr style=\"text-align: right;\">\n",
       "      <th></th>\n",
       "      <th>messages_included</th>\n",
       "      <th>mb_per_month_included</th>\n",
       "      <th>minutes_included</th>\n",
       "      <th>usd_monthly_pay</th>\n",
       "      <th>usd_per_gb</th>\n",
       "      <th>usd_per_message</th>\n",
       "      <th>usd_per_minute</th>\n",
       "      <th>plan_name</th>\n",
       "    </tr>\n",
       "  </thead>\n",
       "  <tbody>\n",
       "    <tr>\n",
       "      <th>0</th>\n",
       "      <td>50</td>\n",
       "      <td>15360</td>\n",
       "      <td>500</td>\n",
       "      <td>20</td>\n",
       "      <td>10</td>\n",
       "      <td>0.03</td>\n",
       "      <td>0.03</td>\n",
       "      <td>surf</td>\n",
       "    </tr>\n",
       "    <tr>\n",
       "      <th>1</th>\n",
       "      <td>1000</td>\n",
       "      <td>30720</td>\n",
       "      <td>3000</td>\n",
       "      <td>70</td>\n",
       "      <td>7</td>\n",
       "      <td>0.01</td>\n",
       "      <td>0.01</td>\n",
       "      <td>ultimate</td>\n",
       "    </tr>\n",
       "  </tbody>\n",
       "</table>\n",
       "</div>"
      ],
      "text/plain": [
       "   messages_included  mb_per_month_included  minutes_included  \\\n",
       "0                 50                  15360               500   \n",
       "1               1000                  30720              3000   \n",
       "\n",
       "   usd_monthly_pay  usd_per_gb  usd_per_message  usd_per_minute plan_name  \n",
       "0               20          10             0.03            0.03      surf  \n",
       "1               70           7             0.01            0.01  ultimate  "
      ]
     },
     "execution_count": 3,
     "metadata": {},
     "output_type": "execute_result"
    }
   ],
   "source": [
    "#loading data of prepaid packages\n",
    "plans = pd.read_csv('/datasets/megaline_plans.csv')\n",
    "plans.head()"
   ]
  },
  {
   "cell_type": "code",
   "execution_count": 4,
   "metadata": {
    "scrolled": true
   },
   "outputs": [
    {
     "data": {
      "text/html": [
       "<div>\n",
       "<style scoped>\n",
       "    .dataframe tbody tr th:only-of-type {\n",
       "        vertical-align: middle;\n",
       "    }\n",
       "\n",
       "    .dataframe tbody tr th {\n",
       "        vertical-align: top;\n",
       "    }\n",
       "\n",
       "    .dataframe thead th {\n",
       "        text-align: right;\n",
       "    }\n",
       "</style>\n",
       "<table border=\"1\" class=\"dataframe\">\n",
       "  <thead>\n",
       "    <tr style=\"text-align: right;\">\n",
       "      <th></th>\n",
       "      <th>id</th>\n",
       "      <th>user_id</th>\n",
       "      <th>call_date</th>\n",
       "      <th>duration</th>\n",
       "    </tr>\n",
       "  </thead>\n",
       "  <tbody>\n",
       "    <tr>\n",
       "      <th>0</th>\n",
       "      <td>1000_93</td>\n",
       "      <td>1000</td>\n",
       "      <td>2018-12-27</td>\n",
       "      <td>8.52</td>\n",
       "    </tr>\n",
       "    <tr>\n",
       "      <th>1</th>\n",
       "      <td>1000_145</td>\n",
       "      <td>1000</td>\n",
       "      <td>2018-12-27</td>\n",
       "      <td>13.66</td>\n",
       "    </tr>\n",
       "    <tr>\n",
       "      <th>2</th>\n",
       "      <td>1000_247</td>\n",
       "      <td>1000</td>\n",
       "      <td>2018-12-27</td>\n",
       "      <td>14.48</td>\n",
       "    </tr>\n",
       "    <tr>\n",
       "      <th>3</th>\n",
       "      <td>1000_309</td>\n",
       "      <td>1000</td>\n",
       "      <td>2018-12-28</td>\n",
       "      <td>5.76</td>\n",
       "    </tr>\n",
       "    <tr>\n",
       "      <th>4</th>\n",
       "      <td>1000_380</td>\n",
       "      <td>1000</td>\n",
       "      <td>2018-12-30</td>\n",
       "      <td>4.22</td>\n",
       "    </tr>\n",
       "  </tbody>\n",
       "</table>\n",
       "</div>"
      ],
      "text/plain": [
       "         id  user_id   call_date  duration\n",
       "0   1000_93     1000  2018-12-27      8.52\n",
       "1  1000_145     1000  2018-12-27     13.66\n",
       "2  1000_247     1000  2018-12-27     14.48\n",
       "3  1000_309     1000  2018-12-28      5.76\n",
       "4  1000_380     1000  2018-12-30      4.22"
      ]
     },
     "execution_count": 4,
     "metadata": {},
     "output_type": "execute_result"
    }
   ],
   "source": [
    "#loading data of phone calls\n",
    "call = pd.read_csv('/datasets/megaline_calls.csv')\n",
    "call.head()"
   ]
  },
  {
   "cell_type": "code",
   "execution_count": 5,
   "metadata": {},
   "outputs": [
    {
     "data": {
      "text/html": [
       "<div>\n",
       "<style scoped>\n",
       "    .dataframe tbody tr th:only-of-type {\n",
       "        vertical-align: middle;\n",
       "    }\n",
       "\n",
       "    .dataframe tbody tr th {\n",
       "        vertical-align: top;\n",
       "    }\n",
       "\n",
       "    .dataframe thead th {\n",
       "        text-align: right;\n",
       "    }\n",
       "</style>\n",
       "<table border=\"1\" class=\"dataframe\">\n",
       "  <thead>\n",
       "    <tr style=\"text-align: right;\">\n",
       "      <th></th>\n",
       "      <th>id</th>\n",
       "      <th>user_id</th>\n",
       "      <th>message_date</th>\n",
       "    </tr>\n",
       "  </thead>\n",
       "  <tbody>\n",
       "    <tr>\n",
       "      <th>0</th>\n",
       "      <td>1000_125</td>\n",
       "      <td>1000</td>\n",
       "      <td>2018-12-27</td>\n",
       "    </tr>\n",
       "    <tr>\n",
       "      <th>1</th>\n",
       "      <td>1000_160</td>\n",
       "      <td>1000</td>\n",
       "      <td>2018-12-31</td>\n",
       "    </tr>\n",
       "    <tr>\n",
       "      <th>2</th>\n",
       "      <td>1000_223</td>\n",
       "      <td>1000</td>\n",
       "      <td>2018-12-31</td>\n",
       "    </tr>\n",
       "    <tr>\n",
       "      <th>3</th>\n",
       "      <td>1000_251</td>\n",
       "      <td>1000</td>\n",
       "      <td>2018-12-27</td>\n",
       "    </tr>\n",
       "    <tr>\n",
       "      <th>4</th>\n",
       "      <td>1000_255</td>\n",
       "      <td>1000</td>\n",
       "      <td>2018-12-26</td>\n",
       "    </tr>\n",
       "  </tbody>\n",
       "</table>\n",
       "</div>"
      ],
      "text/plain": [
       "         id  user_id message_date\n",
       "0  1000_125     1000   2018-12-27\n",
       "1  1000_160     1000   2018-12-31\n",
       "2  1000_223     1000   2018-12-31\n",
       "3  1000_251     1000   2018-12-27\n",
       "4  1000_255     1000   2018-12-26"
      ]
     },
     "execution_count": 5,
     "metadata": {},
     "output_type": "execute_result"
    }
   ],
   "source": [
    "#loading data of text message (SMS)\n",
    "sms = pd.read_csv('/datasets/megaline_messages.csv')\n",
    "sms.head()"
   ]
  },
  {
   "cell_type": "code",
   "execution_count": 6,
   "metadata": {},
   "outputs": [
    {
     "data": {
      "text/html": [
       "<div>\n",
       "<style scoped>\n",
       "    .dataframe tbody tr th:only-of-type {\n",
       "        vertical-align: middle;\n",
       "    }\n",
       "\n",
       "    .dataframe tbody tr th {\n",
       "        vertical-align: top;\n",
       "    }\n",
       "\n",
       "    .dataframe thead th {\n",
       "        text-align: right;\n",
       "    }\n",
       "</style>\n",
       "<table border=\"1\" class=\"dataframe\">\n",
       "  <thead>\n",
       "    <tr style=\"text-align: right;\">\n",
       "      <th></th>\n",
       "      <th>id</th>\n",
       "      <th>user_id</th>\n",
       "      <th>session_date</th>\n",
       "      <th>mb_used</th>\n",
       "    </tr>\n",
       "  </thead>\n",
       "  <tbody>\n",
       "    <tr>\n",
       "      <th>0</th>\n",
       "      <td>1000_13</td>\n",
       "      <td>1000</td>\n",
       "      <td>2018-12-29</td>\n",
       "      <td>89.86</td>\n",
       "    </tr>\n",
       "    <tr>\n",
       "      <th>1</th>\n",
       "      <td>1000_204</td>\n",
       "      <td>1000</td>\n",
       "      <td>2018-12-31</td>\n",
       "      <td>0.00</td>\n",
       "    </tr>\n",
       "    <tr>\n",
       "      <th>2</th>\n",
       "      <td>1000_379</td>\n",
       "      <td>1000</td>\n",
       "      <td>2018-12-28</td>\n",
       "      <td>660.40</td>\n",
       "    </tr>\n",
       "    <tr>\n",
       "      <th>3</th>\n",
       "      <td>1000_413</td>\n",
       "      <td>1000</td>\n",
       "      <td>2018-12-26</td>\n",
       "      <td>270.99</td>\n",
       "    </tr>\n",
       "    <tr>\n",
       "      <th>4</th>\n",
       "      <td>1000_442</td>\n",
       "      <td>1000</td>\n",
       "      <td>2018-12-27</td>\n",
       "      <td>880.22</td>\n",
       "    </tr>\n",
       "  </tbody>\n",
       "</table>\n",
       "</div>"
      ],
      "text/plain": [
       "         id  user_id session_date  mb_used\n",
       "0   1000_13     1000   2018-12-29    89.86\n",
       "1  1000_204     1000   2018-12-31     0.00\n",
       "2  1000_379     1000   2018-12-28   660.40\n",
       "3  1000_413     1000   2018-12-26   270.99\n",
       "4  1000_442     1000   2018-12-27   880.22"
      ]
     },
     "execution_count": 6,
     "metadata": {},
     "output_type": "execute_result"
    }
   ],
   "source": [
    "#loading data of web session activity (internet)\n",
    "internet = pd.read_csv('/datasets/megaline_internet.csv')\n",
    "internet.head()"
   ]
  },
  {
   "cell_type": "markdown",
   "metadata": {},
   "source": [
    "[Back to Contents](#contents)"
   ]
  },
  {
   "cell_type": "markdown",
   "metadata": {},
   "source": [
    "# Data Preparation"
   ]
  },
  {
   "cell_type": "markdown",
   "metadata": {},
   "source": [
    "This section focuses on examining the general information of each dataframe to identify any missing or duplicate values, and subsequently addressing them.\n",
    "\n",
    "Additionally, necessary data transformations will be performed to improve data quality. After briefly observing the initial portion of each dataframe in Section 1, one of the required transformations is to **merge the five dataframes into a single one** and ensure that **each row is defined in monthly units**."
   ]
  },
  {
   "cell_type": "markdown",
   "metadata": {},
   "source": [
    "## Prepaid Packages"
   ]
  },
  {
   "cell_type": "code",
   "execution_count": 7,
   "metadata": {},
   "outputs": [
    {
     "name": "stdout",
     "output_type": "stream",
     "text": [
      "<class 'pandas.core.frame.DataFrame'>\n",
      "RangeIndex: 2 entries, 0 to 1\n",
      "Data columns (total 8 columns):\n",
      " #   Column                 Non-Null Count  Dtype  \n",
      "---  ------                 --------------  -----  \n",
      " 0   messages_included      2 non-null      int64  \n",
      " 1   mb_per_month_included  2 non-null      int64  \n",
      " 2   minutes_included       2 non-null      int64  \n",
      " 3   usd_monthly_pay        2 non-null      int64  \n",
      " 4   usd_per_gb             2 non-null      int64  \n",
      " 5   usd_per_message        2 non-null      float64\n",
      " 6   usd_per_minute         2 non-null      float64\n",
      " 7   plan_name              2 non-null      object \n",
      "dtypes: float64(2), int64(5), object(1)\n",
      "memory usage: 256.0+ bytes\n"
     ]
    }
   ],
   "source": [
    "#load general info of prepaid packages dataframe\n",
    "plans.info()"
   ]
  },
  {
   "cell_type": "code",
   "execution_count": 8,
   "metadata": {},
   "outputs": [
    {
     "data": {
      "text/html": [
       "<div>\n",
       "<style scoped>\n",
       "    .dataframe tbody tr th:only-of-type {\n",
       "        vertical-align: middle;\n",
       "    }\n",
       "\n",
       "    .dataframe tbody tr th {\n",
       "        vertical-align: top;\n",
       "    }\n",
       "\n",
       "    .dataframe thead th {\n",
       "        text-align: right;\n",
       "    }\n",
       "</style>\n",
       "<table border=\"1\" class=\"dataframe\">\n",
       "  <thead>\n",
       "    <tr style=\"text-align: right;\">\n",
       "      <th></th>\n",
       "      <th>messages_included</th>\n",
       "      <th>mb_per_month_included</th>\n",
       "      <th>minutes_included</th>\n",
       "      <th>usd_monthly_pay</th>\n",
       "      <th>usd_per_gb</th>\n",
       "      <th>usd_per_message</th>\n",
       "      <th>usd_per_minute</th>\n",
       "      <th>plan_name</th>\n",
       "    </tr>\n",
       "  </thead>\n",
       "  <tbody>\n",
       "    <tr>\n",
       "      <th>0</th>\n",
       "      <td>50</td>\n",
       "      <td>15360</td>\n",
       "      <td>500</td>\n",
       "      <td>20</td>\n",
       "      <td>10</td>\n",
       "      <td>0.03</td>\n",
       "      <td>0.03</td>\n",
       "      <td>surf</td>\n",
       "    </tr>\n",
       "    <tr>\n",
       "      <th>1</th>\n",
       "      <td>1000</td>\n",
       "      <td>30720</td>\n",
       "      <td>3000</td>\n",
       "      <td>70</td>\n",
       "      <td>7</td>\n",
       "      <td>0.01</td>\n",
       "      <td>0.01</td>\n",
       "      <td>ultimate</td>\n",
       "    </tr>\n",
       "  </tbody>\n",
       "</table>\n",
       "</div>"
      ],
      "text/plain": [
       "   messages_included  mb_per_month_included  minutes_included  \\\n",
       "0                 50                  15360               500   \n",
       "1               1000                  30720              3000   \n",
       "\n",
       "   usd_monthly_pay  usd_per_gb  usd_per_message  usd_per_minute plan_name  \n",
       "0               20          10             0.03            0.03      surf  \n",
       "1               70           7             0.01            0.01  ultimate  "
      ]
     },
     "execution_count": 8,
     "metadata": {},
     "output_type": "execute_result"
    }
   ],
   "source": [
    "#display dataframe\n",
    "plans"
   ]
  },
  {
   "cell_type": "markdown",
   "metadata": {},
   "source": [
    "The columns in this dataframe contain information on the benefits and surcharge rates of the two prepaid plans offered, Surf and Ultimate.\n",
    "\n",
    "For marketing purposes, Megaline uses gigabytes (GB) as the unit for internet service data. However, in the data collected for this analysis, the unit used is megabytes (MB), where **1 GB = 1,024 MB**.\n",
    "\n",
    "There are no missing values in this dataset, and all columns have the correct data types."
   ]
  },
  {
   "cell_type": "markdown",
   "metadata": {},
   "source": [
    " "
   ]
  },
  {
   "cell_type": "markdown",
   "metadata": {},
   "source": [
    "### Prepaid Packages Data Refinement"
   ]
  },
  {
   "cell_type": "markdown",
   "metadata": {},
   "source": [
    "The column name `mb_per_month_included` is too long for a benefit that is clearly measured on a monthly basis. For readability, this column name has been shortened to **mb_included**."
   ]
  },
  {
   "cell_type": "code",
   "execution_count": 9,
   "metadata": {
    "scrolled": true
   },
   "outputs": [
    {
     "data": {
      "text/html": [
       "<div>\n",
       "<style scoped>\n",
       "    .dataframe tbody tr th:only-of-type {\n",
       "        vertical-align: middle;\n",
       "    }\n",
       "\n",
       "    .dataframe tbody tr th {\n",
       "        vertical-align: top;\n",
       "    }\n",
       "\n",
       "    .dataframe thead th {\n",
       "        text-align: right;\n",
       "    }\n",
       "</style>\n",
       "<table border=\"1\" class=\"dataframe\">\n",
       "  <thead>\n",
       "    <tr style=\"text-align: right;\">\n",
       "      <th></th>\n",
       "      <th>messages_included</th>\n",
       "      <th>mb_included</th>\n",
       "      <th>minutes_included</th>\n",
       "      <th>usd_monthly_pay</th>\n",
       "      <th>usd_per_gb</th>\n",
       "      <th>usd_per_message</th>\n",
       "      <th>usd_per_minute</th>\n",
       "      <th>plan_name</th>\n",
       "    </tr>\n",
       "  </thead>\n",
       "  <tbody>\n",
       "    <tr>\n",
       "      <th>0</th>\n",
       "      <td>50</td>\n",
       "      <td>15360</td>\n",
       "      <td>500</td>\n",
       "      <td>20</td>\n",
       "      <td>10</td>\n",
       "      <td>0.03</td>\n",
       "      <td>0.03</td>\n",
       "      <td>surf</td>\n",
       "    </tr>\n",
       "    <tr>\n",
       "      <th>1</th>\n",
       "      <td>1000</td>\n",
       "      <td>30720</td>\n",
       "      <td>3000</td>\n",
       "      <td>70</td>\n",
       "      <td>7</td>\n",
       "      <td>0.01</td>\n",
       "      <td>0.01</td>\n",
       "      <td>ultimate</td>\n",
       "    </tr>\n",
       "  </tbody>\n",
       "</table>\n",
       "</div>"
      ],
      "text/plain": [
       "   messages_included  mb_included  minutes_included  usd_monthly_pay  \\\n",
       "0                 50        15360               500               20   \n",
       "1               1000        30720              3000               70   \n",
       "\n",
       "   usd_per_gb  usd_per_message  usd_per_minute plan_name  \n",
       "0          10             0.03            0.03      surf  \n",
       "1           7             0.01            0.01  ultimate  "
      ]
     },
     "execution_count": 9,
     "metadata": {},
     "output_type": "execute_result"
    }
   ],
   "source": [
    "plans = plans.rename(columns={'mb_per_month_included': 'mb_included'})\n",
    "plans"
   ]
  },
  {
   "cell_type": "markdown",
   "metadata": {},
   "source": [
    "Column **mb_per_month_included** has been renamed to **mb_included**"
   ]
  },
  {
   "cell_type": "markdown",
   "metadata": {},
   "source": [
    "### Prepaid Packages Data Quality Enhancement"
   ]
  },
  {
   "cell_type": "markdown",
   "metadata": {},
   "source": [
    "The `mb_included` column contains information about the internet data included in the plan, measured in megabytes. A new column in gigabytes needs to be added."
   ]
  },
  {
   "cell_type": "code",
   "execution_count": 10,
   "metadata": {
    "scrolled": true
   },
   "outputs": [
    {
     "data": {
      "text/html": [
       "<div>\n",
       "<style scoped>\n",
       "    .dataframe tbody tr th:only-of-type {\n",
       "        vertical-align: middle;\n",
       "    }\n",
       "\n",
       "    .dataframe tbody tr th {\n",
       "        vertical-align: top;\n",
       "    }\n",
       "\n",
       "    .dataframe thead th {\n",
       "        text-align: right;\n",
       "    }\n",
       "</style>\n",
       "<table border=\"1\" class=\"dataframe\">\n",
       "  <thead>\n",
       "    <tr style=\"text-align: right;\">\n",
       "      <th></th>\n",
       "      <th>messages_included</th>\n",
       "      <th>minutes_included</th>\n",
       "      <th>usd_monthly_pay</th>\n",
       "      <th>usd_per_gb</th>\n",
       "      <th>usd_per_message</th>\n",
       "      <th>usd_per_minute</th>\n",
       "      <th>plan_name</th>\n",
       "      <th>gb_included</th>\n",
       "    </tr>\n",
       "  </thead>\n",
       "  <tbody>\n",
       "    <tr>\n",
       "      <th>0</th>\n",
       "      <td>50</td>\n",
       "      <td>500</td>\n",
       "      <td>20</td>\n",
       "      <td>10</td>\n",
       "      <td>0.03</td>\n",
       "      <td>0.03</td>\n",
       "      <td>surf</td>\n",
       "      <td>15.0</td>\n",
       "    </tr>\n",
       "    <tr>\n",
       "      <th>1</th>\n",
       "      <td>1000</td>\n",
       "      <td>3000</td>\n",
       "      <td>70</td>\n",
       "      <td>7</td>\n",
       "      <td>0.01</td>\n",
       "      <td>0.01</td>\n",
       "      <td>ultimate</td>\n",
       "      <td>30.0</td>\n",
       "    </tr>\n",
       "  </tbody>\n",
       "</table>\n",
       "</div>"
      ],
      "text/plain": [
       "   messages_included  minutes_included  usd_monthly_pay  usd_per_gb  \\\n",
       "0                 50               500               20          10   \n",
       "1               1000              3000               70           7   \n",
       "\n",
       "   usd_per_message  usd_per_minute plan_name  gb_included  \n",
       "0             0.03            0.03      surf         15.0  \n",
       "1             0.01            0.01  ultimate         30.0  "
      ]
     },
     "execution_count": 10,
     "metadata": {},
     "output_type": "execute_result"
    }
   ],
   "source": [
    "# column for internet quota in gigabyte\n",
    "plans['gb_included'] = plans['mb_included'] / 1024\n",
    "\n",
    "# drop column 'mb_included'\n",
    "plans.drop('mb_included', axis=1, inplace=True)\n",
    "plans"
   ]
  },
  {
   "cell_type": "markdown",
   "metadata": {},
   "source": [
    "[Back to Data Preparation](#Data-Preparation)"
   ]
  },
  {
   "cell_type": "markdown",
   "metadata": {},
   "source": [
    "## Users"
   ]
  },
  {
   "cell_type": "code",
   "execution_count": 11,
   "metadata": {},
   "outputs": [
    {
     "name": "stdout",
     "output_type": "stream",
     "text": [
      "<class 'pandas.core.frame.DataFrame'>\n",
      "RangeIndex: 500 entries, 0 to 499\n",
      "Data columns (total 8 columns):\n",
      " #   Column      Non-Null Count  Dtype \n",
      "---  ------      --------------  ----- \n",
      " 0   user_id     500 non-null    int64 \n",
      " 1   first_name  500 non-null    object\n",
      " 2   last_name   500 non-null    object\n",
      " 3   age         500 non-null    int64 \n",
      " 4   city        500 non-null    object\n",
      " 5   reg_date    500 non-null    object\n",
      " 6   plan        500 non-null    object\n",
      " 7   churn_date  34 non-null     object\n",
      "dtypes: int64(2), object(6)\n",
      "memory usage: 31.4+ KB\n"
     ]
    }
   ],
   "source": [
    "# general info of DataFrame 'user'\n",
    "user.info()"
   ]
  },
  {
   "cell_type": "code",
   "execution_count": 12,
   "metadata": {
    "scrolled": true
   },
   "outputs": [
    {
     "data": {
      "text/html": [
       "<div>\n",
       "<style scoped>\n",
       "    .dataframe tbody tr th:only-of-type {\n",
       "        vertical-align: middle;\n",
       "    }\n",
       "\n",
       "    .dataframe tbody tr th {\n",
       "        vertical-align: top;\n",
       "    }\n",
       "\n",
       "    .dataframe thead th {\n",
       "        text-align: right;\n",
       "    }\n",
       "</style>\n",
       "<table border=\"1\" class=\"dataframe\">\n",
       "  <thead>\n",
       "    <tr style=\"text-align: right;\">\n",
       "      <th></th>\n",
       "      <th>user_id</th>\n",
       "      <th>first_name</th>\n",
       "      <th>last_name</th>\n",
       "      <th>age</th>\n",
       "      <th>city</th>\n",
       "      <th>reg_date</th>\n",
       "      <th>plan</th>\n",
       "      <th>churn_date</th>\n",
       "    </tr>\n",
       "  </thead>\n",
       "  <tbody>\n",
       "    <tr>\n",
       "      <th>369</th>\n",
       "      <td>1369</td>\n",
       "      <td>Bernard</td>\n",
       "      <td>Mckee</td>\n",
       "      <td>69</td>\n",
       "      <td>Milwaukee-Waukesha, WI MSA</td>\n",
       "      <td>2018-10-06</td>\n",
       "      <td>surf</td>\n",
       "      <td>NaN</td>\n",
       "    </tr>\n",
       "    <tr>\n",
       "      <th>146</th>\n",
       "      <td>1146</td>\n",
       "      <td>Loma</td>\n",
       "      <td>Mcneil</td>\n",
       "      <td>42</td>\n",
       "      <td>New York-Newark-Jersey City, NY-NJ-PA MSA</td>\n",
       "      <td>2018-10-13</td>\n",
       "      <td>surf</td>\n",
       "      <td>NaN</td>\n",
       "    </tr>\n",
       "    <tr>\n",
       "      <th>35</th>\n",
       "      <td>1035</td>\n",
       "      <td>Jeff</td>\n",
       "      <td>Cummings</td>\n",
       "      <td>67</td>\n",
       "      <td>Charlotte-Concord-Gastonia, NC-SC MSA</td>\n",
       "      <td>2018-12-08</td>\n",
       "      <td>surf</td>\n",
       "      <td>NaN</td>\n",
       "    </tr>\n",
       "    <tr>\n",
       "      <th>262</th>\n",
       "      <td>1262</td>\n",
       "      <td>Michelina</td>\n",
       "      <td>Hamilton</td>\n",
       "      <td>34</td>\n",
       "      <td>Dallas-Fort Worth-Arlington, TX MSA</td>\n",
       "      <td>2018-02-09</td>\n",
       "      <td>surf</td>\n",
       "      <td>NaN</td>\n",
       "    </tr>\n",
       "    <tr>\n",
       "      <th>119</th>\n",
       "      <td>1119</td>\n",
       "      <td>Anderson</td>\n",
       "      <td>Palmer</td>\n",
       "      <td>60</td>\n",
       "      <td>Louisville/Jefferson County, KY-IN MSA</td>\n",
       "      <td>2018-10-05</td>\n",
       "      <td>surf</td>\n",
       "      <td>NaN</td>\n",
       "    </tr>\n",
       "  </tbody>\n",
       "</table>\n",
       "</div>"
      ],
      "text/plain": [
       "     user_id first_name last_name  age  \\\n",
       "369     1369    Bernard     Mckee   69   \n",
       "146     1146       Loma    Mcneil   42   \n",
       "35      1035       Jeff  Cummings   67   \n",
       "262     1262  Michelina  Hamilton   34   \n",
       "119     1119   Anderson    Palmer   60   \n",
       "\n",
       "                                          city    reg_date  plan churn_date  \n",
       "369                 Milwaukee-Waukesha, WI MSA  2018-10-06  surf        NaN  \n",
       "146  New York-Newark-Jersey City, NY-NJ-PA MSA  2018-10-13  surf        NaN  \n",
       "35       Charlotte-Concord-Gastonia, NC-SC MSA  2018-12-08  surf        NaN  \n",
       "262        Dallas-Fort Worth-Arlington, TX MSA  2018-02-09  surf        NaN  \n",
       "119     Louisville/Jefferson County, KY-IN MSA  2018-10-05  surf        NaN  "
      ]
     },
     "execution_count": 12,
     "metadata": {},
     "output_type": "execute_result"
    }
   ],
   "source": [
    "# sample of users data\n",
    "user.sample(5)"
   ]
  },
  {
   "cell_type": "code",
   "execution_count": 13,
   "metadata": {},
   "outputs": [
    {
     "name": "stdout",
     "output_type": "stream",
     "text": [
      "user duplicate:  0\n"
     ]
    }
   ],
   "source": [
    "# check duplicate in dataframe\n",
    "print('user duplicate: ', user.duplicated().sum())"
   ]
  },
  {
   "cell_type": "markdown",
   "metadata": {},
   "source": [
    "The number of non-null values matches the sample size (500) for nearly all columns, except for the `churn_date` column.\n",
    "\n",
    "The `churn_date` column contains information about the **date of subscription termination**. If a value is missing in this column, it means the user is **still subscribed**, rather than indicating a missing value. Based on this information, we can infer that 34 users have unsubscribed, while 466 users remain subscribed.\n",
    "\n",
    "Regarding data types, most columns have the correct data types. However, two columns, `reg_date` (subscription start date) and `churn_date`, need to be converted to **datetime** format.\n",
    "\n",
    "There are no duplicate records in the user data."
   ]
  },
  {
   "cell_type": "markdown",
   "metadata": {},
   "source": [
    "### Users Data Refinement"
   ]
  },
  {
   "cell_type": "markdown",
   "metadata": {},
   "source": [
    "Change the data type of column `churn_date` from object to **datetime**"
   ]
  },
  {
   "cell_type": "code",
   "execution_count": 14,
   "metadata": {},
   "outputs": [
    {
     "name": "stdout",
     "output_type": "stream",
     "text": [
      "<class 'pandas.core.frame.DataFrame'>\n",
      "RangeIndex: 500 entries, 0 to 499\n",
      "Data columns (total 8 columns):\n",
      " #   Column      Non-Null Count  Dtype         \n",
      "---  ------      --------------  -----         \n",
      " 0   user_id     500 non-null    int64         \n",
      " 1   first_name  500 non-null    object        \n",
      " 2   last_name   500 non-null    object        \n",
      " 3   age         500 non-null    int64         \n",
      " 4   city        500 non-null    object        \n",
      " 5   reg_date    500 non-null    object        \n",
      " 6   plan        500 non-null    object        \n",
      " 7   churn_date  34 non-null     datetime64[ns]\n",
      "dtypes: datetime64[ns](1), int64(2), object(5)\n",
      "memory usage: 31.4+ KB\n"
     ]
    }
   ],
   "source": [
    "# change data type to datetime in yyyy-mm-dd\n",
    "user['churn_date'] = pd.to_datetime(user['churn_date'], format='%Y-%m-%d')\n",
    "user.info()"
   ]
  },
  {
   "cell_type": "markdown",
   "metadata": {},
   "source": [
    "### Users Data Quality Enhancement"
   ]
  },
  {
   "cell_type": "markdown",
   "metadata": {},
   "source": [
    "For the hypothesis testing, user behavior data from the **NY-NJ region** is required to enable comparisons with other regions. As a result, the data must be prepared to categorize users according to their region.\n",
    "\n",
    "This process will begin by analyzing the regions of residence recorded for the users in this dataframe."
   ]
  },
  {
   "cell_type": "code",
   "execution_count": 15,
   "metadata": {
    "scrolled": true
   },
   "outputs": [
    {
     "data": {
      "text/plain": [
       "New York-Newark-Jersey City, NY-NJ-PA MSA          80\n",
       "Los Angeles-Long Beach-Anaheim, CA MSA             29\n",
       "Dallas-Fort Worth-Arlington, TX MSA                21\n",
       "Chicago-Naperville-Elgin, IL-IN-WI MSA             19\n",
       "Philadelphia-Camden-Wilmington, PA-NJ-DE-MD MSA    17\n",
       "                                                   ..\n",
       "Stockton, CA MSA                                    1\n",
       "Oxnard-Thousand Oaks-Ventura, CA MSA                1\n",
       "El Paso, TX MSA                                     1\n",
       "Jacksonville, FL MSA                                1\n",
       "Cape Coral-Fort Myers, FL MSA                       1\n",
       "Name: city, Length: 73, dtype: int64"
      ]
     },
     "execution_count": 15,
     "metadata": {},
     "output_type": "execute_result"
    }
   ],
   "source": [
    "#display unique values in column 'city'\n",
    "user['city'].value_counts()"
   ]
  },
  {
   "cell_type": "markdown",
   "metadata": {},
   "source": [
    "Based on the city name format in this dataset, the state information appears after a comma and is represented by a two-letter abbreviation. To filter users from the NY-NJ region, city information needs to be organized into a list. The list will contain two elements: the full name of the city (without abbreviations) and the state abbreviation."
   ]
  },
  {
   "cell_type": "code",
   "execution_count": 16,
   "metadata": {},
   "outputs": [
    {
     "data": {
      "text/plain": [
       "0          [Atlanta-Sandy Springs-Roswell, GA MSA]\n",
       "1                [Seattle-Tacoma-Bellevue, WA MSA]\n",
       "2           [Las Vegas-Henderson-Paradise, NV MSA]\n",
       "3                                  [Tulsa, OK MSA]\n",
       "4                [Seattle-Tacoma-Bellevue, WA MSA]\n",
       "                          ...                     \n",
       "495    [New York-Newark-Jersey City, NY-NJ-PA MSA]\n",
       "496                 [New Orleans-Metairie, LA MSA]\n",
       "497       [Los Angeles-Long Beach-Anaheim, CA MSA]\n",
       "498    [New York-Newark-Jersey City, NY-NJ-PA MSA]\n",
       "499            [Orlando-Kissimmee-Sanford, FL MSA]\n",
       "Name: city, Length: 500, dtype: object"
      ]
     },
     "execution_count": 16,
     "metadata": {},
     "output_type": "execute_result"
    }
   ],
   "source": [
    "#list of city name and state name\n",
    "user['city'].str.split(', ')"
   ]
  },
  {
   "cell_type": "code",
   "execution_count": 17,
   "metadata": {},
   "outputs": [
    {
     "data": {
      "text/plain": [
       "0            GA MSA\n",
       "1            WA MSA\n",
       "2            NV MSA\n",
       "3            OK MSA\n",
       "4            WA MSA\n",
       "           ...     \n",
       "495    NY-NJ-PA MSA\n",
       "496          LA MSA\n",
       "497          CA MSA\n",
       "498    NY-NJ-PA MSA\n",
       "499          FL MSA\n",
       "Name: city, Length: 500, dtype: object"
      ]
     },
     "execution_count": 17,
     "metadata": {},
     "output_type": "execute_result"
    }
   ],
   "source": [
    "#info of state names only (index 1)\n",
    "user['city'].str.split(', ').str[1]"
   ]
  },
  {
   "cell_type": "markdown",
   "metadata": {},
   "source": [
    "A new column named \"state\" needs to be created to store the state information for each user. However, it was found that all rows contain the letters \"MSA\" following the state code. Since the meaning of these letters is unclear in relation to the data, they will be excluded from the \"state\" column."
   ]
  },
  {
   "cell_type": "code",
   "execution_count": 18,
   "metadata": {},
   "outputs": [
    {
     "data": {
      "text/html": [
       "<div>\n",
       "<style scoped>\n",
       "    .dataframe tbody tr th:only-of-type {\n",
       "        vertical-align: middle;\n",
       "    }\n",
       "\n",
       "    .dataframe tbody tr th {\n",
       "        vertical-align: top;\n",
       "    }\n",
       "\n",
       "    .dataframe thead th {\n",
       "        text-align: right;\n",
       "    }\n",
       "</style>\n",
       "<table border=\"1\" class=\"dataframe\">\n",
       "  <thead>\n",
       "    <tr style=\"text-align: right;\">\n",
       "      <th></th>\n",
       "      <th>user_id</th>\n",
       "      <th>first_name</th>\n",
       "      <th>last_name</th>\n",
       "      <th>age</th>\n",
       "      <th>city</th>\n",
       "      <th>reg_date</th>\n",
       "      <th>plan</th>\n",
       "      <th>churn_date</th>\n",
       "      <th>state</th>\n",
       "    </tr>\n",
       "  </thead>\n",
       "  <tbody>\n",
       "    <tr>\n",
       "      <th>0</th>\n",
       "      <td>1000</td>\n",
       "      <td>Anamaria</td>\n",
       "      <td>Bauer</td>\n",
       "      <td>45</td>\n",
       "      <td>Atlanta-Sandy Springs-Roswell, GA MSA</td>\n",
       "      <td>2018-12-24</td>\n",
       "      <td>ultimate</td>\n",
       "      <td>NaT</td>\n",
       "      <td>GA</td>\n",
       "    </tr>\n",
       "    <tr>\n",
       "      <th>1</th>\n",
       "      <td>1001</td>\n",
       "      <td>Mickey</td>\n",
       "      <td>Wilkerson</td>\n",
       "      <td>28</td>\n",
       "      <td>Seattle-Tacoma-Bellevue, WA MSA</td>\n",
       "      <td>2018-08-13</td>\n",
       "      <td>surf</td>\n",
       "      <td>NaT</td>\n",
       "      <td>WA</td>\n",
       "    </tr>\n",
       "    <tr>\n",
       "      <th>2</th>\n",
       "      <td>1002</td>\n",
       "      <td>Carlee</td>\n",
       "      <td>Hoffman</td>\n",
       "      <td>36</td>\n",
       "      <td>Las Vegas-Henderson-Paradise, NV MSA</td>\n",
       "      <td>2018-10-21</td>\n",
       "      <td>surf</td>\n",
       "      <td>NaT</td>\n",
       "      <td>NV</td>\n",
       "    </tr>\n",
       "    <tr>\n",
       "      <th>3</th>\n",
       "      <td>1003</td>\n",
       "      <td>Reynaldo</td>\n",
       "      <td>Jenkins</td>\n",
       "      <td>52</td>\n",
       "      <td>Tulsa, OK MSA</td>\n",
       "      <td>2018-01-28</td>\n",
       "      <td>surf</td>\n",
       "      <td>NaT</td>\n",
       "      <td>OK</td>\n",
       "    </tr>\n",
       "    <tr>\n",
       "      <th>4</th>\n",
       "      <td>1004</td>\n",
       "      <td>Leonila</td>\n",
       "      <td>Thompson</td>\n",
       "      <td>40</td>\n",
       "      <td>Seattle-Tacoma-Bellevue, WA MSA</td>\n",
       "      <td>2018-05-23</td>\n",
       "      <td>surf</td>\n",
       "      <td>NaT</td>\n",
       "      <td>WA</td>\n",
       "    </tr>\n",
       "  </tbody>\n",
       "</table>\n",
       "</div>"
      ],
      "text/plain": [
       "   user_id first_name  last_name  age                                   city  \\\n",
       "0     1000   Anamaria      Bauer   45  Atlanta-Sandy Springs-Roswell, GA MSA   \n",
       "1     1001     Mickey  Wilkerson   28        Seattle-Tacoma-Bellevue, WA MSA   \n",
       "2     1002     Carlee    Hoffman   36   Las Vegas-Henderson-Paradise, NV MSA   \n",
       "3     1003   Reynaldo    Jenkins   52                          Tulsa, OK MSA   \n",
       "4     1004    Leonila   Thompson   40        Seattle-Tacoma-Bellevue, WA MSA   \n",
       "\n",
       "     reg_date      plan churn_date state  \n",
       "0  2018-12-24  ultimate        NaT   GA   \n",
       "1  2018-08-13      surf        NaT   WA   \n",
       "2  2018-10-21      surf        NaT   NV   \n",
       "3  2018-01-28      surf        NaT   OK   \n",
       "4  2018-05-23      surf        NaT   WA   "
      ]
     },
     "execution_count": 18,
     "metadata": {},
     "output_type": "execute_result"
    }
   ],
   "source": [
    "# insert states' names into separate table called 'state'\n",
    "user['state'] = user['city'].str.split(', ').str[1]\n",
    "\n",
    "# clean \"MSA\" attribute on each state name\n",
    "user['state'] = user['state'].str.replace('MSA', '')\n",
    "\n",
    "#display first 5 rows of dataframe\n",
    "user.head()"
   ]
  },
  {
   "cell_type": "code",
   "execution_count": 19,
   "metadata": {
    "scrolled": true
   },
   "outputs": [
    {
     "data": {
      "text/html": [
       "<div>\n",
       "<style scoped>\n",
       "    .dataframe tbody tr th:only-of-type {\n",
       "        vertical-align: middle;\n",
       "    }\n",
       "\n",
       "    .dataframe tbody tr th {\n",
       "        vertical-align: top;\n",
       "    }\n",
       "\n",
       "    .dataframe thead th {\n",
       "        text-align: right;\n",
       "    }\n",
       "</style>\n",
       "<table border=\"1\" class=\"dataframe\">\n",
       "  <thead>\n",
       "    <tr style=\"text-align: right;\">\n",
       "      <th></th>\n",
       "      <th>user_id</th>\n",
       "      <th>first_name</th>\n",
       "      <th>last_name</th>\n",
       "      <th>age</th>\n",
       "      <th>city</th>\n",
       "      <th>reg_date</th>\n",
       "      <th>plan</th>\n",
       "      <th>churn_date</th>\n",
       "      <th>state</th>\n",
       "      <th>is_nynj</th>\n",
       "    </tr>\n",
       "  </thead>\n",
       "  <tbody>\n",
       "    <tr>\n",
       "      <th>0</th>\n",
       "      <td>1000</td>\n",
       "      <td>Anamaria</td>\n",
       "      <td>Bauer</td>\n",
       "      <td>45</td>\n",
       "      <td>Atlanta-Sandy Springs-Roswell, GA MSA</td>\n",
       "      <td>2018-12-24</td>\n",
       "      <td>ultimate</td>\n",
       "      <td>NaT</td>\n",
       "      <td>GA</td>\n",
       "      <td>0</td>\n",
       "    </tr>\n",
       "    <tr>\n",
       "      <th>1</th>\n",
       "      <td>1001</td>\n",
       "      <td>Mickey</td>\n",
       "      <td>Wilkerson</td>\n",
       "      <td>28</td>\n",
       "      <td>Seattle-Tacoma-Bellevue, WA MSA</td>\n",
       "      <td>2018-08-13</td>\n",
       "      <td>surf</td>\n",
       "      <td>NaT</td>\n",
       "      <td>WA</td>\n",
       "      <td>0</td>\n",
       "    </tr>\n",
       "    <tr>\n",
       "      <th>2</th>\n",
       "      <td>1002</td>\n",
       "      <td>Carlee</td>\n",
       "      <td>Hoffman</td>\n",
       "      <td>36</td>\n",
       "      <td>Las Vegas-Henderson-Paradise, NV MSA</td>\n",
       "      <td>2018-10-21</td>\n",
       "      <td>surf</td>\n",
       "      <td>NaT</td>\n",
       "      <td>NV</td>\n",
       "      <td>0</td>\n",
       "    </tr>\n",
       "    <tr>\n",
       "      <th>3</th>\n",
       "      <td>1003</td>\n",
       "      <td>Reynaldo</td>\n",
       "      <td>Jenkins</td>\n",
       "      <td>52</td>\n",
       "      <td>Tulsa, OK MSA</td>\n",
       "      <td>2018-01-28</td>\n",
       "      <td>surf</td>\n",
       "      <td>NaT</td>\n",
       "      <td>OK</td>\n",
       "      <td>0</td>\n",
       "    </tr>\n",
       "    <tr>\n",
       "      <th>4</th>\n",
       "      <td>1004</td>\n",
       "      <td>Leonila</td>\n",
       "      <td>Thompson</td>\n",
       "      <td>40</td>\n",
       "      <td>Seattle-Tacoma-Bellevue, WA MSA</td>\n",
       "      <td>2018-05-23</td>\n",
       "      <td>surf</td>\n",
       "      <td>NaT</td>\n",
       "      <td>WA</td>\n",
       "      <td>0</td>\n",
       "    </tr>\n",
       "  </tbody>\n",
       "</table>\n",
       "</div>"
      ],
      "text/plain": [
       "   user_id first_name  last_name  age                                   city  \\\n",
       "0     1000   Anamaria      Bauer   45  Atlanta-Sandy Springs-Roswell, GA MSA   \n",
       "1     1001     Mickey  Wilkerson   28        Seattle-Tacoma-Bellevue, WA MSA   \n",
       "2     1002     Carlee    Hoffman   36   Las Vegas-Henderson-Paradise, NV MSA   \n",
       "3     1003   Reynaldo    Jenkins   52                          Tulsa, OK MSA   \n",
       "4     1004    Leonila   Thompson   40        Seattle-Tacoma-Bellevue, WA MSA   \n",
       "\n",
       "     reg_date      plan churn_date state  is_nynj  \n",
       "0  2018-12-24  ultimate        NaT   GA         0  \n",
       "1  2018-08-13      surf        NaT   WA         0  \n",
       "2  2018-10-21      surf        NaT   NV         0  \n",
       "3  2018-01-28      surf        NaT   OK         0  \n",
       "4  2018-05-23      surf        NaT   WA         0  "
      ]
     },
     "execution_count": 19,
     "metadata": {},
     "output_type": "execute_result"
    }
   ],
   "source": [
    "#adding column 'is_nynj' containing status (0 or 1) if a user is from NY-NY region\n",
    "user['is_nynj'] = user['state'].str.contains('NY-NJ', regex=True)\n",
    "user['is_nynj'] = user['is_nynj'].replace(True, 1).replace(False, 0)\n",
    "\n",
    "#display first 5 rows\n",
    "user.head()"
   ]
  },
  {
   "cell_type": "markdown",
   "metadata": {},
   "source": [
    "A new column called `is_nynj` has been added into the dataframe, containing information of whether a user is from NY-NJ region. Value '1' indicates that the user IS from NY-NJ region, where value '0' indicates that the user is NOT from NY-NJ. "
   ]
  },
  {
   "cell_type": "markdown",
   "metadata": {},
   "source": [
    "Several columns in the `user` table contain information that is not required for the analysis. To enhance the readability of the table, these columns need to be removed. \n",
    "\n",
    "The columns to be eliminated include `first_name`, `last_name`, and `city`. The 'city' column is no longer necessary, as there is now a column (`is_nynj`) that indicates whether the user is located in the NY-NJ region."
   ]
  },
  {
   "cell_type": "code",
   "execution_count": 20,
   "metadata": {},
   "outputs": [
    {
     "data": {
      "text/html": [
       "<div>\n",
       "<style scoped>\n",
       "    .dataframe tbody tr th:only-of-type {\n",
       "        vertical-align: middle;\n",
       "    }\n",
       "\n",
       "    .dataframe tbody tr th {\n",
       "        vertical-align: top;\n",
       "    }\n",
       "\n",
       "    .dataframe thead th {\n",
       "        text-align: right;\n",
       "    }\n",
       "</style>\n",
       "<table border=\"1\" class=\"dataframe\">\n",
       "  <thead>\n",
       "    <tr style=\"text-align: right;\">\n",
       "      <th></th>\n",
       "      <th>user_id</th>\n",
       "      <th>age</th>\n",
       "      <th>reg_date</th>\n",
       "      <th>plan</th>\n",
       "      <th>churn_date</th>\n",
       "      <th>state</th>\n",
       "      <th>is_nynj</th>\n",
       "    </tr>\n",
       "  </thead>\n",
       "  <tbody>\n",
       "    <tr>\n",
       "      <th>0</th>\n",
       "      <td>1000</td>\n",
       "      <td>45</td>\n",
       "      <td>2018-12-24</td>\n",
       "      <td>ultimate</td>\n",
       "      <td>NaT</td>\n",
       "      <td>GA</td>\n",
       "      <td>0</td>\n",
       "    </tr>\n",
       "    <tr>\n",
       "      <th>1</th>\n",
       "      <td>1001</td>\n",
       "      <td>28</td>\n",
       "      <td>2018-08-13</td>\n",
       "      <td>surf</td>\n",
       "      <td>NaT</td>\n",
       "      <td>WA</td>\n",
       "      <td>0</td>\n",
       "    </tr>\n",
       "    <tr>\n",
       "      <th>2</th>\n",
       "      <td>1002</td>\n",
       "      <td>36</td>\n",
       "      <td>2018-10-21</td>\n",
       "      <td>surf</td>\n",
       "      <td>NaT</td>\n",
       "      <td>NV</td>\n",
       "      <td>0</td>\n",
       "    </tr>\n",
       "    <tr>\n",
       "      <th>3</th>\n",
       "      <td>1003</td>\n",
       "      <td>52</td>\n",
       "      <td>2018-01-28</td>\n",
       "      <td>surf</td>\n",
       "      <td>NaT</td>\n",
       "      <td>OK</td>\n",
       "      <td>0</td>\n",
       "    </tr>\n",
       "    <tr>\n",
       "      <th>4</th>\n",
       "      <td>1004</td>\n",
       "      <td>40</td>\n",
       "      <td>2018-05-23</td>\n",
       "      <td>surf</td>\n",
       "      <td>NaT</td>\n",
       "      <td>WA</td>\n",
       "      <td>0</td>\n",
       "    </tr>\n",
       "  </tbody>\n",
       "</table>\n",
       "</div>"
      ],
      "text/plain": [
       "   user_id  age    reg_date      plan churn_date state  is_nynj\n",
       "0     1000   45  2018-12-24  ultimate        NaT   GA         0\n",
       "1     1001   28  2018-08-13      surf        NaT   WA         0\n",
       "2     1002   36  2018-10-21      surf        NaT   NV         0\n",
       "3     1003   52  2018-01-28      surf        NaT   OK         0\n",
       "4     1004   40  2018-05-23      surf        NaT   WA         0"
      ]
     },
     "execution_count": 20,
     "metadata": {},
     "output_type": "execute_result"
    }
   ],
   "source": [
    "#drop unnecessary columns from dataset\n",
    "user.drop(['city', 'first_name', 'last_name'], axis=1, inplace=True)\n",
    "user.head()"
   ]
  },
  {
   "cell_type": "markdown",
   "metadata": {},
   "source": [
    "[Back to Data Preparation](#Data-Preparation)"
   ]
  },
  {
   "cell_type": "markdown",
   "metadata": {},
   "source": [
    "## Phone Call"
   ]
  },
  {
   "cell_type": "code",
   "execution_count": 21,
   "metadata": {},
   "outputs": [
    {
     "name": "stdout",
     "output_type": "stream",
     "text": [
      "<class 'pandas.core.frame.DataFrame'>\n",
      "RangeIndex: 137735 entries, 0 to 137734\n",
      "Data columns (total 4 columns):\n",
      " #   Column     Non-Null Count   Dtype  \n",
      "---  ------     --------------   -----  \n",
      " 0   id         137735 non-null  object \n",
      " 1   user_id    137735 non-null  int64  \n",
      " 2   call_date  137735 non-null  object \n",
      " 3   duration   137735 non-null  float64\n",
      "dtypes: float64(1), int64(1), object(2)\n",
      "memory usage: 4.2+ MB\n"
     ]
    }
   ],
   "source": [
    "#general info of phone call DataFrame\n",
    "call.info()"
   ]
  },
  {
   "cell_type": "code",
   "execution_count": 22,
   "metadata": {},
   "outputs": [
    {
     "data": {
      "text/html": [
       "<div>\n",
       "<style scoped>\n",
       "    .dataframe tbody tr th:only-of-type {\n",
       "        vertical-align: middle;\n",
       "    }\n",
       "\n",
       "    .dataframe tbody tr th {\n",
       "        vertical-align: top;\n",
       "    }\n",
       "\n",
       "    .dataframe thead th {\n",
       "        text-align: right;\n",
       "    }\n",
       "</style>\n",
       "<table border=\"1\" class=\"dataframe\">\n",
       "  <thead>\n",
       "    <tr style=\"text-align: right;\">\n",
       "      <th></th>\n",
       "      <th>id</th>\n",
       "      <th>user_id</th>\n",
       "      <th>call_date</th>\n",
       "      <th>duration</th>\n",
       "    </tr>\n",
       "  </thead>\n",
       "  <tbody>\n",
       "    <tr>\n",
       "      <th>38193</th>\n",
       "      <td>1144_73</td>\n",
       "      <td>1144</td>\n",
       "      <td>2018-06-16</td>\n",
       "      <td>5.15</td>\n",
       "    </tr>\n",
       "    <tr>\n",
       "      <th>50527</th>\n",
       "      <td>1182_104</td>\n",
       "      <td>1182</td>\n",
       "      <td>2018-08-07</td>\n",
       "      <td>4.83</td>\n",
       "    </tr>\n",
       "    <tr>\n",
       "      <th>114932</th>\n",
       "      <td>1403_6</td>\n",
       "      <td>1403</td>\n",
       "      <td>2018-05-28</td>\n",
       "      <td>17.25</td>\n",
       "    </tr>\n",
       "    <tr>\n",
       "      <th>28408</th>\n",
       "      <td>1109_35</td>\n",
       "      <td>1109</td>\n",
       "      <td>2018-10-15</td>\n",
       "      <td>5.85</td>\n",
       "    </tr>\n",
       "    <tr>\n",
       "      <th>85174</th>\n",
       "      <td>1313_154</td>\n",
       "      <td>1313</td>\n",
       "      <td>2018-09-25</td>\n",
       "      <td>15.09</td>\n",
       "    </tr>\n",
       "  </tbody>\n",
       "</table>\n",
       "</div>"
      ],
      "text/plain": [
       "              id  user_id   call_date  duration\n",
       "38193    1144_73     1144  2018-06-16      5.15\n",
       "50527   1182_104     1182  2018-08-07      4.83\n",
       "114932    1403_6     1403  2018-05-28     17.25\n",
       "28408    1109_35     1109  2018-10-15      5.85\n",
       "85174   1313_154     1313  2018-09-25     15.09"
      ]
     },
     "execution_count": 22,
     "metadata": {},
     "output_type": "execute_result"
    }
   ],
   "source": [
    "# sample of 'call' dataset\n",
    "call.sample(5)"
   ]
  },
  {
   "cell_type": "code",
   "execution_count": 23,
   "metadata": {},
   "outputs": [
    {
     "name": "stdout",
     "output_type": "stream",
     "text": [
      "call duplicate:  0\n"
     ]
    }
   ],
   "source": [
    "#check duplicates in dataset\n",
    "print('call duplicate: ', call.duplicated().sum())"
   ]
  },
  {
   "cell_type": "markdown",
   "metadata": {},
   "source": [
    "This table contains data on **unique calls** made by users during the data collection period. There are 137,735 entries, as it can be confirmed that each user made more than one phone call.\n",
    "\n",
    "In the **duration** column, the time unit used is **minutes**. A value of '0.00' in this column indicates an unanswered call.\n",
    "\n",
    "There are no missing values in this table. The data type for the **call_date** (date of call) column should be **datetime**, while the data types for the other three columns are already appropriate.\n",
    "\n",
    "No duplicate records exist in the call data.\n",
    "\n",
    "Another aspect that requires correction is the values in the **duration** column, which currently reflect the actual duration of the phone calls made. Since the prepaid plan system calculates call duration in **minutes**, any call duration recorded in seconds needs to be **rounded up**."
   ]
  },
  {
   "cell_type": "code",
   "execution_count": 24,
   "metadata": {},
   "outputs": [
    {
     "data": {
      "text/html": [
       "<div>\n",
       "<style scoped>\n",
       "    .dataframe tbody tr th:only-of-type {\n",
       "        vertical-align: middle;\n",
       "    }\n",
       "\n",
       "    .dataframe tbody tr th {\n",
       "        vertical-align: top;\n",
       "    }\n",
       "\n",
       "    .dataframe thead th {\n",
       "        text-align: right;\n",
       "    }\n",
       "</style>\n",
       "<table border=\"1\" class=\"dataframe\">\n",
       "  <thead>\n",
       "    <tr style=\"text-align: right;\">\n",
       "      <th></th>\n",
       "      <th>id</th>\n",
       "      <th>user_id</th>\n",
       "      <th>call_date</th>\n",
       "      <th>duration</th>\n",
       "    </tr>\n",
       "  </thead>\n",
       "  <tbody>\n",
       "    <tr>\n",
       "      <th>0</th>\n",
       "      <td>1000_93</td>\n",
       "      <td>1000</td>\n",
       "      <td>2018-12-27</td>\n",
       "      <td>9</td>\n",
       "    </tr>\n",
       "    <tr>\n",
       "      <th>1</th>\n",
       "      <td>1000_145</td>\n",
       "      <td>1000</td>\n",
       "      <td>2018-12-27</td>\n",
       "      <td>14</td>\n",
       "    </tr>\n",
       "    <tr>\n",
       "      <th>2</th>\n",
       "      <td>1000_247</td>\n",
       "      <td>1000</td>\n",
       "      <td>2018-12-27</td>\n",
       "      <td>15</td>\n",
       "    </tr>\n",
       "    <tr>\n",
       "      <th>3</th>\n",
       "      <td>1000_309</td>\n",
       "      <td>1000</td>\n",
       "      <td>2018-12-28</td>\n",
       "      <td>6</td>\n",
       "    </tr>\n",
       "    <tr>\n",
       "      <th>4</th>\n",
       "      <td>1000_380</td>\n",
       "      <td>1000</td>\n",
       "      <td>2018-12-30</td>\n",
       "      <td>5</td>\n",
       "    </tr>\n",
       "  </tbody>\n",
       "</table>\n",
       "</div>"
      ],
      "text/plain": [
       "         id  user_id   call_date  duration\n",
       "0   1000_93     1000  2018-12-27         9\n",
       "1  1000_145     1000  2018-12-27        14\n",
       "2  1000_247     1000  2018-12-27        15\n",
       "3  1000_309     1000  2018-12-28         6\n",
       "4  1000_380     1000  2018-12-30         5"
      ]
     },
     "execution_count": 24,
     "metadata": {},
     "output_type": "execute_result"
    }
   ],
   "source": [
    " #rounding up phone call duration\n",
    "call['duration'] = np.ceil(call['duration']).astype('int16')\n",
    "call.head()"
   ]
  },
  {
   "cell_type": "markdown",
   "metadata": {},
   "source": [
    "Durattion of phone calls have now been rounded up and the data type has been ammended to integer. "
   ]
  },
  {
   "cell_type": "markdown",
   "metadata": {},
   "source": [
    "### Phone Call Data Refinement"
   ]
  },
  {
   "cell_type": "markdown",
   "metadata": {},
   "source": [
    "The data type of column `call_date` needs to be changed from object to datetime. "
   ]
  },
  {
   "cell_type": "code",
   "execution_count": 25,
   "metadata": {
    "scrolled": true
   },
   "outputs": [
    {
     "name": "stdout",
     "output_type": "stream",
     "text": [
      "<class 'pandas.core.frame.DataFrame'>\n",
      "RangeIndex: 137735 entries, 0 to 137734\n",
      "Data columns (total 4 columns):\n",
      " #   Column     Non-Null Count   Dtype         \n",
      "---  ------     --------------   -----         \n",
      " 0   id         137735 non-null  object        \n",
      " 1   user_id    137735 non-null  int64         \n",
      " 2   call_date  137735 non-null  datetime64[ns]\n",
      " 3   duration   137735 non-null  int16         \n",
      "dtypes: datetime64[ns](1), int16(1), int64(1), object(1)\n",
      "memory usage: 3.4+ MB\n"
     ]
    }
   ],
   "source": [
    "#change 'call_date' data type from object to datetime in YYYY-mm-dd format\n",
    "call['call_date'] = pd.to_datetime(call['call_date'], format='%Y-%m-%d')\n",
    "call.info()"
   ]
  },
  {
   "cell_type": "markdown",
   "metadata": {},
   "source": [
    "### Phone Call Data Quality Enhancement"
   ]
  },
  {
   "cell_type": "markdown",
   "metadata": {},
   "source": [
    "As the five dataframes will be merged into one, it is necessary to standardize the definition for each row (representing each user) to a **monthly** format. To achieve this, an additional column must be added to the `call` dataframe that provides the **month and year** of each phone call.\n",
    "\n",
    "Including the year is essential to prevent the aggregation of call durations from the same month that actually occurred in different years."
   ]
  },
  {
   "cell_type": "code",
   "execution_count": 26,
   "metadata": {},
   "outputs": [],
   "source": [
    "#function to obtain the month and year information for each row\n",
    "def to_month(dataset, col_name):\n",
    "    temp = pd.to_datetime(dataset[col_name])\n",
    "    temp = temp.dt.to_period(\"M\")\n",
    "    return temp"
   ]
  },
  {
   "cell_type": "code",
   "execution_count": 27,
   "metadata": {},
   "outputs": [
    {
     "data": {
      "text/html": [
       "<div>\n",
       "<style scoped>\n",
       "    .dataframe tbody tr th:only-of-type {\n",
       "        vertical-align: middle;\n",
       "    }\n",
       "\n",
       "    .dataframe tbody tr th {\n",
       "        vertical-align: top;\n",
       "    }\n",
       "\n",
       "    .dataframe thead th {\n",
       "        text-align: right;\n",
       "    }\n",
       "</style>\n",
       "<table border=\"1\" class=\"dataframe\">\n",
       "  <thead>\n",
       "    <tr style=\"text-align: right;\">\n",
       "      <th></th>\n",
       "      <th>id</th>\n",
       "      <th>user_id</th>\n",
       "      <th>call_date</th>\n",
       "      <th>duration</th>\n",
       "      <th>month</th>\n",
       "    </tr>\n",
       "  </thead>\n",
       "  <tbody>\n",
       "    <tr>\n",
       "      <th>0</th>\n",
       "      <td>1000_93</td>\n",
       "      <td>1000</td>\n",
       "      <td>2018-12-27</td>\n",
       "      <td>9</td>\n",
       "      <td>2018-12</td>\n",
       "    </tr>\n",
       "    <tr>\n",
       "      <th>1</th>\n",
       "      <td>1000_145</td>\n",
       "      <td>1000</td>\n",
       "      <td>2018-12-27</td>\n",
       "      <td>14</td>\n",
       "      <td>2018-12</td>\n",
       "    </tr>\n",
       "    <tr>\n",
       "      <th>2</th>\n",
       "      <td>1000_247</td>\n",
       "      <td>1000</td>\n",
       "      <td>2018-12-27</td>\n",
       "      <td>15</td>\n",
       "      <td>2018-12</td>\n",
       "    </tr>\n",
       "    <tr>\n",
       "      <th>3</th>\n",
       "      <td>1000_309</td>\n",
       "      <td>1000</td>\n",
       "      <td>2018-12-28</td>\n",
       "      <td>6</td>\n",
       "      <td>2018-12</td>\n",
       "    </tr>\n",
       "    <tr>\n",
       "      <th>4</th>\n",
       "      <td>1000_380</td>\n",
       "      <td>1000</td>\n",
       "      <td>2018-12-30</td>\n",
       "      <td>5</td>\n",
       "      <td>2018-12</td>\n",
       "    </tr>\n",
       "  </tbody>\n",
       "</table>\n",
       "</div>"
      ],
      "text/plain": [
       "         id  user_id  call_date  duration    month\n",
       "0   1000_93     1000 2018-12-27         9  2018-12\n",
       "1  1000_145     1000 2018-12-27        14  2018-12\n",
       "2  1000_247     1000 2018-12-27        15  2018-12\n",
       "3  1000_309     1000 2018-12-28         6  2018-12\n",
       "4  1000_380     1000 2018-12-30         5  2018-12"
      ]
     },
     "execution_count": 27,
     "metadata": {},
     "output_type": "execute_result"
    }
   ],
   "source": [
    "# adding column 'month' into dataset 'call' by applying function 'to_month'\n",
    "call['month'] = to_month(call, 'call_date')\n",
    "call.head()"
   ]
  },
  {
   "cell_type": "markdown",
   "metadata": {},
   "source": [
    "Column `month` containing the month and year where a phone call occured has been added into the dataframe."
   ]
  },
  {
   "cell_type": "markdown",
   "metadata": {},
   "source": [
    "[Back to Data Preparation](#Data-Preparation)"
   ]
  },
  {
   "cell_type": "markdown",
   "metadata": {},
   "source": [
    "## Text Message"
   ]
  },
  {
   "cell_type": "code",
   "execution_count": 28,
   "metadata": {},
   "outputs": [
    {
     "name": "stdout",
     "output_type": "stream",
     "text": [
      "<class 'pandas.core.frame.DataFrame'>\n",
      "RangeIndex: 76051 entries, 0 to 76050\n",
      "Data columns (total 3 columns):\n",
      " #   Column        Non-Null Count  Dtype \n",
      "---  ------        --------------  ----- \n",
      " 0   id            76051 non-null  object\n",
      " 1   user_id       76051 non-null  int64 \n",
      " 2   message_date  76051 non-null  object\n",
      "dtypes: int64(1), object(2)\n",
      "memory usage: 1.7+ MB\n"
     ]
    }
   ],
   "source": [
    "#general info of DataFrame SMS\n",
    "sms.info()"
   ]
  },
  {
   "cell_type": "code",
   "execution_count": 29,
   "metadata": {},
   "outputs": [
    {
     "data": {
      "text/html": [
       "<div>\n",
       "<style scoped>\n",
       "    .dataframe tbody tr th:only-of-type {\n",
       "        vertical-align: middle;\n",
       "    }\n",
       "\n",
       "    .dataframe tbody tr th {\n",
       "        vertical-align: top;\n",
       "    }\n",
       "\n",
       "    .dataframe thead th {\n",
       "        text-align: right;\n",
       "    }\n",
       "</style>\n",
       "<table border=\"1\" class=\"dataframe\">\n",
       "  <thead>\n",
       "    <tr style=\"text-align: right;\">\n",
       "      <th></th>\n",
       "      <th>id</th>\n",
       "      <th>user_id</th>\n",
       "      <th>message_date</th>\n",
       "    </tr>\n",
       "  </thead>\n",
       "  <tbody>\n",
       "    <tr>\n",
       "      <th>48960</th>\n",
       "      <td>1327_53</td>\n",
       "      <td>1327</td>\n",
       "      <td>2018-09-09</td>\n",
       "    </tr>\n",
       "    <tr>\n",
       "      <th>28476</th>\n",
       "      <td>1174_266</td>\n",
       "      <td>1174</td>\n",
       "      <td>2018-11-11</td>\n",
       "    </tr>\n",
       "    <tr>\n",
       "      <th>645</th>\n",
       "      <td>1006_523</td>\n",
       "      <td>1006</td>\n",
       "      <td>2018-12-14</td>\n",
       "    </tr>\n",
       "    <tr>\n",
       "      <th>61079</th>\n",
       "      <td>1384_136</td>\n",
       "      <td>1384</td>\n",
       "      <td>2018-08-22</td>\n",
       "    </tr>\n",
       "    <tr>\n",
       "      <th>27736</th>\n",
       "      <td>1172_193</td>\n",
       "      <td>1172</td>\n",
       "      <td>2018-10-03</td>\n",
       "    </tr>\n",
       "  </tbody>\n",
       "</table>\n",
       "</div>"
      ],
      "text/plain": [
       "             id  user_id message_date\n",
       "48960   1327_53     1327   2018-09-09\n",
       "28476  1174_266     1174   2018-11-11\n",
       "645    1006_523     1006   2018-12-14\n",
       "61079  1384_136     1384   2018-08-22\n",
       "27736  1172_193     1172   2018-10-03"
      ]
     },
     "execution_count": 29,
     "metadata": {},
     "output_type": "execute_result"
    }
   ],
   "source": [
    "# data sampe of SMS\n",
    "sms.sample(5)"
   ]
  },
  {
   "cell_type": "code",
   "execution_count": 30,
   "metadata": {},
   "outputs": [
    {
     "name": "stdout",
     "output_type": "stream",
     "text": [
      "SMS duplicate:  0\n"
     ]
    }
   ],
   "source": [
    "# check duplicates in dataset\n",
    "print('SMS duplicate: ', sms.duplicated().sum())"
   ]
  },
  {
   "cell_type": "markdown",
   "metadata": {},
   "source": [
    "This table contains data on **unique text messages** sent by users during the data collection period. There are 76,051 entries, as it can be confirmed that each user sent more than one SMS.\n",
    "\n",
    "There are no missing values in this table. The data type for the **message_date** (date the text message was sent) column should be **datetime**, while the other columns have appropriate data types.\n",
    "\n",
    "No duplicate records exist in the SMS activity data."
   ]
  },
  {
   "cell_type": "markdown",
   "metadata": {},
   "source": [
    "### Text Message Data Refinement"
   ]
  },
  {
   "cell_type": "markdown",
   "metadata": {},
   "source": [
    "The data type in column `message_date` should be changed to **datetime**."
   ]
  },
  {
   "cell_type": "code",
   "execution_count": 31,
   "metadata": {},
   "outputs": [
    {
     "name": "stdout",
     "output_type": "stream",
     "text": [
      "<class 'pandas.core.frame.DataFrame'>\n",
      "RangeIndex: 76051 entries, 0 to 76050\n",
      "Data columns (total 3 columns):\n",
      " #   Column        Non-Null Count  Dtype         \n",
      "---  ------        --------------  -----         \n",
      " 0   id            76051 non-null  object        \n",
      " 1   user_id       76051 non-null  int64         \n",
      " 2   message_date  76051 non-null  datetime64[ns]\n",
      "dtypes: datetime64[ns](1), int64(1), object(1)\n",
      "memory usage: 1.7+ MB\n"
     ]
    }
   ],
   "source": [
    "# change data type to datetime with yyyy-mm-dd format \n",
    "sms['message_date'] = pd.to_datetime(sms['message_date'], format='%Y-%m-%d')\n",
    "sms.info()"
   ]
  },
  {
   "cell_type": "markdown",
   "metadata": {},
   "source": [
    "### Text Message Data Quality Enhancement"
   ]
  },
  {
   "cell_type": "markdown",
   "metadata": {},
   "source": [
    "As the five dataframes will be merged into one, it is essential to standardize the definition for each row (representing each user) to a **monthly** format. To accomplish this, an additional column must be added to the 'sms' table that provides the **month and year** of each text message sent.\n",
    "\n",
    "Including the year is crucial to prevent the aggregation of text message counts from the same month that actually occurred in different years."
   ]
  },
  {
   "cell_type": "code",
   "execution_count": 32,
   "metadata": {},
   "outputs": [
    {
     "data": {
      "text/html": [
       "<div>\n",
       "<style scoped>\n",
       "    .dataframe tbody tr th:only-of-type {\n",
       "        vertical-align: middle;\n",
       "    }\n",
       "\n",
       "    .dataframe tbody tr th {\n",
       "        vertical-align: top;\n",
       "    }\n",
       "\n",
       "    .dataframe thead th {\n",
       "        text-align: right;\n",
       "    }\n",
       "</style>\n",
       "<table border=\"1\" class=\"dataframe\">\n",
       "  <thead>\n",
       "    <tr style=\"text-align: right;\">\n",
       "      <th></th>\n",
       "      <th>id</th>\n",
       "      <th>user_id</th>\n",
       "      <th>message_date</th>\n",
       "      <th>month</th>\n",
       "    </tr>\n",
       "  </thead>\n",
       "  <tbody>\n",
       "    <tr>\n",
       "      <th>0</th>\n",
       "      <td>1000_125</td>\n",
       "      <td>1000</td>\n",
       "      <td>2018-12-27</td>\n",
       "      <td>2018-12</td>\n",
       "    </tr>\n",
       "    <tr>\n",
       "      <th>1</th>\n",
       "      <td>1000_160</td>\n",
       "      <td>1000</td>\n",
       "      <td>2018-12-31</td>\n",
       "      <td>2018-12</td>\n",
       "    </tr>\n",
       "    <tr>\n",
       "      <th>2</th>\n",
       "      <td>1000_223</td>\n",
       "      <td>1000</td>\n",
       "      <td>2018-12-31</td>\n",
       "      <td>2018-12</td>\n",
       "    </tr>\n",
       "    <tr>\n",
       "      <th>3</th>\n",
       "      <td>1000_251</td>\n",
       "      <td>1000</td>\n",
       "      <td>2018-12-27</td>\n",
       "      <td>2018-12</td>\n",
       "    </tr>\n",
       "    <tr>\n",
       "      <th>4</th>\n",
       "      <td>1000_255</td>\n",
       "      <td>1000</td>\n",
       "      <td>2018-12-26</td>\n",
       "      <td>2018-12</td>\n",
       "    </tr>\n",
       "  </tbody>\n",
       "</table>\n",
       "</div>"
      ],
      "text/plain": [
       "         id  user_id message_date    month\n",
       "0  1000_125     1000   2018-12-27  2018-12\n",
       "1  1000_160     1000   2018-12-31  2018-12\n",
       "2  1000_223     1000   2018-12-31  2018-12\n",
       "3  1000_251     1000   2018-12-27  2018-12\n",
       "4  1000_255     1000   2018-12-26  2018-12"
      ]
     },
     "execution_count": 32,
     "metadata": {},
     "output_type": "execute_result"
    }
   ],
   "source": [
    "# adding column 'month' in dataset 'sms' by applying function 'to_month'\n",
    "sms['month'] = to_month(sms, 'message_date')\n",
    "sms.head()"
   ]
  },
  {
   "cell_type": "markdown",
   "metadata": {},
   "source": [
    "## Internet"
   ]
  },
  {
   "cell_type": "code",
   "execution_count": 33,
   "metadata": {},
   "outputs": [
    {
     "name": "stdout",
     "output_type": "stream",
     "text": [
      "<class 'pandas.core.frame.DataFrame'>\n",
      "RangeIndex: 104825 entries, 0 to 104824\n",
      "Data columns (total 4 columns):\n",
      " #   Column        Non-Null Count   Dtype  \n",
      "---  ------        --------------   -----  \n",
      " 0   id            104825 non-null  object \n",
      " 1   user_id       104825 non-null  int64  \n",
      " 2   session_date  104825 non-null  object \n",
      " 3   mb_used       104825 non-null  float64\n",
      "dtypes: float64(1), int64(1), object(2)\n",
      "memory usage: 3.2+ MB\n"
     ]
    }
   ],
   "source": [
    "# general info of internet DataFrame\n",
    "internet.info()"
   ]
  },
  {
   "cell_type": "code",
   "execution_count": 34,
   "metadata": {},
   "outputs": [
    {
     "data": {
      "text/html": [
       "<div>\n",
       "<style scoped>\n",
       "    .dataframe tbody tr th:only-of-type {\n",
       "        vertical-align: middle;\n",
       "    }\n",
       "\n",
       "    .dataframe tbody tr th {\n",
       "        vertical-align: top;\n",
       "    }\n",
       "\n",
       "    .dataframe thead th {\n",
       "        text-align: right;\n",
       "    }\n",
       "</style>\n",
       "<table border=\"1\" class=\"dataframe\">\n",
       "  <thead>\n",
       "    <tr style=\"text-align: right;\">\n",
       "      <th></th>\n",
       "      <th>id</th>\n",
       "      <th>user_id</th>\n",
       "      <th>session_date</th>\n",
       "      <th>mb_used</th>\n",
       "    </tr>\n",
       "  </thead>\n",
       "  <tbody>\n",
       "    <tr>\n",
       "      <th>97133</th>\n",
       "      <td>1458_91</td>\n",
       "      <td>1458</td>\n",
       "      <td>2018-08-23</td>\n",
       "      <td>141.83</td>\n",
       "    </tr>\n",
       "    <tr>\n",
       "      <th>93583</th>\n",
       "      <td>1436_363</td>\n",
       "      <td>1436</td>\n",
       "      <td>2018-12-19</td>\n",
       "      <td>338.87</td>\n",
       "    </tr>\n",
       "    <tr>\n",
       "      <th>79692</th>\n",
       "      <td>1372_39</td>\n",
       "      <td>1372</td>\n",
       "      <td>2018-12-26</td>\n",
       "      <td>819.70</td>\n",
       "    </tr>\n",
       "    <tr>\n",
       "      <th>9473</th>\n",
       "      <td>1049_123</td>\n",
       "      <td>1049</td>\n",
       "      <td>2018-05-22</td>\n",
       "      <td>145.24</td>\n",
       "    </tr>\n",
       "    <tr>\n",
       "      <th>40413</th>\n",
       "      <td>1182_63</td>\n",
       "      <td>1182</td>\n",
       "      <td>2018-07-14</td>\n",
       "      <td>481.67</td>\n",
       "    </tr>\n",
       "  </tbody>\n",
       "</table>\n",
       "</div>"
      ],
      "text/plain": [
       "             id  user_id session_date  mb_used\n",
       "97133   1458_91     1458   2018-08-23   141.83\n",
       "93583  1436_363     1436   2018-12-19   338.87\n",
       "79692   1372_39     1372   2018-12-26   819.70\n",
       "9473   1049_123     1049   2018-05-22   145.24\n",
       "40413   1182_63     1182   2018-07-14   481.67"
      ]
     },
     "execution_count": 34,
     "metadata": {},
     "output_type": "execute_result"
    }
   ],
   "source": [
    "# display sampe\n",
    "internet.sample(5)"
   ]
  },
  {
   "cell_type": "code",
   "execution_count": 35,
   "metadata": {},
   "outputs": [
    {
     "name": "stdout",
     "output_type": "stream",
     "text": [
      "Internet duplicate:  0\n"
     ]
    }
   ],
   "source": [
    "#check duplicates in data\n",
    "print('Internet duplicate: ', internet.duplicated().sum())"
   ]
  },
  {
   "cell_type": "markdown",
   "metadata": {},
   "source": [
    "This table contains data on **daily web session activities** conducted by users during the data collection period. There are 104,825 entries, as it can be confirmed that each user accessed the website on more than one day during the data collection timeframe.\n",
    "\n",
    "There are no missing values in this table. The data type for column `session_date` (date of website access) should be **datetime**, while the other columns have appropriate data types.\n",
    "\n",
    "No duplicate records exist in the web session activity data."
   ]
  },
  {
   "cell_type": "markdown",
   "metadata": {},
   "source": [
    "### Internet Data Refinement"
   ]
  },
  {
   "cell_type": "markdown",
   "metadata": {},
   "source": [
    "Change `session_date` data type from object to datetime in yyyy-mm-dd format."
   ]
  },
  {
   "cell_type": "code",
   "execution_count": 36,
   "metadata": {
    "scrolled": true
   },
   "outputs": [
    {
     "name": "stdout",
     "output_type": "stream",
     "text": [
      "<class 'pandas.core.frame.DataFrame'>\n",
      "RangeIndex: 104825 entries, 0 to 104824\n",
      "Data columns (total 4 columns):\n",
      " #   Column        Non-Null Count   Dtype         \n",
      "---  ------        --------------   -----         \n",
      " 0   id            104825 non-null  object        \n",
      " 1   user_id       104825 non-null  int64         \n",
      " 2   session_date  104825 non-null  datetime64[ns]\n",
      " 3   mb_used       104825 non-null  float64       \n",
      "dtypes: datetime64[ns](1), float64(1), int64(1), object(1)\n",
      "memory usage: 3.2+ MB\n"
     ]
    }
   ],
   "source": [
    "#change data type from object to datetime\n",
    "internet['session_date'] = pd.to_datetime(internet['session_date'], format='%Y-%m-%d')\n",
    "internet.info()"
   ]
  },
  {
   "cell_type": "markdown",
   "metadata": {},
   "source": [
    "### Internet Data Quality Enhancement"
   ]
  },
  {
   "cell_type": "markdown",
   "metadata": {},
   "source": [
    "As the five dataframes will be merged into one, it is essential to standardize the definition for each row (representing each user) to a **monthly** format. To achieve this, an additional column must be added to the 'internet' table that provides the month and year of each web session activity.\n",
    "\n",
    "Including the year is crucial to prevent the aggregation of internet package quota usage from the same month that actually occurred in different years."
   ]
  },
  {
   "cell_type": "code",
   "execution_count": 37,
   "metadata": {},
   "outputs": [
    {
     "data": {
      "text/html": [
       "<div>\n",
       "<style scoped>\n",
       "    .dataframe tbody tr th:only-of-type {\n",
       "        vertical-align: middle;\n",
       "    }\n",
       "\n",
       "    .dataframe tbody tr th {\n",
       "        vertical-align: top;\n",
       "    }\n",
       "\n",
       "    .dataframe thead th {\n",
       "        text-align: right;\n",
       "    }\n",
       "</style>\n",
       "<table border=\"1\" class=\"dataframe\">\n",
       "  <thead>\n",
       "    <tr style=\"text-align: right;\">\n",
       "      <th></th>\n",
       "      <th>id</th>\n",
       "      <th>user_id</th>\n",
       "      <th>session_date</th>\n",
       "      <th>mb_used</th>\n",
       "      <th>month</th>\n",
       "    </tr>\n",
       "  </thead>\n",
       "  <tbody>\n",
       "    <tr>\n",
       "      <th>0</th>\n",
       "      <td>1000_13</td>\n",
       "      <td>1000</td>\n",
       "      <td>2018-12-29</td>\n",
       "      <td>89.86</td>\n",
       "      <td>2018-12</td>\n",
       "    </tr>\n",
       "    <tr>\n",
       "      <th>1</th>\n",
       "      <td>1000_204</td>\n",
       "      <td>1000</td>\n",
       "      <td>2018-12-31</td>\n",
       "      <td>0.00</td>\n",
       "      <td>2018-12</td>\n",
       "    </tr>\n",
       "    <tr>\n",
       "      <th>2</th>\n",
       "      <td>1000_379</td>\n",
       "      <td>1000</td>\n",
       "      <td>2018-12-28</td>\n",
       "      <td>660.40</td>\n",
       "      <td>2018-12</td>\n",
       "    </tr>\n",
       "    <tr>\n",
       "      <th>3</th>\n",
       "      <td>1000_413</td>\n",
       "      <td>1000</td>\n",
       "      <td>2018-12-26</td>\n",
       "      <td>270.99</td>\n",
       "      <td>2018-12</td>\n",
       "    </tr>\n",
       "    <tr>\n",
       "      <th>4</th>\n",
       "      <td>1000_442</td>\n",
       "      <td>1000</td>\n",
       "      <td>2018-12-27</td>\n",
       "      <td>880.22</td>\n",
       "      <td>2018-12</td>\n",
       "    </tr>\n",
       "  </tbody>\n",
       "</table>\n",
       "</div>"
      ],
      "text/plain": [
       "         id  user_id session_date  mb_used    month\n",
       "0   1000_13     1000   2018-12-29    89.86  2018-12\n",
       "1  1000_204     1000   2018-12-31     0.00  2018-12\n",
       "2  1000_379     1000   2018-12-28   660.40  2018-12\n",
       "3  1000_413     1000   2018-12-26   270.99  2018-12\n",
       "4  1000_442     1000   2018-12-27   880.22  2018-12"
      ]
     },
     "execution_count": 37,
     "metadata": {},
     "output_type": "execute_result"
    }
   ],
   "source": [
    "# adding column 'month' to dataset 'internet' by applying function 'to_month'\n",
    "internet['month'] = to_month(internet, 'session_date')\n",
    "internet.head()"
   ]
  },
  {
   "cell_type": "markdown",
   "metadata": {},
   "source": [
    "[Back to Data Preparation](#Data-Preparation)"
   ]
  },
  {
   "cell_type": "markdown",
   "metadata": {},
   "source": [
    "[Back to Contents](#contents)"
   ]
  },
  {
   "cell_type": "markdown",
   "metadata": {},
   "source": [
    "# Analysis"
   ]
  },
  {
   "cell_type": "markdown",
   "metadata": {},
   "source": [
    "## Package Terms and Condition"
   ]
  },
  {
   "cell_type": "markdown",
   "metadata": {},
   "source": [
    "The current prepaid package dataframe still contains several pieces of information stored in units that are not suitable for analysis purposes. For example, some units remain in megabytes. Additionally, there are columns that are unnecessary for the analysis. Therefore, adjustments must be made to the prepaid package table to align it with the analytical requirements."
   ]
  },
  {
   "cell_type": "code",
   "execution_count": 38,
   "metadata": {
    "scrolled": true
   },
   "outputs": [
    {
     "data": {
      "text/html": [
       "<div>\n",
       "<style scoped>\n",
       "    .dataframe tbody tr th:only-of-type {\n",
       "        vertical-align: middle;\n",
       "    }\n",
       "\n",
       "    .dataframe tbody tr th {\n",
       "        vertical-align: top;\n",
       "    }\n",
       "\n",
       "    .dataframe thead th {\n",
       "        text-align: right;\n",
       "    }\n",
       "</style>\n",
       "<table border=\"1\" class=\"dataframe\">\n",
       "  <thead>\n",
       "    <tr style=\"text-align: right;\">\n",
       "      <th></th>\n",
       "      <th>messages_included</th>\n",
       "      <th>minutes_included</th>\n",
       "      <th>usd_monthly_pay</th>\n",
       "      <th>usd_per_gb</th>\n",
       "      <th>usd_per_message</th>\n",
       "      <th>usd_per_minute</th>\n",
       "      <th>plan_name</th>\n",
       "      <th>gb_included</th>\n",
       "    </tr>\n",
       "  </thead>\n",
       "  <tbody>\n",
       "    <tr>\n",
       "      <th>0</th>\n",
       "      <td>50</td>\n",
       "      <td>500</td>\n",
       "      <td>20</td>\n",
       "      <td>10</td>\n",
       "      <td>0.03</td>\n",
       "      <td>0.03</td>\n",
       "      <td>surf</td>\n",
       "      <td>15.0</td>\n",
       "    </tr>\n",
       "    <tr>\n",
       "      <th>1</th>\n",
       "      <td>1000</td>\n",
       "      <td>3000</td>\n",
       "      <td>70</td>\n",
       "      <td>7</td>\n",
       "      <td>0.01</td>\n",
       "      <td>0.01</td>\n",
       "      <td>ultimate</td>\n",
       "      <td>30.0</td>\n",
       "    </tr>\n",
       "  </tbody>\n",
       "</table>\n",
       "</div>"
      ],
      "text/plain": [
       "   messages_included  minutes_included  usd_monthly_pay  usd_per_gb  \\\n",
       "0                 50               500               20          10   \n",
       "1               1000              3000               70           7   \n",
       "\n",
       "   usd_per_message  usd_per_minute plan_name  gb_included  \n",
       "0             0.03            0.03      surf         15.0  \n",
       "1             0.01            0.01  ultimate         30.0  "
      ]
     },
     "execution_count": 38,
     "metadata": {},
     "output_type": "execute_result"
    }
   ],
   "source": [
    "# display plans dataframe\n",
    "plans"
   ]
  },
  {
   "cell_type": "markdown",
   "metadata": {},
   "source": [
    "Current `plans`dataset contains only necessary and relevant information, and all columns are in correct data types."
   ]
  },
  {
   "cell_type": "markdown",
   "metadata": {},
   "source": [
    "[Back to Analysis](#Analysis)"
   ]
  },
  {
   "cell_type": "markdown",
   "metadata": {},
   "source": [
    "## Aggregated Data per User"
   ]
  },
  {
   "cell_type": "markdown",
   "metadata": {},
   "source": [
    "Following the refinement and enrichment of the data, aggregation is now required **per user per month** to facilitate further analysis."
   ]
  },
  {
   "cell_type": "code",
   "execution_count": 39,
   "metadata": {
    "scrolled": true
   },
   "outputs": [
    {
     "data": {
      "text/html": [
       "<div>\n",
       "<style scoped>\n",
       "    .dataframe tbody tr th:only-of-type {\n",
       "        vertical-align: middle;\n",
       "    }\n",
       "\n",
       "    .dataframe tbody tr th {\n",
       "        vertical-align: top;\n",
       "    }\n",
       "\n",
       "    .dataframe thead th {\n",
       "        text-align: right;\n",
       "    }\n",
       "</style>\n",
       "<table border=\"1\" class=\"dataframe\">\n",
       "  <thead>\n",
       "    <tr style=\"text-align: right;\">\n",
       "      <th></th>\n",
       "      <th>user_id</th>\n",
       "      <th>month</th>\n",
       "      <th>call_made</th>\n",
       "    </tr>\n",
       "  </thead>\n",
       "  <tbody>\n",
       "    <tr>\n",
       "      <th>0</th>\n",
       "      <td>1000</td>\n",
       "      <td>2018-12</td>\n",
       "      <td>16</td>\n",
       "    </tr>\n",
       "    <tr>\n",
       "      <th>1</th>\n",
       "      <td>1001</td>\n",
       "      <td>2018-08</td>\n",
       "      <td>27</td>\n",
       "    </tr>\n",
       "    <tr>\n",
       "      <th>2</th>\n",
       "      <td>1001</td>\n",
       "      <td>2018-09</td>\n",
       "      <td>49</td>\n",
       "    </tr>\n",
       "    <tr>\n",
       "      <th>3</th>\n",
       "      <td>1001</td>\n",
       "      <td>2018-10</td>\n",
       "      <td>65</td>\n",
       "    </tr>\n",
       "    <tr>\n",
       "      <th>4</th>\n",
       "      <td>1001</td>\n",
       "      <td>2018-11</td>\n",
       "      <td>64</td>\n",
       "    </tr>\n",
       "  </tbody>\n",
       "</table>\n",
       "</div>"
      ],
      "text/plain": [
       "   user_id    month  call_made\n",
       "0     1000  2018-12         16\n",
       "1     1001  2018-08         27\n",
       "2     1001  2018-09         49\n",
       "3     1001  2018-10         65\n",
       "4     1001  2018-11         64"
      ]
     },
     "execution_count": 39,
     "metadata": {},
     "output_type": "execute_result"
    }
   ],
   "source": [
    "#count phone calls made by each user per month\n",
    "#store in table 'call_count'\n",
    "call_count = pd.pivot_table(call, index=['user_id', 'month'], values='id', aggfunc='count').reset_index()\n",
    "call_count.columns = ['user_id', 'month', 'call_made']\n",
    "\n",
    "#display first 5 rows of 'call_count'\n",
    "call_count.head()"
   ]
  },
  {
   "cell_type": "code",
   "execution_count": 40,
   "metadata": {},
   "outputs": [
    {
     "data": {
      "text/html": [
       "<div>\n",
       "<style scoped>\n",
       "    .dataframe tbody tr th:only-of-type {\n",
       "        vertical-align: middle;\n",
       "    }\n",
       "\n",
       "    .dataframe tbody tr th {\n",
       "        vertical-align: top;\n",
       "    }\n",
       "\n",
       "    .dataframe thead th {\n",
       "        text-align: right;\n",
       "    }\n",
       "</style>\n",
       "<table border=\"1\" class=\"dataframe\">\n",
       "  <thead>\n",
       "    <tr style=\"text-align: right;\">\n",
       "      <th></th>\n",
       "      <th>user_id</th>\n",
       "      <th>month</th>\n",
       "      <th>duration</th>\n",
       "    </tr>\n",
       "  </thead>\n",
       "  <tbody>\n",
       "    <tr>\n",
       "      <th>0</th>\n",
       "      <td>1000</td>\n",
       "      <td>2018-12</td>\n",
       "      <td>124</td>\n",
       "    </tr>\n",
       "    <tr>\n",
       "      <th>1</th>\n",
       "      <td>1001</td>\n",
       "      <td>2018-08</td>\n",
       "      <td>182</td>\n",
       "    </tr>\n",
       "    <tr>\n",
       "      <th>2</th>\n",
       "      <td>1001</td>\n",
       "      <td>2018-09</td>\n",
       "      <td>315</td>\n",
       "    </tr>\n",
       "    <tr>\n",
       "      <th>3</th>\n",
       "      <td>1001</td>\n",
       "      <td>2018-10</td>\n",
       "      <td>393</td>\n",
       "    </tr>\n",
       "    <tr>\n",
       "      <th>4</th>\n",
       "      <td>1001</td>\n",
       "      <td>2018-11</td>\n",
       "      <td>426</td>\n",
       "    </tr>\n",
       "  </tbody>\n",
       "</table>\n",
       "</div>"
      ],
      "text/plain": [
       "   user_id    month  duration\n",
       "0     1000  2018-12       124\n",
       "1     1001  2018-08       182\n",
       "2     1001  2018-09       315\n",
       "3     1001  2018-10       393\n",
       "4     1001  2018-11       426"
      ]
     },
     "execution_count": 40,
     "metadata": {},
     "output_type": "execute_result"
    }
   ],
   "source": [
    "#count total phone call minutes spent by each user per month\n",
    "#store result in table 'call_agg'\n",
    "call_agg = pd.pivot_table(call, index=['user_id', 'month'], values='duration', aggfunc='sum').reset_index()\n",
    "\n",
    "#display first 5 rows of 'call_agg'\n",
    "call_agg.head()    "
   ]
  },
  {
   "cell_type": "markdown",
   "metadata": {},
   "source": [
    "The table `call_agg` above contains information on the total duration of phone calls (in minutes) made by each user in each month during their subscription period."
   ]
  },
  {
   "cell_type": "code",
   "execution_count": 41,
   "metadata": {},
   "outputs": [
    {
     "data": {
      "text/html": [
       "<div>\n",
       "<style scoped>\n",
       "    .dataframe tbody tr th:only-of-type {\n",
       "        vertical-align: middle;\n",
       "    }\n",
       "\n",
       "    .dataframe tbody tr th {\n",
       "        vertical-align: top;\n",
       "    }\n",
       "\n",
       "    .dataframe thead th {\n",
       "        text-align: right;\n",
       "    }\n",
       "</style>\n",
       "<table border=\"1\" class=\"dataframe\">\n",
       "  <thead>\n",
       "    <tr style=\"text-align: right;\">\n",
       "      <th></th>\n",
       "      <th>user_id</th>\n",
       "      <th>month</th>\n",
       "      <th>sms_count</th>\n",
       "    </tr>\n",
       "  </thead>\n",
       "  <tbody>\n",
       "    <tr>\n",
       "      <th>0</th>\n",
       "      <td>1000</td>\n",
       "      <td>2018-12</td>\n",
       "      <td>11</td>\n",
       "    </tr>\n",
       "    <tr>\n",
       "      <th>1</th>\n",
       "      <td>1001</td>\n",
       "      <td>2018-08</td>\n",
       "      <td>30</td>\n",
       "    </tr>\n",
       "    <tr>\n",
       "      <th>2</th>\n",
       "      <td>1001</td>\n",
       "      <td>2018-09</td>\n",
       "      <td>44</td>\n",
       "    </tr>\n",
       "    <tr>\n",
       "      <th>3</th>\n",
       "      <td>1001</td>\n",
       "      <td>2018-10</td>\n",
       "      <td>53</td>\n",
       "    </tr>\n",
       "    <tr>\n",
       "      <th>4</th>\n",
       "      <td>1001</td>\n",
       "      <td>2018-11</td>\n",
       "      <td>36</td>\n",
       "    </tr>\n",
       "  </tbody>\n",
       "</table>\n",
       "</div>"
      ],
      "text/plain": [
       "   user_id    month  sms_count\n",
       "0     1000  2018-12         11\n",
       "1     1001  2018-08         30\n",
       "2     1001  2018-09         44\n",
       "3     1001  2018-10         53\n",
       "4     1001  2018-11         36"
      ]
     },
     "execution_count": 41,
     "metadata": {},
     "output_type": "execute_result"
    }
   ],
   "source": [
    "#count total text messages sent by each user per month\n",
    "#store result in table 'sms_agg'\n",
    "sms_agg = pd.pivot_table(sms, index=['user_id', 'month'], values='id', aggfunc='count').reset_index()\n",
    "sms_agg.columns = ['user_id', 'month', 'sms_count']\n",
    "\n",
    "#first 5 rows of 'sms_agg'\n",
    "sms_agg.head()"
   ]
  },
  {
   "cell_type": "code",
   "execution_count": 42,
   "metadata": {},
   "outputs": [
    {
     "data": {
      "text/html": [
       "<div>\n",
       "<style scoped>\n",
       "    .dataframe tbody tr th:only-of-type {\n",
       "        vertical-align: middle;\n",
       "    }\n",
       "\n",
       "    .dataframe tbody tr th {\n",
       "        vertical-align: top;\n",
       "    }\n",
       "\n",
       "    .dataframe thead th {\n",
       "        text-align: right;\n",
       "    }\n",
       "</style>\n",
       "<table border=\"1\" class=\"dataframe\">\n",
       "  <thead>\n",
       "    <tr style=\"text-align: right;\">\n",
       "      <th></th>\n",
       "      <th>user_id</th>\n",
       "      <th>month</th>\n",
       "      <th>mb_used</th>\n",
       "    </tr>\n",
       "  </thead>\n",
       "  <tbody>\n",
       "    <tr>\n",
       "      <th>0</th>\n",
       "      <td>1000</td>\n",
       "      <td>2018-12</td>\n",
       "      <td>1901.47</td>\n",
       "    </tr>\n",
       "    <tr>\n",
       "      <th>1</th>\n",
       "      <td>1001</td>\n",
       "      <td>2018-08</td>\n",
       "      <td>6919.15</td>\n",
       "    </tr>\n",
       "    <tr>\n",
       "      <th>2</th>\n",
       "      <td>1001</td>\n",
       "      <td>2018-09</td>\n",
       "      <td>13314.82</td>\n",
       "    </tr>\n",
       "    <tr>\n",
       "      <th>3</th>\n",
       "      <td>1001</td>\n",
       "      <td>2018-10</td>\n",
       "      <td>22330.49</td>\n",
       "    </tr>\n",
       "    <tr>\n",
       "      <th>4</th>\n",
       "      <td>1001</td>\n",
       "      <td>2018-11</td>\n",
       "      <td>18504.30</td>\n",
       "    </tr>\n",
       "  </tbody>\n",
       "</table>\n",
       "</div>"
      ],
      "text/plain": [
       "   user_id    month   mb_used\n",
       "0     1000  2018-12   1901.47\n",
       "1     1001  2018-08   6919.15\n",
       "2     1001  2018-09  13314.82\n",
       "3     1001  2018-10  22330.49\n",
       "4     1001  2018-11  18504.30"
      ]
     },
     "execution_count": 42,
     "metadata": {},
     "output_type": "execute_result"
    }
   ],
   "source": [
    "#count internet traffic volume of each user per month\n",
    "#store result in table 'internet_agg'\n",
    "internet_agg = pd.pivot_table(internet, index=['user_id', 'month'], values='mb_used', aggfunc='sum').reset_index()\n",
    "internet_agg.head()"
   ]
  },
  {
   "cell_type": "markdown",
   "metadata": {},
   "source": [
    "Table `internet_agg` above contains information on the total traffic volumn (in megabytes) made by each user in each month during their subscription period. "
   ]
  },
  {
   "cell_type": "code",
   "execution_count": 43,
   "metadata": {},
   "outputs": [
    {
     "data": {
      "text/html": [
       "<div>\n",
       "<style scoped>\n",
       "    .dataframe tbody tr th:only-of-type {\n",
       "        vertical-align: middle;\n",
       "    }\n",
       "\n",
       "    .dataframe tbody tr th {\n",
       "        vertical-align: top;\n",
       "    }\n",
       "\n",
       "    .dataframe thead th {\n",
       "        text-align: right;\n",
       "    }\n",
       "</style>\n",
       "<table border=\"1\" class=\"dataframe\">\n",
       "  <thead>\n",
       "    <tr style=\"text-align: right;\">\n",
       "      <th></th>\n",
       "      <th>user_id</th>\n",
       "      <th>month</th>\n",
       "      <th>mb_used</th>\n",
       "      <th>gb_used</th>\n",
       "    </tr>\n",
       "  </thead>\n",
       "  <tbody>\n",
       "    <tr>\n",
       "      <th>0</th>\n",
       "      <td>1000</td>\n",
       "      <td>2018-12</td>\n",
       "      <td>1901.47</td>\n",
       "      <td>2.0</td>\n",
       "    </tr>\n",
       "    <tr>\n",
       "      <th>1</th>\n",
       "      <td>1001</td>\n",
       "      <td>2018-08</td>\n",
       "      <td>6919.15</td>\n",
       "      <td>7.0</td>\n",
       "    </tr>\n",
       "    <tr>\n",
       "      <th>2</th>\n",
       "      <td>1001</td>\n",
       "      <td>2018-09</td>\n",
       "      <td>13314.82</td>\n",
       "      <td>14.0</td>\n",
       "    </tr>\n",
       "    <tr>\n",
       "      <th>3</th>\n",
       "      <td>1001</td>\n",
       "      <td>2018-10</td>\n",
       "      <td>22330.49</td>\n",
       "      <td>22.0</td>\n",
       "    </tr>\n",
       "    <tr>\n",
       "      <th>4</th>\n",
       "      <td>1001</td>\n",
       "      <td>2018-11</td>\n",
       "      <td>18504.30</td>\n",
       "      <td>19.0</td>\n",
       "    </tr>\n",
       "  </tbody>\n",
       "</table>\n",
       "</div>"
      ],
      "text/plain": [
       "   user_id    month   mb_used  gb_used\n",
       "0     1000  2018-12   1901.47      2.0\n",
       "1     1001  2018-08   6919.15      7.0\n",
       "2     1001  2018-09  13314.82     14.0\n",
       "3     1001  2018-10  22330.49     22.0\n",
       "4     1001  2018-11  18504.30     19.0"
      ]
     },
     "execution_count": 43,
     "metadata": {},
     "output_type": "execute_result"
    }
   ],
   "source": [
    "#round up internet traffic volumn from MB to GB \n",
    "internet_agg['gb_used'] = np.ceil(internet_agg['mb_used'] / 1024)\n",
    "internet_agg.head()"
   ]
  },
  {
   "cell_type": "markdown",
   "metadata": {},
   "source": [
    "Following the extraction of each behavior (text message, phone calls, and web session activity) per user per month, it is now necessary to construct a new table that comprehensively integrates all of this information."
   ]
  },
  {
   "cell_type": "code",
   "execution_count": 44,
   "metadata": {},
   "outputs": [
    {
     "data": {
      "text/html": [
       "<div>\n",
       "<style scoped>\n",
       "    .dataframe tbody tr th:only-of-type {\n",
       "        vertical-align: middle;\n",
       "    }\n",
       "\n",
       "    .dataframe tbody tr th {\n",
       "        vertical-align: top;\n",
       "    }\n",
       "\n",
       "    .dataframe thead th {\n",
       "        text-align: right;\n",
       "    }\n",
       "</style>\n",
       "<table border=\"1\" class=\"dataframe\">\n",
       "  <thead>\n",
       "    <tr style=\"text-align: right;\">\n",
       "      <th></th>\n",
       "      <th>user_id</th>\n",
       "      <th>age</th>\n",
       "      <th>reg_date</th>\n",
       "      <th>plan</th>\n",
       "      <th>churn_date</th>\n",
       "      <th>state</th>\n",
       "      <th>is_nynj</th>\n",
       "      <th>messages_included</th>\n",
       "      <th>minutes_included</th>\n",
       "      <th>usd_monthly_pay</th>\n",
       "      <th>usd_per_gb</th>\n",
       "      <th>usd_per_message</th>\n",
       "      <th>usd_per_minute</th>\n",
       "      <th>gb_included</th>\n",
       "    </tr>\n",
       "  </thead>\n",
       "  <tbody>\n",
       "    <tr>\n",
       "      <th>495</th>\n",
       "      <td>1495</td>\n",
       "      <td>67</td>\n",
       "      <td>2018-09-04</td>\n",
       "      <td>surf</td>\n",
       "      <td>NaT</td>\n",
       "      <td>NY-NJ-PA</td>\n",
       "      <td>1</td>\n",
       "      <td>50</td>\n",
       "      <td>500</td>\n",
       "      <td>20</td>\n",
       "      <td>10</td>\n",
       "      <td>0.03</td>\n",
       "      <td>0.03</td>\n",
       "      <td>15.0</td>\n",
       "    </tr>\n",
       "    <tr>\n",
       "      <th>496</th>\n",
       "      <td>1496</td>\n",
       "      <td>49</td>\n",
       "      <td>2018-02-20</td>\n",
       "      <td>surf</td>\n",
       "      <td>NaT</td>\n",
       "      <td>LA</td>\n",
       "      <td>0</td>\n",
       "      <td>50</td>\n",
       "      <td>500</td>\n",
       "      <td>20</td>\n",
       "      <td>10</td>\n",
       "      <td>0.03</td>\n",
       "      <td>0.03</td>\n",
       "      <td>15.0</td>\n",
       "    </tr>\n",
       "    <tr>\n",
       "      <th>497</th>\n",
       "      <td>1497</td>\n",
       "      <td>49</td>\n",
       "      <td>2018-12-10</td>\n",
       "      <td>ultimate</td>\n",
       "      <td>NaT</td>\n",
       "      <td>CA</td>\n",
       "      <td>0</td>\n",
       "      <td>1000</td>\n",
       "      <td>3000</td>\n",
       "      <td>70</td>\n",
       "      <td>7</td>\n",
       "      <td>0.01</td>\n",
       "      <td>0.01</td>\n",
       "      <td>30.0</td>\n",
       "    </tr>\n",
       "    <tr>\n",
       "      <th>498</th>\n",
       "      <td>1498</td>\n",
       "      <td>51</td>\n",
       "      <td>2018-02-04</td>\n",
       "      <td>surf</td>\n",
       "      <td>NaT</td>\n",
       "      <td>NY-NJ-PA</td>\n",
       "      <td>1</td>\n",
       "      <td>50</td>\n",
       "      <td>500</td>\n",
       "      <td>20</td>\n",
       "      <td>10</td>\n",
       "      <td>0.03</td>\n",
       "      <td>0.03</td>\n",
       "      <td>15.0</td>\n",
       "    </tr>\n",
       "    <tr>\n",
       "      <th>499</th>\n",
       "      <td>1499</td>\n",
       "      <td>37</td>\n",
       "      <td>2018-05-06</td>\n",
       "      <td>surf</td>\n",
       "      <td>NaT</td>\n",
       "      <td>FL</td>\n",
       "      <td>0</td>\n",
       "      <td>50</td>\n",
       "      <td>500</td>\n",
       "      <td>20</td>\n",
       "      <td>10</td>\n",
       "      <td>0.03</td>\n",
       "      <td>0.03</td>\n",
       "      <td>15.0</td>\n",
       "    </tr>\n",
       "  </tbody>\n",
       "</table>\n",
       "</div>"
      ],
      "text/plain": [
       "     user_id  age    reg_date      plan churn_date      state  is_nynj  \\\n",
       "495     1495   67  2018-09-04      surf        NaT  NY-NJ-PA         1   \n",
       "496     1496   49  2018-02-20      surf        NaT        LA         0   \n",
       "497     1497   49  2018-12-10  ultimate        NaT        CA         0   \n",
       "498     1498   51  2018-02-04      surf        NaT  NY-NJ-PA         1   \n",
       "499     1499   37  2018-05-06      surf        NaT        FL         0   \n",
       "\n",
       "     messages_included  minutes_included  usd_monthly_pay  usd_per_gb  \\\n",
       "495                 50               500               20          10   \n",
       "496                 50               500               20          10   \n",
       "497               1000              3000               70           7   \n",
       "498                 50               500               20          10   \n",
       "499                 50               500               20          10   \n",
       "\n",
       "     usd_per_message  usd_per_minute  gb_included  \n",
       "495             0.03            0.03         15.0  \n",
       "496             0.03            0.03         15.0  \n",
       "497             0.01            0.01         30.0  \n",
       "498             0.03            0.03         15.0  \n",
       "499             0.03            0.03         15.0  "
      ]
     },
     "execution_count": 44,
     "metadata": {},
     "output_type": "execute_result"
    }
   ],
   "source": [
    "#integrate data of user activity with prepaid package plan data\n",
    "user_plan = user.merge(plans, how='left', left_on='plan', right_on='plan_name').drop('plan_name', axis=1)\n",
    "\n",
    "#display last 5 rows of dataframe 'user_plan'\n",
    "user_plan.tail()"
   ]
  },
  {
   "cell_type": "code",
   "execution_count": 45,
   "metadata": {},
   "outputs": [
    {
     "data": {
      "text/html": [
       "<div>\n",
       "<style scoped>\n",
       "    .dataframe tbody tr th:only-of-type {\n",
       "        vertical-align: middle;\n",
       "    }\n",
       "\n",
       "    .dataframe tbody tr th {\n",
       "        vertical-align: top;\n",
       "    }\n",
       "\n",
       "    .dataframe thead th {\n",
       "        text-align: right;\n",
       "    }\n",
       "</style>\n",
       "<table border=\"1\" class=\"dataframe\">\n",
       "  <thead>\n",
       "    <tr style=\"text-align: right;\">\n",
       "      <th></th>\n",
       "      <th>user_id</th>\n",
       "      <th>month</th>\n",
       "      <th>duration</th>\n",
       "      <th>mb_used</th>\n",
       "      <th>gb_used</th>\n",
       "      <th>sms_count</th>\n",
       "    </tr>\n",
       "  </thead>\n",
       "  <tbody>\n",
       "    <tr>\n",
       "      <th>2288</th>\n",
       "      <td>1349</td>\n",
       "      <td>2018-10</td>\n",
       "      <td>NaN</td>\n",
       "      <td>13093.55</td>\n",
       "      <td>13.0</td>\n",
       "      <td>76.0</td>\n",
       "    </tr>\n",
       "    <tr>\n",
       "      <th>2289</th>\n",
       "      <td>1349</td>\n",
       "      <td>2018-11</td>\n",
       "      <td>NaN</td>\n",
       "      <td>17128.26</td>\n",
       "      <td>17.0</td>\n",
       "      <td>72.0</td>\n",
       "    </tr>\n",
       "    <tr>\n",
       "      <th>2290</th>\n",
       "      <td>1349</td>\n",
       "      <td>2018-12</td>\n",
       "      <td>NaN</td>\n",
       "      <td>13039.91</td>\n",
       "      <td>13.0</td>\n",
       "      <td>61.0</td>\n",
       "    </tr>\n",
       "    <tr>\n",
       "      <th>2291</th>\n",
       "      <td>1361</td>\n",
       "      <td>2018-05</td>\n",
       "      <td>NaN</td>\n",
       "      <td>1519.69</td>\n",
       "      <td>2.0</td>\n",
       "      <td>2.0</td>\n",
       "    </tr>\n",
       "    <tr>\n",
       "      <th>2292</th>\n",
       "      <td>1482</td>\n",
       "      <td>2018-10</td>\n",
       "      <td>NaN</td>\n",
       "      <td>NaN</td>\n",
       "      <td>NaN</td>\n",
       "      <td>2.0</td>\n",
       "    </tr>\n",
       "  </tbody>\n",
       "</table>\n",
       "</div>"
      ],
      "text/plain": [
       "      user_id    month  duration   mb_used  gb_used  sms_count\n",
       "2288     1349  2018-10       NaN  13093.55     13.0       76.0\n",
       "2289     1349  2018-11       NaN  17128.26     17.0       72.0\n",
       "2290     1349  2018-12       NaN  13039.91     13.0       61.0\n",
       "2291     1361  2018-05       NaN   1519.69      2.0        2.0\n",
       "2292     1482  2018-10       NaN       NaN      NaN        2.0"
      ]
     },
     "execution_count": 45,
     "metadata": {},
     "output_type": "execute_result"
    }
   ],
   "source": [
    "#merge data of phone call, text message, and internet by user id and month\n",
    "main = call_agg.merge(internet_agg, how='outer', on=['user_id', 'month'])\n",
    "main = main.merge(sms_agg, how='outer', on=['user_id', 'month'])\n",
    "\n",
    "#display last 5 rows of 'main' dataframe\n",
    "main.tail()"
   ]
  },
  {
   "cell_type": "code",
   "execution_count": 46,
   "metadata": {
    "scrolled": true
   },
   "outputs": [
    {
     "data": {
      "text/html": [
       "<div>\n",
       "<style scoped>\n",
       "    .dataframe tbody tr th:only-of-type {\n",
       "        vertical-align: middle;\n",
       "    }\n",
       "\n",
       "    .dataframe tbody tr th {\n",
       "        vertical-align: top;\n",
       "    }\n",
       "\n",
       "    .dataframe thead th {\n",
       "        text-align: right;\n",
       "    }\n",
       "</style>\n",
       "<table border=\"1\" class=\"dataframe\">\n",
       "  <thead>\n",
       "    <tr style=\"text-align: right;\">\n",
       "      <th></th>\n",
       "      <th>user_id</th>\n",
       "      <th>month</th>\n",
       "      <th>duration</th>\n",
       "      <th>mb_used</th>\n",
       "      <th>gb_used</th>\n",
       "      <th>sms_count</th>\n",
       "      <th>age</th>\n",
       "      <th>reg_date</th>\n",
       "      <th>plan</th>\n",
       "      <th>churn_date</th>\n",
       "      <th>state</th>\n",
       "      <th>is_nynj</th>\n",
       "      <th>messages_included</th>\n",
       "      <th>minutes_included</th>\n",
       "      <th>usd_monthly_pay</th>\n",
       "      <th>usd_per_gb</th>\n",
       "      <th>usd_per_message</th>\n",
       "      <th>usd_per_minute</th>\n",
       "      <th>gb_included</th>\n",
       "    </tr>\n",
       "  </thead>\n",
       "  <tbody>\n",
       "    <tr>\n",
       "      <th>2288</th>\n",
       "      <td>1349</td>\n",
       "      <td>2018-10</td>\n",
       "      <td>NaN</td>\n",
       "      <td>13093.55</td>\n",
       "      <td>13.0</td>\n",
       "      <td>76.0</td>\n",
       "      <td>69</td>\n",
       "      <td>2018-10-01</td>\n",
       "      <td>surf</td>\n",
       "      <td>NaT</td>\n",
       "      <td>MA-NH</td>\n",
       "      <td>0</td>\n",
       "      <td>50</td>\n",
       "      <td>500</td>\n",
       "      <td>20</td>\n",
       "      <td>10</td>\n",
       "      <td>0.03</td>\n",
       "      <td>0.03</td>\n",
       "      <td>15.0</td>\n",
       "    </tr>\n",
       "    <tr>\n",
       "      <th>2289</th>\n",
       "      <td>1349</td>\n",
       "      <td>2018-11</td>\n",
       "      <td>NaN</td>\n",
       "      <td>17128.26</td>\n",
       "      <td>17.0</td>\n",
       "      <td>72.0</td>\n",
       "      <td>69</td>\n",
       "      <td>2018-10-01</td>\n",
       "      <td>surf</td>\n",
       "      <td>NaT</td>\n",
       "      <td>MA-NH</td>\n",
       "      <td>0</td>\n",
       "      <td>50</td>\n",
       "      <td>500</td>\n",
       "      <td>20</td>\n",
       "      <td>10</td>\n",
       "      <td>0.03</td>\n",
       "      <td>0.03</td>\n",
       "      <td>15.0</td>\n",
       "    </tr>\n",
       "    <tr>\n",
       "      <th>2290</th>\n",
       "      <td>1349</td>\n",
       "      <td>2018-12</td>\n",
       "      <td>NaN</td>\n",
       "      <td>13039.91</td>\n",
       "      <td>13.0</td>\n",
       "      <td>61.0</td>\n",
       "      <td>69</td>\n",
       "      <td>2018-10-01</td>\n",
       "      <td>surf</td>\n",
       "      <td>NaT</td>\n",
       "      <td>MA-NH</td>\n",
       "      <td>0</td>\n",
       "      <td>50</td>\n",
       "      <td>500</td>\n",
       "      <td>20</td>\n",
       "      <td>10</td>\n",
       "      <td>0.03</td>\n",
       "      <td>0.03</td>\n",
       "      <td>15.0</td>\n",
       "    </tr>\n",
       "    <tr>\n",
       "      <th>2291</th>\n",
       "      <td>1361</td>\n",
       "      <td>2018-05</td>\n",
       "      <td>NaN</td>\n",
       "      <td>1519.69</td>\n",
       "      <td>2.0</td>\n",
       "      <td>2.0</td>\n",
       "      <td>45</td>\n",
       "      <td>2018-04-14</td>\n",
       "      <td>surf</td>\n",
       "      <td>NaT</td>\n",
       "      <td>AL</td>\n",
       "      <td>0</td>\n",
       "      <td>50</td>\n",
       "      <td>500</td>\n",
       "      <td>20</td>\n",
       "      <td>10</td>\n",
       "      <td>0.03</td>\n",
       "      <td>0.03</td>\n",
       "      <td>15.0</td>\n",
       "    </tr>\n",
       "    <tr>\n",
       "      <th>2292</th>\n",
       "      <td>1482</td>\n",
       "      <td>2018-10</td>\n",
       "      <td>NaN</td>\n",
       "      <td>NaN</td>\n",
       "      <td>NaN</td>\n",
       "      <td>2.0</td>\n",
       "      <td>70</td>\n",
       "      <td>2018-01-01</td>\n",
       "      <td>ultimate</td>\n",
       "      <td>NaT</td>\n",
       "      <td>NY-NJ-PA</td>\n",
       "      <td>1</td>\n",
       "      <td>1000</td>\n",
       "      <td>3000</td>\n",
       "      <td>70</td>\n",
       "      <td>7</td>\n",
       "      <td>0.01</td>\n",
       "      <td>0.01</td>\n",
       "      <td>30.0</td>\n",
       "    </tr>\n",
       "  </tbody>\n",
       "</table>\n",
       "</div>"
      ],
      "text/plain": [
       "      user_id    month  duration   mb_used  gb_used  sms_count  age  \\\n",
       "2288     1349  2018-10       NaN  13093.55     13.0       76.0   69   \n",
       "2289     1349  2018-11       NaN  17128.26     17.0       72.0   69   \n",
       "2290     1349  2018-12       NaN  13039.91     13.0       61.0   69   \n",
       "2291     1361  2018-05       NaN   1519.69      2.0        2.0   45   \n",
       "2292     1482  2018-10       NaN       NaN      NaN        2.0   70   \n",
       "\n",
       "        reg_date      plan churn_date      state  is_nynj  messages_included  \\\n",
       "2288  2018-10-01      surf        NaT     MA-NH         0                 50   \n",
       "2289  2018-10-01      surf        NaT     MA-NH         0                 50   \n",
       "2290  2018-10-01      surf        NaT     MA-NH         0                 50   \n",
       "2291  2018-04-14      surf        NaT        AL         0                 50   \n",
       "2292  2018-01-01  ultimate        NaT  NY-NJ-PA         1               1000   \n",
       "\n",
       "      minutes_included  usd_monthly_pay  usd_per_gb  usd_per_message  \\\n",
       "2288               500               20          10             0.03   \n",
       "2289               500               20          10             0.03   \n",
       "2290               500               20          10             0.03   \n",
       "2291               500               20          10             0.03   \n",
       "2292              3000               70           7             0.01   \n",
       "\n",
       "      usd_per_minute  gb_included  \n",
       "2288            0.03         15.0  \n",
       "2289            0.03         15.0  \n",
       "2290            0.03         15.0  \n",
       "2291            0.03         15.0  \n",
       "2292            0.01         30.0  "
      ]
     },
     "execution_count": 46,
     "metadata": {},
     "output_type": "execute_result"
    }
   ],
   "source": [
    "#left merge 'main' with 'user_plan' with 'user_id' as index\n",
    "df = main.merge(user_plan, how='left', on='user_id')\n",
    "\n",
    "#last 5 rows of dataframe 'df'\n",
    "df.tail()"
   ]
  },
  {
   "cell_type": "markdown",
   "metadata": {},
   "source": [
    "The table above represents the integration of behaviours (text message, phone calls, and web session activity) data for each user on a monthly basis, alongside the prepaid packages utilized. Several columns contain information that is not necessary for further analysis; therefore, these columns must be removed prior to proceeding. \n",
    "\n",
    "The columns to be eliminated are as follows:\n",
    "\n",
    "- `mb_used`: This column is redundant, as the column `gb_used` already provides the information in the appropriate unit.\n",
    "\n",
    "- `reg_date` and `churn_date`: These columns are not required for hypothesis testing, as the subscription dates and durations do not serve as relevant variables."
   ]
  },
  {
   "cell_type": "code",
   "execution_count": 47,
   "metadata": {
    "scrolled": true
   },
   "outputs": [
    {
     "data": {
      "text/html": [
       "<div>\n",
       "<style scoped>\n",
       "    .dataframe tbody tr th:only-of-type {\n",
       "        vertical-align: middle;\n",
       "    }\n",
       "\n",
       "    .dataframe tbody tr th {\n",
       "        vertical-align: top;\n",
       "    }\n",
       "\n",
       "    .dataframe thead th {\n",
       "        text-align: right;\n",
       "    }\n",
       "</style>\n",
       "<table border=\"1\" class=\"dataframe\">\n",
       "  <thead>\n",
       "    <tr style=\"text-align: right;\">\n",
       "      <th></th>\n",
       "      <th>user_id</th>\n",
       "      <th>month</th>\n",
       "      <th>duration</th>\n",
       "      <th>gb_used</th>\n",
       "      <th>sms_count</th>\n",
       "      <th>age</th>\n",
       "      <th>plan</th>\n",
       "      <th>state</th>\n",
       "      <th>is_nynj</th>\n",
       "      <th>messages_included</th>\n",
       "      <th>minutes_included</th>\n",
       "      <th>usd_monthly_pay</th>\n",
       "      <th>usd_per_gb</th>\n",
       "      <th>usd_per_message</th>\n",
       "      <th>usd_per_minute</th>\n",
       "      <th>gb_included</th>\n",
       "    </tr>\n",
       "  </thead>\n",
       "  <tbody>\n",
       "    <tr>\n",
       "      <th>0</th>\n",
       "      <td>1000</td>\n",
       "      <td>2018-12</td>\n",
       "      <td>124.0</td>\n",
       "      <td>2.0</td>\n",
       "      <td>11.0</td>\n",
       "      <td>45</td>\n",
       "      <td>ultimate</td>\n",
       "      <td>GA</td>\n",
       "      <td>0</td>\n",
       "      <td>1000</td>\n",
       "      <td>3000</td>\n",
       "      <td>70</td>\n",
       "      <td>7</td>\n",
       "      <td>0.01</td>\n",
       "      <td>0.01</td>\n",
       "      <td>30.0</td>\n",
       "    </tr>\n",
       "    <tr>\n",
       "      <th>1</th>\n",
       "      <td>1001</td>\n",
       "      <td>2018-08</td>\n",
       "      <td>182.0</td>\n",
       "      <td>7.0</td>\n",
       "      <td>30.0</td>\n",
       "      <td>28</td>\n",
       "      <td>surf</td>\n",
       "      <td>WA</td>\n",
       "      <td>0</td>\n",
       "      <td>50</td>\n",
       "      <td>500</td>\n",
       "      <td>20</td>\n",
       "      <td>10</td>\n",
       "      <td>0.03</td>\n",
       "      <td>0.03</td>\n",
       "      <td>15.0</td>\n",
       "    </tr>\n",
       "    <tr>\n",
       "      <th>2</th>\n",
       "      <td>1001</td>\n",
       "      <td>2018-09</td>\n",
       "      <td>315.0</td>\n",
       "      <td>14.0</td>\n",
       "      <td>44.0</td>\n",
       "      <td>28</td>\n",
       "      <td>surf</td>\n",
       "      <td>WA</td>\n",
       "      <td>0</td>\n",
       "      <td>50</td>\n",
       "      <td>500</td>\n",
       "      <td>20</td>\n",
       "      <td>10</td>\n",
       "      <td>0.03</td>\n",
       "      <td>0.03</td>\n",
       "      <td>15.0</td>\n",
       "    </tr>\n",
       "    <tr>\n",
       "      <th>3</th>\n",
       "      <td>1001</td>\n",
       "      <td>2018-10</td>\n",
       "      <td>393.0</td>\n",
       "      <td>22.0</td>\n",
       "      <td>53.0</td>\n",
       "      <td>28</td>\n",
       "      <td>surf</td>\n",
       "      <td>WA</td>\n",
       "      <td>0</td>\n",
       "      <td>50</td>\n",
       "      <td>500</td>\n",
       "      <td>20</td>\n",
       "      <td>10</td>\n",
       "      <td>0.03</td>\n",
       "      <td>0.03</td>\n",
       "      <td>15.0</td>\n",
       "    </tr>\n",
       "    <tr>\n",
       "      <th>4</th>\n",
       "      <td>1001</td>\n",
       "      <td>2018-11</td>\n",
       "      <td>426.0</td>\n",
       "      <td>19.0</td>\n",
       "      <td>36.0</td>\n",
       "      <td>28</td>\n",
       "      <td>surf</td>\n",
       "      <td>WA</td>\n",
       "      <td>0</td>\n",
       "      <td>50</td>\n",
       "      <td>500</td>\n",
       "      <td>20</td>\n",
       "      <td>10</td>\n",
       "      <td>0.03</td>\n",
       "      <td>0.03</td>\n",
       "      <td>15.0</td>\n",
       "    </tr>\n",
       "  </tbody>\n",
       "</table>\n",
       "</div>"
      ],
      "text/plain": [
       "   user_id    month  duration  gb_used  sms_count  age      plan state  \\\n",
       "0     1000  2018-12     124.0      2.0       11.0   45  ultimate   GA    \n",
       "1     1001  2018-08     182.0      7.0       30.0   28      surf   WA    \n",
       "2     1001  2018-09     315.0     14.0       44.0   28      surf   WA    \n",
       "3     1001  2018-10     393.0     22.0       53.0   28      surf   WA    \n",
       "4     1001  2018-11     426.0     19.0       36.0   28      surf   WA    \n",
       "\n",
       "   is_nynj  messages_included  minutes_included  usd_monthly_pay  usd_per_gb  \\\n",
       "0        0               1000              3000               70           7   \n",
       "1        0                 50               500               20          10   \n",
       "2        0                 50               500               20          10   \n",
       "3        0                 50               500               20          10   \n",
       "4        0                 50               500               20          10   \n",
       "\n",
       "   usd_per_message  usd_per_minute  gb_included  \n",
       "0             0.01            0.01         30.0  \n",
       "1             0.03            0.03         15.0  \n",
       "2             0.03            0.03         15.0  \n",
       "3             0.03            0.03         15.0  \n",
       "4             0.03            0.03         15.0  "
      ]
     },
     "execution_count": 47,
     "metadata": {},
     "output_type": "execute_result"
    }
   ],
   "source": [
    "# drop redundant and unnecessary columns\n",
    "df.drop(['mb_used', 'reg_date', 'churn_date'], axis=1, inplace=True)\n",
    "\n",
    "#display first 5 rows of 'df'\n",
    "df.head()"
   ]
  },
  {
   "cell_type": "markdown",
   "metadata": {},
   "source": [
    "The table above is now more concise and clear for assessing prepaid facility usage activity per user on a monthly basis, as it contains only the relevant columns. However, several columns exhibit NaN values. \n",
    "\n",
    "The columns in question are `duration`, `gb_used`, and `sms_count`. The presence of NaN values in these columns **does not indicate missing data**; rather, it signifies that the user did not make any phone calls, send any SMS, or engage in web session activities during that month.\n",
    "\n",
    "These NaN values in the three columns must be replaced with **0 (zero)** before further analysis can proceed."
   ]
  },
  {
   "cell_type": "code",
   "execution_count": 48,
   "metadata": {},
   "outputs": [
    {
     "data": {
      "text/html": [
       "<div>\n",
       "<style scoped>\n",
       "    .dataframe tbody tr th:only-of-type {\n",
       "        vertical-align: middle;\n",
       "    }\n",
       "\n",
       "    .dataframe tbody tr th {\n",
       "        vertical-align: top;\n",
       "    }\n",
       "\n",
       "    .dataframe thead th {\n",
       "        text-align: right;\n",
       "    }\n",
       "</style>\n",
       "<table border=\"1\" class=\"dataframe\">\n",
       "  <thead>\n",
       "    <tr style=\"text-align: right;\">\n",
       "      <th></th>\n",
       "      <th>user_id</th>\n",
       "      <th>month</th>\n",
       "      <th>duration</th>\n",
       "      <th>gb_used</th>\n",
       "      <th>sms_count</th>\n",
       "      <th>age</th>\n",
       "      <th>plan</th>\n",
       "      <th>state</th>\n",
       "      <th>is_nynj</th>\n",
       "      <th>messages_included</th>\n",
       "      <th>minutes_included</th>\n",
       "      <th>usd_monthly_pay</th>\n",
       "      <th>usd_per_gb</th>\n",
       "      <th>usd_per_message</th>\n",
       "      <th>usd_per_minute</th>\n",
       "      <th>gb_included</th>\n",
       "    </tr>\n",
       "  </thead>\n",
       "  <tbody>\n",
       "    <tr>\n",
       "      <th>2288</th>\n",
       "      <td>1349</td>\n",
       "      <td>2018-10</td>\n",
       "      <td>0.0</td>\n",
       "      <td>13.0</td>\n",
       "      <td>76.0</td>\n",
       "      <td>69</td>\n",
       "      <td>surf</td>\n",
       "      <td>MA-NH</td>\n",
       "      <td>0</td>\n",
       "      <td>50</td>\n",
       "      <td>500</td>\n",
       "      <td>20</td>\n",
       "      <td>10</td>\n",
       "      <td>0.03</td>\n",
       "      <td>0.03</td>\n",
       "      <td>15.0</td>\n",
       "    </tr>\n",
       "    <tr>\n",
       "      <th>2289</th>\n",
       "      <td>1349</td>\n",
       "      <td>2018-11</td>\n",
       "      <td>0.0</td>\n",
       "      <td>17.0</td>\n",
       "      <td>72.0</td>\n",
       "      <td>69</td>\n",
       "      <td>surf</td>\n",
       "      <td>MA-NH</td>\n",
       "      <td>0</td>\n",
       "      <td>50</td>\n",
       "      <td>500</td>\n",
       "      <td>20</td>\n",
       "      <td>10</td>\n",
       "      <td>0.03</td>\n",
       "      <td>0.03</td>\n",
       "      <td>15.0</td>\n",
       "    </tr>\n",
       "    <tr>\n",
       "      <th>2290</th>\n",
       "      <td>1349</td>\n",
       "      <td>2018-12</td>\n",
       "      <td>0.0</td>\n",
       "      <td>13.0</td>\n",
       "      <td>61.0</td>\n",
       "      <td>69</td>\n",
       "      <td>surf</td>\n",
       "      <td>MA-NH</td>\n",
       "      <td>0</td>\n",
       "      <td>50</td>\n",
       "      <td>500</td>\n",
       "      <td>20</td>\n",
       "      <td>10</td>\n",
       "      <td>0.03</td>\n",
       "      <td>0.03</td>\n",
       "      <td>15.0</td>\n",
       "    </tr>\n",
       "    <tr>\n",
       "      <th>2291</th>\n",
       "      <td>1361</td>\n",
       "      <td>2018-05</td>\n",
       "      <td>0.0</td>\n",
       "      <td>2.0</td>\n",
       "      <td>2.0</td>\n",
       "      <td>45</td>\n",
       "      <td>surf</td>\n",
       "      <td>AL</td>\n",
       "      <td>0</td>\n",
       "      <td>50</td>\n",
       "      <td>500</td>\n",
       "      <td>20</td>\n",
       "      <td>10</td>\n",
       "      <td>0.03</td>\n",
       "      <td>0.03</td>\n",
       "      <td>15.0</td>\n",
       "    </tr>\n",
       "    <tr>\n",
       "      <th>2292</th>\n",
       "      <td>1482</td>\n",
       "      <td>2018-10</td>\n",
       "      <td>0.0</td>\n",
       "      <td>0.0</td>\n",
       "      <td>2.0</td>\n",
       "      <td>70</td>\n",
       "      <td>ultimate</td>\n",
       "      <td>NY-NJ-PA</td>\n",
       "      <td>1</td>\n",
       "      <td>1000</td>\n",
       "      <td>3000</td>\n",
       "      <td>70</td>\n",
       "      <td>7</td>\n",
       "      <td>0.01</td>\n",
       "      <td>0.01</td>\n",
       "      <td>30.0</td>\n",
       "    </tr>\n",
       "  </tbody>\n",
       "</table>\n",
       "</div>"
      ],
      "text/plain": [
       "      user_id    month  duration  gb_used  sms_count  age      plan  \\\n",
       "2288     1349  2018-10       0.0     13.0       76.0   69      surf   \n",
       "2289     1349  2018-11       0.0     17.0       72.0   69      surf   \n",
       "2290     1349  2018-12       0.0     13.0       61.0   69      surf   \n",
       "2291     1361  2018-05       0.0      2.0        2.0   45      surf   \n",
       "2292     1482  2018-10       0.0      0.0        2.0   70  ultimate   \n",
       "\n",
       "          state  is_nynj  messages_included  minutes_included  \\\n",
       "2288     MA-NH         0                 50               500   \n",
       "2289     MA-NH         0                 50               500   \n",
       "2290     MA-NH         0                 50               500   \n",
       "2291        AL         0                 50               500   \n",
       "2292  NY-NJ-PA         1               1000              3000   \n",
       "\n",
       "      usd_monthly_pay  usd_per_gb  usd_per_message  usd_per_minute  \\\n",
       "2288               20          10             0.03            0.03   \n",
       "2289               20          10             0.03            0.03   \n",
       "2290               20          10             0.03            0.03   \n",
       "2291               20          10             0.03            0.03   \n",
       "2292               70           7             0.01            0.01   \n",
       "\n",
       "      gb_included  \n",
       "2288         15.0  \n",
       "2289         15.0  \n",
       "2290         15.0  \n",
       "2291         15.0  \n",
       "2292         30.0  "
      ]
     },
     "execution_count": 48,
     "metadata": {},
     "output_type": "execute_result"
    }
   ],
   "source": [
    "# replace NaN with 0\n",
    "df[['duration', 'gb_used', 'sms_count']] = df[['duration', 'gb_used', 'sms_count']].fillna(0)\n",
    "df.tail()"
   ]
  },
  {
   "cell_type": "markdown",
   "metadata": {},
   "source": [
    "Every NaN values in column `duration`, `gb_used`, as well as `sms_count` has been replaced with 0 (zero)."
   ]
  },
  {
   "cell_type": "markdown",
   "metadata": {},
   "source": [
    "The next step involves calculating the total revenue generated by Megaline from prepaid facility usage that **exceeds package limits** (surcharge). This process encompasses several stages, as there are three types of activities (phone calls, web session activities, and SMS), each with its own surcharge criteria.\n",
    "\n",
    "The process will commence with calculating the surcharge for **phone calls**, followed by the surcharge for **internet**, the surcharge for **SMS**, and finally, the total revenue from all three activities.\n",
    "\n",
    "There are three possible outcomes for the surcharge calculations: \n",
    "1. users whose activities (phone calls/internet/SMS) **exceed** their package limits, \n",
    "2. users whose activities **match** their package limits, or \n",
    "3. users whose activities **fall below** their package limits.\n",
    "\n",
    "For users whose activities are **below** the package limits, the resulting calculations will yield negative values. \n",
    "\n",
    "These values **must be adjusted to zero**, as they indicate that no additional payments are received by the company from these users. Additionally, it is standard practice for the company not to issue refunds for unused duration or quota of internet and SMS services."
   ]
  },
  {
   "cell_type": "code",
   "execution_count": 49,
   "metadata": {
    "scrolled": false
   },
   "outputs": [
    {
     "data": {
      "text/html": [
       "<div>\n",
       "<style scoped>\n",
       "    .dataframe tbody tr th:only-of-type {\n",
       "        vertical-align: middle;\n",
       "    }\n",
       "\n",
       "    .dataframe tbody tr th {\n",
       "        vertical-align: top;\n",
       "    }\n",
       "\n",
       "    .dataframe thead th {\n",
       "        text-align: right;\n",
       "    }\n",
       "</style>\n",
       "<table border=\"1\" class=\"dataframe\">\n",
       "  <thead>\n",
       "    <tr style=\"text-align: right;\">\n",
       "      <th></th>\n",
       "      <th>user_id</th>\n",
       "      <th>month</th>\n",
       "      <th>duration</th>\n",
       "      <th>gb_used</th>\n",
       "      <th>sms_count</th>\n",
       "      <th>age</th>\n",
       "      <th>plan</th>\n",
       "      <th>state</th>\n",
       "      <th>is_nynj</th>\n",
       "      <th>messages_included</th>\n",
       "      <th>minutes_included</th>\n",
       "      <th>usd_monthly_pay</th>\n",
       "      <th>usd_per_gb</th>\n",
       "      <th>usd_per_message</th>\n",
       "      <th>usd_per_minute</th>\n",
       "      <th>gb_included</th>\n",
       "      <th>extra_call</th>\n",
       "    </tr>\n",
       "  </thead>\n",
       "  <tbody>\n",
       "    <tr>\n",
       "      <th>0</th>\n",
       "      <td>1000</td>\n",
       "      <td>2018-12</td>\n",
       "      <td>124.0</td>\n",
       "      <td>2.0</td>\n",
       "      <td>11.0</td>\n",
       "      <td>45</td>\n",
       "      <td>ultimate</td>\n",
       "      <td>GA</td>\n",
       "      <td>0</td>\n",
       "      <td>1000</td>\n",
       "      <td>3000</td>\n",
       "      <td>70</td>\n",
       "      <td>7</td>\n",
       "      <td>0.01</td>\n",
       "      <td>0.01</td>\n",
       "      <td>30.0</td>\n",
       "      <td>0.0</td>\n",
       "    </tr>\n",
       "    <tr>\n",
       "      <th>1</th>\n",
       "      <td>1001</td>\n",
       "      <td>2018-08</td>\n",
       "      <td>182.0</td>\n",
       "      <td>7.0</td>\n",
       "      <td>30.0</td>\n",
       "      <td>28</td>\n",
       "      <td>surf</td>\n",
       "      <td>WA</td>\n",
       "      <td>0</td>\n",
       "      <td>50</td>\n",
       "      <td>500</td>\n",
       "      <td>20</td>\n",
       "      <td>10</td>\n",
       "      <td>0.03</td>\n",
       "      <td>0.03</td>\n",
       "      <td>15.0</td>\n",
       "      <td>0.0</td>\n",
       "    </tr>\n",
       "    <tr>\n",
       "      <th>2</th>\n",
       "      <td>1001</td>\n",
       "      <td>2018-09</td>\n",
       "      <td>315.0</td>\n",
       "      <td>14.0</td>\n",
       "      <td>44.0</td>\n",
       "      <td>28</td>\n",
       "      <td>surf</td>\n",
       "      <td>WA</td>\n",
       "      <td>0</td>\n",
       "      <td>50</td>\n",
       "      <td>500</td>\n",
       "      <td>20</td>\n",
       "      <td>10</td>\n",
       "      <td>0.03</td>\n",
       "      <td>0.03</td>\n",
       "      <td>15.0</td>\n",
       "      <td>0.0</td>\n",
       "    </tr>\n",
       "    <tr>\n",
       "      <th>3</th>\n",
       "      <td>1001</td>\n",
       "      <td>2018-10</td>\n",
       "      <td>393.0</td>\n",
       "      <td>22.0</td>\n",
       "      <td>53.0</td>\n",
       "      <td>28</td>\n",
       "      <td>surf</td>\n",
       "      <td>WA</td>\n",
       "      <td>0</td>\n",
       "      <td>50</td>\n",
       "      <td>500</td>\n",
       "      <td>20</td>\n",
       "      <td>10</td>\n",
       "      <td>0.03</td>\n",
       "      <td>0.03</td>\n",
       "      <td>15.0</td>\n",
       "      <td>0.0</td>\n",
       "    </tr>\n",
       "    <tr>\n",
       "      <th>4</th>\n",
       "      <td>1001</td>\n",
       "      <td>2018-11</td>\n",
       "      <td>426.0</td>\n",
       "      <td>19.0</td>\n",
       "      <td>36.0</td>\n",
       "      <td>28</td>\n",
       "      <td>surf</td>\n",
       "      <td>WA</td>\n",
       "      <td>0</td>\n",
       "      <td>50</td>\n",
       "      <td>500</td>\n",
       "      <td>20</td>\n",
       "      <td>10</td>\n",
       "      <td>0.03</td>\n",
       "      <td>0.03</td>\n",
       "      <td>15.0</td>\n",
       "      <td>0.0</td>\n",
       "    </tr>\n",
       "  </tbody>\n",
       "</table>\n",
       "</div>"
      ],
      "text/plain": [
       "   user_id    month  duration  gb_used  sms_count  age      plan state  \\\n",
       "0     1000  2018-12     124.0      2.0       11.0   45  ultimate   GA    \n",
       "1     1001  2018-08     182.0      7.0       30.0   28      surf   WA    \n",
       "2     1001  2018-09     315.0     14.0       44.0   28      surf   WA    \n",
       "3     1001  2018-10     393.0     22.0       53.0   28      surf   WA    \n",
       "4     1001  2018-11     426.0     19.0       36.0   28      surf   WA    \n",
       "\n",
       "   is_nynj  messages_included  minutes_included  usd_monthly_pay  usd_per_gb  \\\n",
       "0        0               1000              3000               70           7   \n",
       "1        0                 50               500               20          10   \n",
       "2        0                 50               500               20          10   \n",
       "3        0                 50               500               20          10   \n",
       "4        0                 50               500               20          10   \n",
       "\n",
       "   usd_per_message  usd_per_minute  gb_included  extra_call  \n",
       "0             0.01            0.01         30.0         0.0  \n",
       "1             0.03            0.03         15.0         0.0  \n",
       "2             0.03            0.03         15.0         0.0  \n",
       "3             0.03            0.03         15.0         0.0  \n",
       "4             0.03            0.03         15.0         0.0  "
      ]
     },
     "execution_count": 49,
     "metadata": {},
     "output_type": "execute_result"
    }
   ],
   "source": [
    "#adding column 'extra_call' to contain surcharge from phone call activity\n",
    "df['extra_call'] = (df['duration'] - df['minutes_included']) * df['usd_per_minute']\n",
    "\n",
    "#adjust negative values to 0 \n",
    "df.loc[df['extra_call'] < 0, 'extra_call'] = 0\n",
    "\n",
    "#display first 5 rows of dataframe\n",
    "df.head()"
   ]
  },
  {
   "cell_type": "code",
   "execution_count": 50,
   "metadata": {
    "scrolled": true
   },
   "outputs": [
    {
     "data": {
      "text/html": [
       "<div>\n",
       "<style scoped>\n",
       "    .dataframe tbody tr th:only-of-type {\n",
       "        vertical-align: middle;\n",
       "    }\n",
       "\n",
       "    .dataframe tbody tr th {\n",
       "        vertical-align: top;\n",
       "    }\n",
       "\n",
       "    .dataframe thead th {\n",
       "        text-align: right;\n",
       "    }\n",
       "</style>\n",
       "<table border=\"1\" class=\"dataframe\">\n",
       "  <thead>\n",
       "    <tr style=\"text-align: right;\">\n",
       "      <th></th>\n",
       "      <th>user_id</th>\n",
       "      <th>month</th>\n",
       "      <th>duration</th>\n",
       "      <th>gb_used</th>\n",
       "      <th>sms_count</th>\n",
       "      <th>age</th>\n",
       "      <th>plan</th>\n",
       "      <th>state</th>\n",
       "      <th>is_nynj</th>\n",
       "      <th>messages_included</th>\n",
       "      <th>minutes_included</th>\n",
       "      <th>usd_monthly_pay</th>\n",
       "      <th>usd_per_gb</th>\n",
       "      <th>usd_per_message</th>\n",
       "      <th>usd_per_minute</th>\n",
       "      <th>gb_included</th>\n",
       "      <th>extra_call</th>\n",
       "      <th>extra_sms</th>\n",
       "    </tr>\n",
       "  </thead>\n",
       "  <tbody>\n",
       "    <tr>\n",
       "      <th>0</th>\n",
       "      <td>1000</td>\n",
       "      <td>2018-12</td>\n",
       "      <td>124.0</td>\n",
       "      <td>2.0</td>\n",
       "      <td>11.0</td>\n",
       "      <td>45</td>\n",
       "      <td>ultimate</td>\n",
       "      <td>GA</td>\n",
       "      <td>0</td>\n",
       "      <td>1000</td>\n",
       "      <td>3000</td>\n",
       "      <td>70</td>\n",
       "      <td>7</td>\n",
       "      <td>0.01</td>\n",
       "      <td>0.01</td>\n",
       "      <td>30.0</td>\n",
       "      <td>0.0</td>\n",
       "      <td>0.00</td>\n",
       "    </tr>\n",
       "    <tr>\n",
       "      <th>1</th>\n",
       "      <td>1001</td>\n",
       "      <td>2018-08</td>\n",
       "      <td>182.0</td>\n",
       "      <td>7.0</td>\n",
       "      <td>30.0</td>\n",
       "      <td>28</td>\n",
       "      <td>surf</td>\n",
       "      <td>WA</td>\n",
       "      <td>0</td>\n",
       "      <td>50</td>\n",
       "      <td>500</td>\n",
       "      <td>20</td>\n",
       "      <td>10</td>\n",
       "      <td>0.03</td>\n",
       "      <td>0.03</td>\n",
       "      <td>15.0</td>\n",
       "      <td>0.0</td>\n",
       "      <td>0.00</td>\n",
       "    </tr>\n",
       "    <tr>\n",
       "      <th>2</th>\n",
       "      <td>1001</td>\n",
       "      <td>2018-09</td>\n",
       "      <td>315.0</td>\n",
       "      <td>14.0</td>\n",
       "      <td>44.0</td>\n",
       "      <td>28</td>\n",
       "      <td>surf</td>\n",
       "      <td>WA</td>\n",
       "      <td>0</td>\n",
       "      <td>50</td>\n",
       "      <td>500</td>\n",
       "      <td>20</td>\n",
       "      <td>10</td>\n",
       "      <td>0.03</td>\n",
       "      <td>0.03</td>\n",
       "      <td>15.0</td>\n",
       "      <td>0.0</td>\n",
       "      <td>0.00</td>\n",
       "    </tr>\n",
       "    <tr>\n",
       "      <th>3</th>\n",
       "      <td>1001</td>\n",
       "      <td>2018-10</td>\n",
       "      <td>393.0</td>\n",
       "      <td>22.0</td>\n",
       "      <td>53.0</td>\n",
       "      <td>28</td>\n",
       "      <td>surf</td>\n",
       "      <td>WA</td>\n",
       "      <td>0</td>\n",
       "      <td>50</td>\n",
       "      <td>500</td>\n",
       "      <td>20</td>\n",
       "      <td>10</td>\n",
       "      <td>0.03</td>\n",
       "      <td>0.03</td>\n",
       "      <td>15.0</td>\n",
       "      <td>0.0</td>\n",
       "      <td>0.09</td>\n",
       "    </tr>\n",
       "    <tr>\n",
       "      <th>4</th>\n",
       "      <td>1001</td>\n",
       "      <td>2018-11</td>\n",
       "      <td>426.0</td>\n",
       "      <td>19.0</td>\n",
       "      <td>36.0</td>\n",
       "      <td>28</td>\n",
       "      <td>surf</td>\n",
       "      <td>WA</td>\n",
       "      <td>0</td>\n",
       "      <td>50</td>\n",
       "      <td>500</td>\n",
       "      <td>20</td>\n",
       "      <td>10</td>\n",
       "      <td>0.03</td>\n",
       "      <td>0.03</td>\n",
       "      <td>15.0</td>\n",
       "      <td>0.0</td>\n",
       "      <td>0.00</td>\n",
       "    </tr>\n",
       "  </tbody>\n",
       "</table>\n",
       "</div>"
      ],
      "text/plain": [
       "   user_id    month  duration  gb_used  sms_count  age      plan state  \\\n",
       "0     1000  2018-12     124.0      2.0       11.0   45  ultimate   GA    \n",
       "1     1001  2018-08     182.0      7.0       30.0   28      surf   WA    \n",
       "2     1001  2018-09     315.0     14.0       44.0   28      surf   WA    \n",
       "3     1001  2018-10     393.0     22.0       53.0   28      surf   WA    \n",
       "4     1001  2018-11     426.0     19.0       36.0   28      surf   WA    \n",
       "\n",
       "   is_nynj  messages_included  minutes_included  usd_monthly_pay  usd_per_gb  \\\n",
       "0        0               1000              3000               70           7   \n",
       "1        0                 50               500               20          10   \n",
       "2        0                 50               500               20          10   \n",
       "3        0                 50               500               20          10   \n",
       "4        0                 50               500               20          10   \n",
       "\n",
       "   usd_per_message  usd_per_minute  gb_included  extra_call  extra_sms  \n",
       "0             0.01            0.01         30.0         0.0       0.00  \n",
       "1             0.03            0.03         15.0         0.0       0.00  \n",
       "2             0.03            0.03         15.0         0.0       0.00  \n",
       "3             0.03            0.03         15.0         0.0       0.09  \n",
       "4             0.03            0.03         15.0         0.0       0.00  "
      ]
     },
     "execution_count": 50,
     "metadata": {},
     "output_type": "execute_result"
    }
   ],
   "source": [
    "#adding column 'extra_sms' to contain surcharge from text message activity\n",
    "df['extra_sms'] = (df['sms_count'] - df['messages_included']) * df['usd_per_message']\n",
    "\n",
    "#adjust negative values to 0\n",
    "df.loc[df['extra_sms'] < 0, 'extra_sms'] = 0\n",
    "\n",
    "df.head()"
   ]
  },
  {
   "cell_type": "code",
   "execution_count": 51,
   "metadata": {},
   "outputs": [
    {
     "data": {
      "text/html": [
       "<div>\n",
       "<style scoped>\n",
       "    .dataframe tbody tr th:only-of-type {\n",
       "        vertical-align: middle;\n",
       "    }\n",
       "\n",
       "    .dataframe tbody tr th {\n",
       "        vertical-align: top;\n",
       "    }\n",
       "\n",
       "    .dataframe thead th {\n",
       "        text-align: right;\n",
       "    }\n",
       "</style>\n",
       "<table border=\"1\" class=\"dataframe\">\n",
       "  <thead>\n",
       "    <tr style=\"text-align: right;\">\n",
       "      <th></th>\n",
       "      <th>user_id</th>\n",
       "      <th>month</th>\n",
       "      <th>duration</th>\n",
       "      <th>gb_used</th>\n",
       "      <th>sms_count</th>\n",
       "      <th>age</th>\n",
       "      <th>plan</th>\n",
       "      <th>state</th>\n",
       "      <th>is_nynj</th>\n",
       "      <th>messages_included</th>\n",
       "      <th>minutes_included</th>\n",
       "      <th>usd_monthly_pay</th>\n",
       "      <th>usd_per_gb</th>\n",
       "      <th>usd_per_message</th>\n",
       "      <th>usd_per_minute</th>\n",
       "      <th>gb_included</th>\n",
       "      <th>extra_call</th>\n",
       "      <th>extra_sms</th>\n",
       "      <th>extra_internet</th>\n",
       "    </tr>\n",
       "  </thead>\n",
       "  <tbody>\n",
       "    <tr>\n",
       "      <th>0</th>\n",
       "      <td>1000</td>\n",
       "      <td>2018-12</td>\n",
       "      <td>124.0</td>\n",
       "      <td>2.0</td>\n",
       "      <td>11.0</td>\n",
       "      <td>45</td>\n",
       "      <td>ultimate</td>\n",
       "      <td>GA</td>\n",
       "      <td>0</td>\n",
       "      <td>1000</td>\n",
       "      <td>3000</td>\n",
       "      <td>70</td>\n",
       "      <td>7</td>\n",
       "      <td>0.01</td>\n",
       "      <td>0.01</td>\n",
       "      <td>30.0</td>\n",
       "      <td>0.0</td>\n",
       "      <td>0.00</td>\n",
       "      <td>0.0</td>\n",
       "    </tr>\n",
       "    <tr>\n",
       "      <th>1</th>\n",
       "      <td>1001</td>\n",
       "      <td>2018-08</td>\n",
       "      <td>182.0</td>\n",
       "      <td>7.0</td>\n",
       "      <td>30.0</td>\n",
       "      <td>28</td>\n",
       "      <td>surf</td>\n",
       "      <td>WA</td>\n",
       "      <td>0</td>\n",
       "      <td>50</td>\n",
       "      <td>500</td>\n",
       "      <td>20</td>\n",
       "      <td>10</td>\n",
       "      <td>0.03</td>\n",
       "      <td>0.03</td>\n",
       "      <td>15.0</td>\n",
       "      <td>0.0</td>\n",
       "      <td>0.00</td>\n",
       "      <td>0.0</td>\n",
       "    </tr>\n",
       "    <tr>\n",
       "      <th>2</th>\n",
       "      <td>1001</td>\n",
       "      <td>2018-09</td>\n",
       "      <td>315.0</td>\n",
       "      <td>14.0</td>\n",
       "      <td>44.0</td>\n",
       "      <td>28</td>\n",
       "      <td>surf</td>\n",
       "      <td>WA</td>\n",
       "      <td>0</td>\n",
       "      <td>50</td>\n",
       "      <td>500</td>\n",
       "      <td>20</td>\n",
       "      <td>10</td>\n",
       "      <td>0.03</td>\n",
       "      <td>0.03</td>\n",
       "      <td>15.0</td>\n",
       "      <td>0.0</td>\n",
       "      <td>0.00</td>\n",
       "      <td>0.0</td>\n",
       "    </tr>\n",
       "    <tr>\n",
       "      <th>3</th>\n",
       "      <td>1001</td>\n",
       "      <td>2018-10</td>\n",
       "      <td>393.0</td>\n",
       "      <td>22.0</td>\n",
       "      <td>53.0</td>\n",
       "      <td>28</td>\n",
       "      <td>surf</td>\n",
       "      <td>WA</td>\n",
       "      <td>0</td>\n",
       "      <td>50</td>\n",
       "      <td>500</td>\n",
       "      <td>20</td>\n",
       "      <td>10</td>\n",
       "      <td>0.03</td>\n",
       "      <td>0.03</td>\n",
       "      <td>15.0</td>\n",
       "      <td>0.0</td>\n",
       "      <td>0.09</td>\n",
       "      <td>70.0</td>\n",
       "    </tr>\n",
       "    <tr>\n",
       "      <th>4</th>\n",
       "      <td>1001</td>\n",
       "      <td>2018-11</td>\n",
       "      <td>426.0</td>\n",
       "      <td>19.0</td>\n",
       "      <td>36.0</td>\n",
       "      <td>28</td>\n",
       "      <td>surf</td>\n",
       "      <td>WA</td>\n",
       "      <td>0</td>\n",
       "      <td>50</td>\n",
       "      <td>500</td>\n",
       "      <td>20</td>\n",
       "      <td>10</td>\n",
       "      <td>0.03</td>\n",
       "      <td>0.03</td>\n",
       "      <td>15.0</td>\n",
       "      <td>0.0</td>\n",
       "      <td>0.00</td>\n",
       "      <td>40.0</td>\n",
       "    </tr>\n",
       "  </tbody>\n",
       "</table>\n",
       "</div>"
      ],
      "text/plain": [
       "   user_id    month  duration  gb_used  sms_count  age      plan state  \\\n",
       "0     1000  2018-12     124.0      2.0       11.0   45  ultimate   GA    \n",
       "1     1001  2018-08     182.0      7.0       30.0   28      surf   WA    \n",
       "2     1001  2018-09     315.0     14.0       44.0   28      surf   WA    \n",
       "3     1001  2018-10     393.0     22.0       53.0   28      surf   WA    \n",
       "4     1001  2018-11     426.0     19.0       36.0   28      surf   WA    \n",
       "\n",
       "   is_nynj  messages_included  minutes_included  usd_monthly_pay  usd_per_gb  \\\n",
       "0        0               1000              3000               70           7   \n",
       "1        0                 50               500               20          10   \n",
       "2        0                 50               500               20          10   \n",
       "3        0                 50               500               20          10   \n",
       "4        0                 50               500               20          10   \n",
       "\n",
       "   usd_per_message  usd_per_minute  gb_included  extra_call  extra_sms  \\\n",
       "0             0.01            0.01         30.0         0.0       0.00   \n",
       "1             0.03            0.03         15.0         0.0       0.00   \n",
       "2             0.03            0.03         15.0         0.0       0.00   \n",
       "3             0.03            0.03         15.0         0.0       0.09   \n",
       "4             0.03            0.03         15.0         0.0       0.00   \n",
       "\n",
       "   extra_internet  \n",
       "0             0.0  \n",
       "1             0.0  \n",
       "2             0.0  \n",
       "3            70.0  \n",
       "4            40.0  "
      ]
     },
     "execution_count": 51,
     "metadata": {},
     "output_type": "execute_result"
    }
   ],
   "source": [
    "#adding column 'extra_internet' to contain surcharge from web session activity\n",
    "df['extra_internet'] = (df['gb_used'] - df['gb_included']) * df['usd_per_gb']\n",
    "\n",
    "#adjust negative values to 0\n",
    "df.loc[df['extra_internet'] < 0, 'extra_internet'] = 0\n",
    "\n",
    "df.head()"
   ]
  },
  {
   "cell_type": "code",
   "execution_count": 52,
   "metadata": {
    "scrolled": false
   },
   "outputs": [
    {
     "data": {
      "text/html": [
       "<div>\n",
       "<style scoped>\n",
       "    .dataframe tbody tr th:only-of-type {\n",
       "        vertical-align: middle;\n",
       "    }\n",
       "\n",
       "    .dataframe tbody tr th {\n",
       "        vertical-align: top;\n",
       "    }\n",
       "\n",
       "    .dataframe thead th {\n",
       "        text-align: right;\n",
       "    }\n",
       "</style>\n",
       "<table border=\"1\" class=\"dataframe\">\n",
       "  <thead>\n",
       "    <tr style=\"text-align: right;\">\n",
       "      <th></th>\n",
       "      <th>user_id</th>\n",
       "      <th>month</th>\n",
       "      <th>duration</th>\n",
       "      <th>gb_used</th>\n",
       "      <th>sms_count</th>\n",
       "      <th>age</th>\n",
       "      <th>plan</th>\n",
       "      <th>state</th>\n",
       "      <th>is_nynj</th>\n",
       "      <th>messages_included</th>\n",
       "      <th>minutes_included</th>\n",
       "      <th>usd_monthly_pay</th>\n",
       "      <th>usd_per_gb</th>\n",
       "      <th>usd_per_message</th>\n",
       "      <th>usd_per_minute</th>\n",
       "      <th>gb_included</th>\n",
       "      <th>extra_call</th>\n",
       "      <th>extra_sms</th>\n",
       "      <th>extra_internet</th>\n",
       "      <th>total_income</th>\n",
       "    </tr>\n",
       "  </thead>\n",
       "  <tbody>\n",
       "    <tr>\n",
       "      <th>678</th>\n",
       "      <td>1147</td>\n",
       "      <td>2018-05</td>\n",
       "      <td>759.0</td>\n",
       "      <td>29.0</td>\n",
       "      <td>24.0</td>\n",
       "      <td>71</td>\n",
       "      <td>surf</td>\n",
       "      <td>HI</td>\n",
       "      <td>0</td>\n",
       "      <td>50</td>\n",
       "      <td>500</td>\n",
       "      <td>20</td>\n",
       "      <td>10</td>\n",
       "      <td>0.03</td>\n",
       "      <td>0.03</td>\n",
       "      <td>15.0</td>\n",
       "      <td>7.77</td>\n",
       "      <td>0.00</td>\n",
       "      <td>140.0</td>\n",
       "      <td>167.77</td>\n",
       "    </tr>\n",
       "    <tr>\n",
       "      <th>799</th>\n",
       "      <td>1171</td>\n",
       "      <td>2018-07</td>\n",
       "      <td>323.0</td>\n",
       "      <td>20.0</td>\n",
       "      <td>0.0</td>\n",
       "      <td>56</td>\n",
       "      <td>surf</td>\n",
       "      <td>MA-NH</td>\n",
       "      <td>0</td>\n",
       "      <td>50</td>\n",
       "      <td>500</td>\n",
       "      <td>20</td>\n",
       "      <td>10</td>\n",
       "      <td>0.03</td>\n",
       "      <td>0.03</td>\n",
       "      <td>15.0</td>\n",
       "      <td>0.00</td>\n",
       "      <td>0.00</td>\n",
       "      <td>50.0</td>\n",
       "      <td>70.00</td>\n",
       "    </tr>\n",
       "    <tr>\n",
       "      <th>1235</th>\n",
       "      <td>1264</td>\n",
       "      <td>2018-10</td>\n",
       "      <td>323.0</td>\n",
       "      <td>21.0</td>\n",
       "      <td>72.0</td>\n",
       "      <td>69</td>\n",
       "      <td>ultimate</td>\n",
       "      <td>CA</td>\n",
       "      <td>0</td>\n",
       "      <td>1000</td>\n",
       "      <td>3000</td>\n",
       "      <td>70</td>\n",
       "      <td>7</td>\n",
       "      <td>0.01</td>\n",
       "      <td>0.01</td>\n",
       "      <td>30.0</td>\n",
       "      <td>0.00</td>\n",
       "      <td>0.00</td>\n",
       "      <td>0.0</td>\n",
       "      <td>70.00</td>\n",
       "    </tr>\n",
       "    <tr>\n",
       "      <th>553</th>\n",
       "      <td>1120</td>\n",
       "      <td>2018-05</td>\n",
       "      <td>469.0</td>\n",
       "      <td>23.0</td>\n",
       "      <td>48.0</td>\n",
       "      <td>33</td>\n",
       "      <td>surf</td>\n",
       "      <td>NY-NJ-PA</td>\n",
       "      <td>1</td>\n",
       "      <td>50</td>\n",
       "      <td>500</td>\n",
       "      <td>20</td>\n",
       "      <td>10</td>\n",
       "      <td>0.03</td>\n",
       "      <td>0.03</td>\n",
       "      <td>15.0</td>\n",
       "      <td>0.00</td>\n",
       "      <td>0.00</td>\n",
       "      <td>80.0</td>\n",
       "      <td>100.00</td>\n",
       "    </tr>\n",
       "    <tr>\n",
       "      <th>1816</th>\n",
       "      <td>1399</td>\n",
       "      <td>2018-07</td>\n",
       "      <td>300.0</td>\n",
       "      <td>23.0</td>\n",
       "      <td>25.0</td>\n",
       "      <td>24</td>\n",
       "      <td>surf</td>\n",
       "      <td>TX</td>\n",
       "      <td>0</td>\n",
       "      <td>50</td>\n",
       "      <td>500</td>\n",
       "      <td>20</td>\n",
       "      <td>10</td>\n",
       "      <td>0.03</td>\n",
       "      <td>0.03</td>\n",
       "      <td>15.0</td>\n",
       "      <td>0.00</td>\n",
       "      <td>0.00</td>\n",
       "      <td>80.0</td>\n",
       "      <td>100.00</td>\n",
       "    </tr>\n",
       "    <tr>\n",
       "      <th>1525</th>\n",
       "      <td>1336</td>\n",
       "      <td>2018-10</td>\n",
       "      <td>728.0</td>\n",
       "      <td>19.0</td>\n",
       "      <td>78.0</td>\n",
       "      <td>34</td>\n",
       "      <td>surf</td>\n",
       "      <td>OR-WA</td>\n",
       "      <td>0</td>\n",
       "      <td>50</td>\n",
       "      <td>500</td>\n",
       "      <td>20</td>\n",
       "      <td>10</td>\n",
       "      <td>0.03</td>\n",
       "      <td>0.03</td>\n",
       "      <td>15.0</td>\n",
       "      <td>6.84</td>\n",
       "      <td>0.84</td>\n",
       "      <td>40.0</td>\n",
       "      <td>67.68</td>\n",
       "    </tr>\n",
       "    <tr>\n",
       "      <th>1379</th>\n",
       "      <td>1305</td>\n",
       "      <td>2018-09</td>\n",
       "      <td>492.0</td>\n",
       "      <td>18.0</td>\n",
       "      <td>6.0</td>\n",
       "      <td>18</td>\n",
       "      <td>surf</td>\n",
       "      <td>CA</td>\n",
       "      <td>0</td>\n",
       "      <td>50</td>\n",
       "      <td>500</td>\n",
       "      <td>20</td>\n",
       "      <td>10</td>\n",
       "      <td>0.03</td>\n",
       "      <td>0.03</td>\n",
       "      <td>15.0</td>\n",
       "      <td>0.00</td>\n",
       "      <td>0.00</td>\n",
       "      <td>30.0</td>\n",
       "      <td>50.00</td>\n",
       "    </tr>\n",
       "    <tr>\n",
       "      <th>2077</th>\n",
       "      <td>1458</td>\n",
       "      <td>2018-10</td>\n",
       "      <td>164.0</td>\n",
       "      <td>18.0</td>\n",
       "      <td>33.0</td>\n",
       "      <td>32</td>\n",
       "      <td>ultimate</td>\n",
       "      <td>MI</td>\n",
       "      <td>0</td>\n",
       "      <td>1000</td>\n",
       "      <td>3000</td>\n",
       "      <td>70</td>\n",
       "      <td>7</td>\n",
       "      <td>0.01</td>\n",
       "      <td>0.01</td>\n",
       "      <td>30.0</td>\n",
       "      <td>0.00</td>\n",
       "      <td>0.00</td>\n",
       "      <td>0.0</td>\n",
       "      <td>70.00</td>\n",
       "    </tr>\n",
       "    <tr>\n",
       "      <th>628</th>\n",
       "      <td>1138</td>\n",
       "      <td>2018-02</td>\n",
       "      <td>307.0</td>\n",
       "      <td>16.0</td>\n",
       "      <td>7.0</td>\n",
       "      <td>66</td>\n",
       "      <td>surf</td>\n",
       "      <td>CA</td>\n",
       "      <td>0</td>\n",
       "      <td>50</td>\n",
       "      <td>500</td>\n",
       "      <td>20</td>\n",
       "      <td>10</td>\n",
       "      <td>0.03</td>\n",
       "      <td>0.03</td>\n",
       "      <td>15.0</td>\n",
       "      <td>0.00</td>\n",
       "      <td>0.00</td>\n",
       "      <td>10.0</td>\n",
       "      <td>30.00</td>\n",
       "    </tr>\n",
       "    <tr>\n",
       "      <th>706</th>\n",
       "      <td>1153</td>\n",
       "      <td>2018-09</td>\n",
       "      <td>582.0</td>\n",
       "      <td>19.0</td>\n",
       "      <td>0.0</td>\n",
       "      <td>30</td>\n",
       "      <td>surf</td>\n",
       "      <td>CT</td>\n",
       "      <td>0</td>\n",
       "      <td>50</td>\n",
       "      <td>500</td>\n",
       "      <td>20</td>\n",
       "      <td>10</td>\n",
       "      <td>0.03</td>\n",
       "      <td>0.03</td>\n",
       "      <td>15.0</td>\n",
       "      <td>2.46</td>\n",
       "      <td>0.00</td>\n",
       "      <td>40.0</td>\n",
       "      <td>62.46</td>\n",
       "    </tr>\n",
       "  </tbody>\n",
       "</table>\n",
       "</div>"
      ],
      "text/plain": [
       "      user_id    month  duration  gb_used  sms_count  age      plan  \\\n",
       "678      1147  2018-05     759.0     29.0       24.0   71      surf   \n",
       "799      1171  2018-07     323.0     20.0        0.0   56      surf   \n",
       "1235     1264  2018-10     323.0     21.0       72.0   69  ultimate   \n",
       "553      1120  2018-05     469.0     23.0       48.0   33      surf   \n",
       "1816     1399  2018-07     300.0     23.0       25.0   24      surf   \n",
       "1525     1336  2018-10     728.0     19.0       78.0   34      surf   \n",
       "1379     1305  2018-09     492.0     18.0        6.0   18      surf   \n",
       "2077     1458  2018-10     164.0     18.0       33.0   32  ultimate   \n",
       "628      1138  2018-02     307.0     16.0        7.0   66      surf   \n",
       "706      1153  2018-09     582.0     19.0        0.0   30      surf   \n",
       "\n",
       "          state  is_nynj  messages_included  minutes_included  \\\n",
       "678         HI         0                 50               500   \n",
       "799      MA-NH         0                 50               500   \n",
       "1235        CA         0               1000              3000   \n",
       "553   NY-NJ-PA         1                 50               500   \n",
       "1816        TX         0                 50               500   \n",
       "1525     OR-WA         0                 50               500   \n",
       "1379        CA         0                 50               500   \n",
       "2077        MI         0               1000              3000   \n",
       "628         CA         0                 50               500   \n",
       "706         CT         0                 50               500   \n",
       "\n",
       "      usd_monthly_pay  usd_per_gb  usd_per_message  usd_per_minute  \\\n",
       "678                20          10             0.03            0.03   \n",
       "799                20          10             0.03            0.03   \n",
       "1235               70           7             0.01            0.01   \n",
       "553                20          10             0.03            0.03   \n",
       "1816               20          10             0.03            0.03   \n",
       "1525               20          10             0.03            0.03   \n",
       "1379               20          10             0.03            0.03   \n",
       "2077               70           7             0.01            0.01   \n",
       "628                20          10             0.03            0.03   \n",
       "706                20          10             0.03            0.03   \n",
       "\n",
       "      gb_included  extra_call  extra_sms  extra_internet  total_income  \n",
       "678          15.0        7.77       0.00           140.0        167.77  \n",
       "799          15.0        0.00       0.00            50.0         70.00  \n",
       "1235         30.0        0.00       0.00             0.0         70.00  \n",
       "553          15.0        0.00       0.00            80.0        100.00  \n",
       "1816         15.0        0.00       0.00            80.0        100.00  \n",
       "1525         15.0        6.84       0.84            40.0         67.68  \n",
       "1379         15.0        0.00       0.00            30.0         50.00  \n",
       "2077         30.0        0.00       0.00             0.0         70.00  \n",
       "628          15.0        0.00       0.00            10.0         30.00  \n",
       "706          15.0        2.46       0.00            40.0         62.46  "
      ]
     },
     "execution_count": 52,
     "metadata": {},
     "output_type": "execute_result"
    }
   ],
   "source": [
    "#calculate monthly revenue received from each user\n",
    "#store in new column 'total_income'\n",
    "df['total_income'] = df['usd_monthly_pay'] + df['extra_call'] + df['extra_sms'] + df['extra_internet']\n",
    "\n",
    "#display sample\n",
    "df.sample(10)"
   ]
  },
  {
   "cell_type": "code",
   "execution_count": 53,
   "metadata": {},
   "outputs": [
    {
     "data": {
      "text/plain": [
       "count    2293.000000\n",
       "mean       64.351147\n",
       "std        46.624945\n",
       "min        20.000000\n",
       "25%        23.480000\n",
       "50%        70.000000\n",
       "75%        70.000000\n",
       "max       590.370000\n",
       "Name: total_income, dtype: float64"
      ]
     },
     "execution_count": 53,
     "metadata": {},
     "output_type": "execute_result"
    }
   ],
   "source": [
    "#display distribution of 'df'\n",
    "df['total_income'].describe()"
   ]
  },
  {
   "cell_type": "markdown",
   "metadata": {},
   "source": [
    "A new column, `total_income`, has been added, which contains the total revenue generated by Megaline from each prepaid customer on a monthly basis. This total revenue comprises the standard package price and the surcharge for excess usage. The total revenue for these two prepaid packages varies from 20 to 590.37 USD, with an **average of $ 64.3.**"
   ]
  },
  {
   "cell_type": "markdown",
   "metadata": {},
   "source": [
    "[Back to Analysis](#Analysis)"
   ]
  },
  {
   "cell_type": "markdown",
   "metadata": {},
   "source": [
    "## Users Behaviour"
   ]
  },
  {
   "cell_type": "markdown",
   "metadata": {},
   "source": [
    "This section provides a deeper examination of user behavior to understand its relationship with the revenue generated from the prepaid packages offered by Megaline. The aspects to be reviewed regarding user behavior include four key elements:\n",
    "\n",
    "1. The total revenue generated by both packages on a monthly basis,\n",
    "2. The average expenditure per user for each package each month,\n",
    "3. The distribution of average user expenditure for each package.\n",
    "\n",
    "An overview of these three aspects will be obtained through descriptive statistical calculations, which will subsequently be visualized using appropriate graphs."
   ]
  },
  {
   "cell_type": "markdown",
   "metadata": {},
   "source": [
    "### Phone Call Activity"
   ]
  },
  {
   "cell_type": "code",
   "execution_count": 54,
   "metadata": {},
   "outputs": [
    {
     "data": {
      "text/html": [
       "<div>\n",
       "<style scoped>\n",
       "    .dataframe tbody tr th:only-of-type {\n",
       "        vertical-align: middle;\n",
       "    }\n",
       "\n",
       "    .dataframe tbody tr th {\n",
       "        vertical-align: top;\n",
       "    }\n",
       "\n",
       "    .dataframe thead th {\n",
       "        text-align: right;\n",
       "    }\n",
       "</style>\n",
       "<table border=\"1\" class=\"dataframe\">\n",
       "  <thead>\n",
       "    <tr style=\"text-align: right;\">\n",
       "      <th>plan</th>\n",
       "      <th>month</th>\n",
       "      <th>surf</th>\n",
       "      <th>ultimate</th>\n",
       "    </tr>\n",
       "  </thead>\n",
       "  <tbody>\n",
       "    <tr>\n",
       "      <th>0</th>\n",
       "      <td>2018-01</td>\n",
       "      <td>203.000000</td>\n",
       "      <td>193.500000</td>\n",
       "    </tr>\n",
       "    <tr>\n",
       "      <th>1</th>\n",
       "      <td>2018-02</td>\n",
       "      <td>297.000000</td>\n",
       "      <td>403.142857</td>\n",
       "    </tr>\n",
       "    <tr>\n",
       "      <th>2</th>\n",
       "      <td>2018-03</td>\n",
       "      <td>330.000000</td>\n",
       "      <td>304.250000</td>\n",
       "    </tr>\n",
       "    <tr>\n",
       "      <th>3</th>\n",
       "      <td>2018-04</td>\n",
       "      <td>351.540000</td>\n",
       "      <td>336.857143</td>\n",
       "    </tr>\n",
       "    <tr>\n",
       "      <th>4</th>\n",
       "      <td>2018-05</td>\n",
       "      <td>399.584416</td>\n",
       "      <td>406.241379</td>\n",
       "    </tr>\n",
       "    <tr>\n",
       "      <th>5</th>\n",
       "      <td>2018-06</td>\n",
       "      <td>431.298969</td>\n",
       "      <td>370.957447</td>\n",
       "    </tr>\n",
       "    <tr>\n",
       "      <th>6</th>\n",
       "      <td>2018-07</td>\n",
       "      <td>449.983471</td>\n",
       "      <td>427.067797</td>\n",
       "    </tr>\n",
       "    <tr>\n",
       "      <th>7</th>\n",
       "      <td>2018-08</td>\n",
       "      <td>410.111111</td>\n",
       "      <td>421.436620</td>\n",
       "    </tr>\n",
       "    <tr>\n",
       "      <th>8</th>\n",
       "      <td>2018-09</td>\n",
       "      <td>414.226804</td>\n",
       "      <td>437.511628</td>\n",
       "    </tr>\n",
       "    <tr>\n",
       "      <th>9</th>\n",
       "      <td>2018-10</td>\n",
       "      <td>429.729958</td>\n",
       "      <td>450.735849</td>\n",
       "    </tr>\n",
       "    <tr>\n",
       "      <th>10</th>\n",
       "      <td>2018-11</td>\n",
       "      <td>423.325088</td>\n",
       "      <td>445.196850</td>\n",
       "    </tr>\n",
       "    <tr>\n",
       "      <th>11</th>\n",
       "      <td>2018-12</td>\n",
       "      <td>473.836478</td>\n",
       "      <td>459.099338</td>\n",
       "    </tr>\n",
       "  </tbody>\n",
       "</table>\n",
       "</div>"
      ],
      "text/plain": [
       "plan    month        surf    ultimate\n",
       "0     2018-01  203.000000  193.500000\n",
       "1     2018-02  297.000000  403.142857\n",
       "2     2018-03  330.000000  304.250000\n",
       "3     2018-04  351.540000  336.857143\n",
       "4     2018-05  399.584416  406.241379\n",
       "5     2018-06  431.298969  370.957447\n",
       "6     2018-07  449.983471  427.067797\n",
       "7     2018-08  410.111111  421.436620\n",
       "8     2018-09  414.226804  437.511628\n",
       "9     2018-10  429.729958  450.735849\n",
       "10    2018-11  423.325088  445.196850\n",
       "11    2018-12  473.836478  459.099338"
      ]
     },
     "execution_count": 54,
     "metadata": {},
     "output_type": "execute_result"
    }
   ],
   "source": [
    "#comparing monthly average call duration between packages\n",
    "avg_duration_monthly = pd.pivot_table(df, index='month', columns='plan', values='duration').reset_index()\n",
    "\n",
    "#change M periode data type to string for visualization\n",
    "avg_duration_monthly['month'] = avg_duration_monthly['month'].astype('str')\n",
    "\n",
    "#display table\n",
    "avg_duration_monthly"
   ]
  },
  {
   "cell_type": "code",
   "execution_count": 55,
   "metadata": {},
   "outputs": [
    {
     "data": {
      "text/html": [
       "<div>\n",
       "<style scoped>\n",
       "    .dataframe tbody tr th:only-of-type {\n",
       "        vertical-align: middle;\n",
       "    }\n",
       "\n",
       "    .dataframe tbody tr th {\n",
       "        vertical-align: top;\n",
       "    }\n",
       "\n",
       "    .dataframe thead th {\n",
       "        text-align: right;\n",
       "    }\n",
       "</style>\n",
       "<table border=\"1\" class=\"dataframe\">\n",
       "  <thead>\n",
       "    <tr style=\"text-align: right;\">\n",
       "      <th>plan</th>\n",
       "      <th>surf</th>\n",
       "      <th>ultimate</th>\n",
       "    </tr>\n",
       "  </thead>\n",
       "  <tbody>\n",
       "    <tr>\n",
       "      <th>count</th>\n",
       "      <td>12.000000</td>\n",
       "      <td>12.000000</td>\n",
       "    </tr>\n",
       "    <tr>\n",
       "      <th>mean</th>\n",
       "      <td>384.469691</td>\n",
       "      <td>387.999742</td>\n",
       "    </tr>\n",
       "    <tr>\n",
       "      <th>std</th>\n",
       "      <td>76.535567</td>\n",
       "      <td>77.266064</td>\n",
       "    </tr>\n",
       "    <tr>\n",
       "      <th>min</th>\n",
       "      <td>203.000000</td>\n",
       "      <td>193.500000</td>\n",
       "    </tr>\n",
       "    <tr>\n",
       "      <th>25%</th>\n",
       "      <td>346.155000</td>\n",
       "      <td>362.432371</td>\n",
       "    </tr>\n",
       "    <tr>\n",
       "      <th>50%</th>\n",
       "      <td>412.168958</td>\n",
       "      <td>413.839000</td>\n",
       "    </tr>\n",
       "    <tr>\n",
       "      <th>75%</th>\n",
       "      <td>430.122211</td>\n",
       "      <td>439.432934</td>\n",
       "    </tr>\n",
       "    <tr>\n",
       "      <th>max</th>\n",
       "      <td>473.836478</td>\n",
       "      <td>459.099338</td>\n",
       "    </tr>\n",
       "  </tbody>\n",
       "</table>\n",
       "</div>"
      ],
      "text/plain": [
       "plan         surf    ultimate\n",
       "count   12.000000   12.000000\n",
       "mean   384.469691  387.999742\n",
       "std     76.535567   77.266064\n",
       "min    203.000000  193.500000\n",
       "25%    346.155000  362.432371\n",
       "50%    412.168958  413.839000\n",
       "75%    430.122211  439.432934\n",
       "max    473.836478  459.099338"
      ]
     },
     "execution_count": 55,
     "metadata": {},
     "output_type": "execute_result"
    }
   ],
   "source": [
    "#display distribution of 'avg_duration_monthly'\n",
    "avg_duration_monthly.describe()"
   ]
  },
  {
   "cell_type": "markdown",
   "metadata": {},
   "source": [
    "The findings based on the above description are as follows:\n",
    "\n",
    "**The average values for both the Surf and Ultimate packages are relatively similar**. This observation contrasts with common assumptions, which typically suggest that Ultimate package users are more likely to make significantly more phone calls due to its allocation of six times more duration than the Surf package. In reality, the average number of phone calls made by Ultimate customers is not significantly different from that of Surf customers.\n",
    "\n",
    "There is a notable discrepancy between the median and the mean values for both packages, indicating a tendency for **skewed distribution**.\n",
    "\n",
    "The standard deviation for both packages is quite comparable, with values of 76.5 for Surf and 77.2 for Ultimate. When compared to the mean, these standard deviations are relatively large, suggesting a **high level of data variability**."
   ]
  },
  {
   "cell_type": "code",
   "execution_count": 56,
   "metadata": {},
   "outputs": [
    {
     "data": {
      "image/png": "[encoded data removed]",
      "text/plain": [
       "<Figure size 1000x600 with 1 Axes>"
      ]
     },
     "metadata": {},
     "output_type": "display_data"
    }
   ],
   "source": [
    "# bar chart\n",
    "months = avg_duration_monthly['month']\n",
    "surf = avg_duration_monthly['surf']\n",
    "ultimate = avg_duration_monthly['ultimate']\n",
    "plt.figure(figsize=(10, 6))\n",
    "plt.bar(months, surf, label='surf', color='red', width=0.4, align='center')\n",
    "plt.bar(months, ultimate, label='ultimate', color='blue', width=0.4, align='edge')\n",
    "plt.ylim(0, 700)\n",
    "plt.xlabel('Month')\n",
    "plt.ylabel('Duration (minutes)')\n",
    "plt.title('Monthly Average Duration Comparison')\n",
    "plt.legend()\n",
    "plt.show()"
   ]
  },
  {
   "cell_type": "markdown",
   "metadata": {},
   "source": [
    "The table above presents a comparison of the **average call durations per month** between users of the **Surf** and **Ultimate** packages.\n",
    "\n",
    "The maximum average duration for Surf package users is **473.8** minutes, while for the Ultimate package, it is **459** minutes. Although there are instances where a user's call duration exceeds these figures, such occurrences are infrequent enough not to significantly affect the average.\n",
    "\n",
    "Several findings from the diagram above include:\n",
    "\n",
    "There is an observed upward trend in the average call durations for both packages throughout the year 2018. However, the average call durations for users of both packages remain below the allocated duration limits (500 minutes for Surf and 3000 minutes for Ultimate). This makes it **relatively challenging to expect consistent surcharges from excess call durations** for both Surf and Ultimate packages.\n",
    "\n",
    "This situation may be attributed to the availability of alternative options for making phone calls through instant messaging applications such as *FaceTime* and *WhatsApp Call*. These alternatives are often preferred as calls can be made using an internet connection without the concern of tracking the minutes spent or the remaining duration quota.\n",
    "\n",
    "This assumption will need to be reassessed when analyzing customer behavior related to **web session activities using the internet**."
   ]
  },
  {
   "cell_type": "code",
   "execution_count": 57,
   "metadata": {
    "scrolled": true
   },
   "outputs": [
    {
     "data": {
      "text/html": [
       "<div>\n",
       "<style scoped>\n",
       "    .dataframe tbody tr th:only-of-type {\n",
       "        vertical-align: middle;\n",
       "    }\n",
       "\n",
       "    .dataframe tbody tr th {\n",
       "        vertical-align: top;\n",
       "    }\n",
       "\n",
       "    .dataframe thead th {\n",
       "        text-align: right;\n",
       "    }\n",
       "</style>\n",
       "<table border=\"1\" class=\"dataframe\">\n",
       "  <thead>\n",
       "    <tr style=\"text-align: right;\">\n",
       "      <th></th>\n",
       "      <th>user_id</th>\n",
       "      <th>month</th>\n",
       "      <th>duration</th>\n",
       "      <th>gb_used</th>\n",
       "      <th>sms_count</th>\n",
       "      <th>age</th>\n",
       "      <th>plan</th>\n",
       "      <th>state</th>\n",
       "      <th>is_nynj</th>\n",
       "      <th>messages_included</th>\n",
       "      <th>minutes_included</th>\n",
       "      <th>usd_monthly_pay</th>\n",
       "      <th>usd_per_gb</th>\n",
       "      <th>usd_per_message</th>\n",
       "      <th>usd_per_minute</th>\n",
       "      <th>gb_included</th>\n",
       "      <th>extra_call</th>\n",
       "      <th>extra_sms</th>\n",
       "      <th>extra_internet</th>\n",
       "      <th>total_income</th>\n",
       "    </tr>\n",
       "  </thead>\n",
       "  <tbody>\n",
       "    <tr>\n",
       "      <th>0</th>\n",
       "      <td>1001</td>\n",
       "      <td>2018-08</td>\n",
       "      <td>182.0</td>\n",
       "      <td>7.0</td>\n",
       "      <td>30.0</td>\n",
       "      <td>28</td>\n",
       "      <td>surf</td>\n",
       "      <td>WA</td>\n",
       "      <td>0</td>\n",
       "      <td>50</td>\n",
       "      <td>500</td>\n",
       "      <td>20</td>\n",
       "      <td>10</td>\n",
       "      <td>0.03</td>\n",
       "      <td>0.03</td>\n",
       "      <td>15.0</td>\n",
       "      <td>0.0</td>\n",
       "      <td>0.00</td>\n",
       "      <td>0.0</td>\n",
       "      <td>20.00</td>\n",
       "    </tr>\n",
       "    <tr>\n",
       "      <th>1</th>\n",
       "      <td>1001</td>\n",
       "      <td>2018-09</td>\n",
       "      <td>315.0</td>\n",
       "      <td>14.0</td>\n",
       "      <td>44.0</td>\n",
       "      <td>28</td>\n",
       "      <td>surf</td>\n",
       "      <td>WA</td>\n",
       "      <td>0</td>\n",
       "      <td>50</td>\n",
       "      <td>500</td>\n",
       "      <td>20</td>\n",
       "      <td>10</td>\n",
       "      <td>0.03</td>\n",
       "      <td>0.03</td>\n",
       "      <td>15.0</td>\n",
       "      <td>0.0</td>\n",
       "      <td>0.00</td>\n",
       "      <td>0.0</td>\n",
       "      <td>20.00</td>\n",
       "    </tr>\n",
       "    <tr>\n",
       "      <th>2</th>\n",
       "      <td>1001</td>\n",
       "      <td>2018-10</td>\n",
       "      <td>393.0</td>\n",
       "      <td>22.0</td>\n",
       "      <td>53.0</td>\n",
       "      <td>28</td>\n",
       "      <td>surf</td>\n",
       "      <td>WA</td>\n",
       "      <td>0</td>\n",
       "      <td>50</td>\n",
       "      <td>500</td>\n",
       "      <td>20</td>\n",
       "      <td>10</td>\n",
       "      <td>0.03</td>\n",
       "      <td>0.03</td>\n",
       "      <td>15.0</td>\n",
       "      <td>0.0</td>\n",
       "      <td>0.09</td>\n",
       "      <td>70.0</td>\n",
       "      <td>90.09</td>\n",
       "    </tr>\n",
       "    <tr>\n",
       "      <th>3</th>\n",
       "      <td>1001</td>\n",
       "      <td>2018-11</td>\n",
       "      <td>426.0</td>\n",
       "      <td>19.0</td>\n",
       "      <td>36.0</td>\n",
       "      <td>28</td>\n",
       "      <td>surf</td>\n",
       "      <td>WA</td>\n",
       "      <td>0</td>\n",
       "      <td>50</td>\n",
       "      <td>500</td>\n",
       "      <td>20</td>\n",
       "      <td>10</td>\n",
       "      <td>0.03</td>\n",
       "      <td>0.03</td>\n",
       "      <td>15.0</td>\n",
       "      <td>0.0</td>\n",
       "      <td>0.00</td>\n",
       "      <td>40.0</td>\n",
       "      <td>60.00</td>\n",
       "    </tr>\n",
       "    <tr>\n",
       "      <th>4</th>\n",
       "      <td>1001</td>\n",
       "      <td>2018-12</td>\n",
       "      <td>412.0</td>\n",
       "      <td>19.0</td>\n",
       "      <td>44.0</td>\n",
       "      <td>28</td>\n",
       "      <td>surf</td>\n",
       "      <td>WA</td>\n",
       "      <td>0</td>\n",
       "      <td>50</td>\n",
       "      <td>500</td>\n",
       "      <td>20</td>\n",
       "      <td>10</td>\n",
       "      <td>0.03</td>\n",
       "      <td>0.03</td>\n",
       "      <td>15.0</td>\n",
       "      <td>0.0</td>\n",
       "      <td>0.00</td>\n",
       "      <td>40.0</td>\n",
       "      <td>60.00</td>\n",
       "    </tr>\n",
       "  </tbody>\n",
       "</table>\n",
       "</div>"
      ],
      "text/plain": [
       "   user_id    month  duration  gb_used  sms_count  age  plan state  is_nynj  \\\n",
       "0     1001  2018-08     182.0      7.0       30.0   28  surf   WA         0   \n",
       "1     1001  2018-09     315.0     14.0       44.0   28  surf   WA         0   \n",
       "2     1001  2018-10     393.0     22.0       53.0   28  surf   WA         0   \n",
       "3     1001  2018-11     426.0     19.0       36.0   28  surf   WA         0   \n",
       "4     1001  2018-12     412.0     19.0       44.0   28  surf   WA         0   \n",
       "\n",
       "   messages_included  minutes_included  usd_monthly_pay  usd_per_gb  \\\n",
       "0                 50               500               20          10   \n",
       "1                 50               500               20          10   \n",
       "2                 50               500               20          10   \n",
       "3                 50               500               20          10   \n",
       "4                 50               500               20          10   \n",
       "\n",
       "   usd_per_message  usd_per_minute  gb_included  extra_call  extra_sms  \\\n",
       "0             0.03            0.03         15.0         0.0       0.00   \n",
       "1             0.03            0.03         15.0         0.0       0.00   \n",
       "2             0.03            0.03         15.0         0.0       0.09   \n",
       "3             0.03            0.03         15.0         0.0       0.00   \n",
       "4             0.03            0.03         15.0         0.0       0.00   \n",
       "\n",
       "   extra_internet  total_income  \n",
       "0             0.0         20.00  \n",
       "1             0.0         20.00  \n",
       "2            70.0         90.09  \n",
       "3            40.0         60.00  \n",
       "4            40.0         60.00  "
      ]
     },
     "execution_count": 57,
     "metadata": {},
     "output_type": "execute_result"
    }
   ],
   "source": [
    "#comparing monthly total minutes for each package\n",
    "# Surf users dataset\n",
    "surf_users = df[df['plan'] == 'surf'].copy()\n",
    "surf_users.reset_index(drop=True, inplace=True)\n",
    "surf_users.head()"
   ]
  },
  {
   "cell_type": "code",
   "execution_count": 58,
   "metadata": {},
   "outputs": [
    {
     "data": {
      "text/html": [
       "<div>\n",
       "<style scoped>\n",
       "    .dataframe tbody tr th:only-of-type {\n",
       "        vertical-align: middle;\n",
       "    }\n",
       "\n",
       "    .dataframe tbody tr th {\n",
       "        vertical-align: top;\n",
       "    }\n",
       "\n",
       "    .dataframe thead th {\n",
       "        text-align: right;\n",
       "    }\n",
       "</style>\n",
       "<table border=\"1\" class=\"dataframe\">\n",
       "  <thead>\n",
       "    <tr style=\"text-align: right;\">\n",
       "      <th></th>\n",
       "      <th>month</th>\n",
       "      <th>duration</th>\n",
       "    </tr>\n",
       "  </thead>\n",
       "  <tbody>\n",
       "    <tr>\n",
       "      <th>0</th>\n",
       "      <td>2018-01</td>\n",
       "      <td>406.0</td>\n",
       "    </tr>\n",
       "    <tr>\n",
       "      <th>1</th>\n",
       "      <td>2018-02</td>\n",
       "      <td>2673.0</td>\n",
       "    </tr>\n",
       "    <tr>\n",
       "      <th>2</th>\n",
       "      <td>2018-03</td>\n",
       "      <td>7590.0</td>\n",
       "    </tr>\n",
       "    <tr>\n",
       "      <th>3</th>\n",
       "      <td>2018-04</td>\n",
       "      <td>17577.0</td>\n",
       "    </tr>\n",
       "    <tr>\n",
       "      <th>4</th>\n",
       "      <td>2018-05</td>\n",
       "      <td>30768.0</td>\n",
       "    </tr>\n",
       "    <tr>\n",
       "      <th>5</th>\n",
       "      <td>2018-06</td>\n",
       "      <td>41836.0</td>\n",
       "    </tr>\n",
       "    <tr>\n",
       "      <th>6</th>\n",
       "      <td>2018-07</td>\n",
       "      <td>54448.0</td>\n",
       "    </tr>\n",
       "    <tr>\n",
       "      <th>7</th>\n",
       "      <td>2018-08</td>\n",
       "      <td>66438.0</td>\n",
       "    </tr>\n",
       "    <tr>\n",
       "      <th>8</th>\n",
       "      <td>2018-09</td>\n",
       "      <td>80360.0</td>\n",
       "    </tr>\n",
       "    <tr>\n",
       "      <th>9</th>\n",
       "      <td>2018-10</td>\n",
       "      <td>101846.0</td>\n",
       "    </tr>\n",
       "    <tr>\n",
       "      <th>10</th>\n",
       "      <td>2018-11</td>\n",
       "      <td>119801.0</td>\n",
       "    </tr>\n",
       "    <tr>\n",
       "      <th>11</th>\n",
       "      <td>2018-12</td>\n",
       "      <td>150680.0</td>\n",
       "    </tr>\n",
       "  </tbody>\n",
       "</table>\n",
       "</div>"
      ],
      "text/plain": [
       "      month  duration\n",
       "0   2018-01     406.0\n",
       "1   2018-02    2673.0\n",
       "2   2018-03    7590.0\n",
       "3   2018-04   17577.0\n",
       "4   2018-05   30768.0\n",
       "5   2018-06   41836.0\n",
       "6   2018-07   54448.0\n",
       "7   2018-08   66438.0\n",
       "8   2018-09   80360.0\n",
       "9   2018-10  101846.0\n",
       "10  2018-11  119801.0\n",
       "11  2018-12  150680.0"
      ]
     },
     "execution_count": 58,
     "metadata": {},
     "output_type": "execute_result"
    }
   ],
   "source": [
    "surf_duration_monthly = pd.pivot_table(surf_users, index='month', values='duration', aggfunc='sum').reset_index()\n",
    "\n",
    "# change periode M data type to string (for visualization)\n",
    "surf_duration_monthly['month'] = surf_duration_monthly['month'].astype('str')\n",
    "surf_duration_monthly"
   ]
  },
  {
   "cell_type": "code",
   "execution_count": 59,
   "metadata": {
    "scrolled": false
   },
   "outputs": [
    {
     "data": {
      "text/html": [
       "<div>\n",
       "<style scoped>\n",
       "    .dataframe tbody tr th:only-of-type {\n",
       "        vertical-align: middle;\n",
       "    }\n",
       "\n",
       "    .dataframe tbody tr th {\n",
       "        vertical-align: top;\n",
       "    }\n",
       "\n",
       "    .dataframe thead th {\n",
       "        text-align: right;\n",
       "    }\n",
       "</style>\n",
       "<table border=\"1\" class=\"dataframe\">\n",
       "  <thead>\n",
       "    <tr style=\"text-align: right;\">\n",
       "      <th></th>\n",
       "      <th>user_id</th>\n",
       "      <th>month</th>\n",
       "      <th>duration</th>\n",
       "      <th>gb_used</th>\n",
       "      <th>sms_count</th>\n",
       "      <th>age</th>\n",
       "      <th>plan</th>\n",
       "      <th>state</th>\n",
       "      <th>is_nynj</th>\n",
       "      <th>messages_included</th>\n",
       "      <th>minutes_included</th>\n",
       "      <th>usd_monthly_pay</th>\n",
       "      <th>usd_per_gb</th>\n",
       "      <th>usd_per_message</th>\n",
       "      <th>usd_per_minute</th>\n",
       "      <th>gb_included</th>\n",
       "      <th>extra_call</th>\n",
       "      <th>extra_sms</th>\n",
       "      <th>extra_internet</th>\n",
       "      <th>total_income</th>\n",
       "    </tr>\n",
       "  </thead>\n",
       "  <tbody>\n",
       "    <tr>\n",
       "      <th>0</th>\n",
       "      <td>1000</td>\n",
       "      <td>2018-12</td>\n",
       "      <td>124.0</td>\n",
       "      <td>2.0</td>\n",
       "      <td>11.0</td>\n",
       "      <td>45</td>\n",
       "      <td>ultimate</td>\n",
       "      <td>GA</td>\n",
       "      <td>0</td>\n",
       "      <td>1000</td>\n",
       "      <td>3000</td>\n",
       "      <td>70</td>\n",
       "      <td>7</td>\n",
       "      <td>0.01</td>\n",
       "      <td>0.01</td>\n",
       "      <td>30.0</td>\n",
       "      <td>0.0</td>\n",
       "      <td>0.0</td>\n",
       "      <td>0.0</td>\n",
       "      <td>70.0</td>\n",
       "    </tr>\n",
       "    <tr>\n",
       "      <th>1</th>\n",
       "      <td>1006</td>\n",
       "      <td>2018-11</td>\n",
       "      <td>10.0</td>\n",
       "      <td>3.0</td>\n",
       "      <td>15.0</td>\n",
       "      <td>73</td>\n",
       "      <td>ultimate</td>\n",
       "      <td>CA</td>\n",
       "      <td>0</td>\n",
       "      <td>1000</td>\n",
       "      <td>3000</td>\n",
       "      <td>70</td>\n",
       "      <td>7</td>\n",
       "      <td>0.01</td>\n",
       "      <td>0.01</td>\n",
       "      <td>30.0</td>\n",
       "      <td>0.0</td>\n",
       "      <td>0.0</td>\n",
       "      <td>0.0</td>\n",
       "      <td>70.0</td>\n",
       "    </tr>\n",
       "    <tr>\n",
       "      <th>2</th>\n",
       "      <td>1006</td>\n",
       "      <td>2018-12</td>\n",
       "      <td>59.0</td>\n",
       "      <td>32.0</td>\n",
       "      <td>139.0</td>\n",
       "      <td>73</td>\n",
       "      <td>ultimate</td>\n",
       "      <td>CA</td>\n",
       "      <td>0</td>\n",
       "      <td>1000</td>\n",
       "      <td>3000</td>\n",
       "      <td>70</td>\n",
       "      <td>7</td>\n",
       "      <td>0.01</td>\n",
       "      <td>0.01</td>\n",
       "      <td>30.0</td>\n",
       "      <td>0.0</td>\n",
       "      <td>0.0</td>\n",
       "      <td>14.0</td>\n",
       "      <td>84.0</td>\n",
       "    </tr>\n",
       "    <tr>\n",
       "      <th>3</th>\n",
       "      <td>1008</td>\n",
       "      <td>2018-10</td>\n",
       "      <td>476.0</td>\n",
       "      <td>17.0</td>\n",
       "      <td>21.0</td>\n",
       "      <td>53</td>\n",
       "      <td>ultimate</td>\n",
       "      <td>FL</td>\n",
       "      <td>0</td>\n",
       "      <td>1000</td>\n",
       "      <td>3000</td>\n",
       "      <td>70</td>\n",
       "      <td>7</td>\n",
       "      <td>0.01</td>\n",
       "      <td>0.01</td>\n",
       "      <td>30.0</td>\n",
       "      <td>0.0</td>\n",
       "      <td>0.0</td>\n",
       "      <td>0.0</td>\n",
       "      <td>70.0</td>\n",
       "    </tr>\n",
       "    <tr>\n",
       "      <th>4</th>\n",
       "      <td>1008</td>\n",
       "      <td>2018-11</td>\n",
       "      <td>446.0</td>\n",
       "      <td>24.0</td>\n",
       "      <td>37.0</td>\n",
       "      <td>53</td>\n",
       "      <td>ultimate</td>\n",
       "      <td>FL</td>\n",
       "      <td>0</td>\n",
       "      <td>1000</td>\n",
       "      <td>3000</td>\n",
       "      <td>70</td>\n",
       "      <td>7</td>\n",
       "      <td>0.01</td>\n",
       "      <td>0.01</td>\n",
       "      <td>30.0</td>\n",
       "      <td>0.0</td>\n",
       "      <td>0.0</td>\n",
       "      <td>0.0</td>\n",
       "      <td>70.0</td>\n",
       "    </tr>\n",
       "  </tbody>\n",
       "</table>\n",
       "</div>"
      ],
      "text/plain": [
       "   user_id    month  duration  gb_used  sms_count  age      plan state  \\\n",
       "0     1000  2018-12     124.0      2.0       11.0   45  ultimate   GA    \n",
       "1     1006  2018-11      10.0      3.0       15.0   73  ultimate   CA    \n",
       "2     1006  2018-12      59.0     32.0      139.0   73  ultimate   CA    \n",
       "3     1008  2018-10     476.0     17.0       21.0   53  ultimate   FL    \n",
       "4     1008  2018-11     446.0     24.0       37.0   53  ultimate   FL    \n",
       "\n",
       "   is_nynj  messages_included  minutes_included  usd_monthly_pay  usd_per_gb  \\\n",
       "0        0               1000              3000               70           7   \n",
       "1        0               1000              3000               70           7   \n",
       "2        0               1000              3000               70           7   \n",
       "3        0               1000              3000               70           7   \n",
       "4        0               1000              3000               70           7   \n",
       "\n",
       "   usd_per_message  usd_per_minute  gb_included  extra_call  extra_sms  \\\n",
       "0             0.01            0.01         30.0         0.0        0.0   \n",
       "1             0.01            0.01         30.0         0.0        0.0   \n",
       "2             0.01            0.01         30.0         0.0        0.0   \n",
       "3             0.01            0.01         30.0         0.0        0.0   \n",
       "4             0.01            0.01         30.0         0.0        0.0   \n",
       "\n",
       "   extra_internet  total_income  \n",
       "0             0.0          70.0  \n",
       "1             0.0          70.0  \n",
       "2            14.0          84.0  \n",
       "3             0.0          70.0  \n",
       "4             0.0          70.0  "
      ]
     },
     "execution_count": 59,
     "metadata": {},
     "output_type": "execute_result"
    }
   ],
   "source": [
    "# Ultimate users dataset\n",
    "ultimate_users = df[df['plan'] == 'ultimate'].copy()\n",
    "ultimate_users.reset_index(drop=True, inplace=True)\n",
    "ultimate_users.head()"
   ]
  },
  {
   "cell_type": "code",
   "execution_count": 60,
   "metadata": {},
   "outputs": [
    {
     "data": {
      "text/html": [
       "<div>\n",
       "<style scoped>\n",
       "    .dataframe tbody tr th:only-of-type {\n",
       "        vertical-align: middle;\n",
       "    }\n",
       "\n",
       "    .dataframe tbody tr th {\n",
       "        vertical-align: top;\n",
       "    }\n",
       "\n",
       "    .dataframe thead th {\n",
       "        text-align: right;\n",
       "    }\n",
       "</style>\n",
       "<table border=\"1\" class=\"dataframe\">\n",
       "  <thead>\n",
       "    <tr style=\"text-align: right;\">\n",
       "      <th></th>\n",
       "      <th>month</th>\n",
       "      <th>duration</th>\n",
       "    </tr>\n",
       "  </thead>\n",
       "  <tbody>\n",
       "    <tr>\n",
       "      <th>0</th>\n",
       "      <td>2018-01</td>\n",
       "      <td>774.0</td>\n",
       "    </tr>\n",
       "    <tr>\n",
       "      <th>1</th>\n",
       "      <td>2018-02</td>\n",
       "      <td>2822.0</td>\n",
       "    </tr>\n",
       "    <tr>\n",
       "      <th>2</th>\n",
       "      <td>2018-03</td>\n",
       "      <td>3651.0</td>\n",
       "    </tr>\n",
       "    <tr>\n",
       "      <th>3</th>\n",
       "      <td>2018-04</td>\n",
       "      <td>7074.0</td>\n",
       "    </tr>\n",
       "    <tr>\n",
       "      <th>4</th>\n",
       "      <td>2018-05</td>\n",
       "      <td>11781.0</td>\n",
       "    </tr>\n",
       "    <tr>\n",
       "      <th>5</th>\n",
       "      <td>2018-06</td>\n",
       "      <td>17435.0</td>\n",
       "    </tr>\n",
       "    <tr>\n",
       "      <th>6</th>\n",
       "      <td>2018-07</td>\n",
       "      <td>25197.0</td>\n",
       "    </tr>\n",
       "    <tr>\n",
       "      <th>7</th>\n",
       "      <td>2018-08</td>\n",
       "      <td>29922.0</td>\n",
       "    </tr>\n",
       "    <tr>\n",
       "      <th>8</th>\n",
       "      <td>2018-09</td>\n",
       "      <td>37626.0</td>\n",
       "    </tr>\n",
       "    <tr>\n",
       "      <th>9</th>\n",
       "      <td>2018-10</td>\n",
       "      <td>47778.0</td>\n",
       "    </tr>\n",
       "    <tr>\n",
       "      <th>10</th>\n",
       "      <td>2018-11</td>\n",
       "      <td>56540.0</td>\n",
       "    </tr>\n",
       "    <tr>\n",
       "      <th>11</th>\n",
       "      <td>2018-12</td>\n",
       "      <td>69324.0</td>\n",
       "    </tr>\n",
       "  </tbody>\n",
       "</table>\n",
       "</div>"
      ],
      "text/plain": [
       "      month  duration\n",
       "0   2018-01     774.0\n",
       "1   2018-02    2822.0\n",
       "2   2018-03    3651.0\n",
       "3   2018-04    7074.0\n",
       "4   2018-05   11781.0\n",
       "5   2018-06   17435.0\n",
       "6   2018-07   25197.0\n",
       "7   2018-08   29922.0\n",
       "8   2018-09   37626.0\n",
       "9   2018-10   47778.0\n",
       "10  2018-11   56540.0\n",
       "11  2018-12   69324.0"
      ]
     },
     "execution_count": 60,
     "metadata": {},
     "output_type": "execute_result"
    }
   ],
   "source": [
    "ultimate_duration_monthly = pd.pivot_table(ultimate_users, index='month', values='duration', aggfunc='sum').reset_index()\n",
    "\n",
    "# change periode M data type to string (for visualization)\n",
    "ultimate_duration_monthly['month'] = ultimate_duration_monthly['month'].astype('str')\n",
    "ultimate_duration_monthly"
   ]
  },
  {
   "cell_type": "code",
   "execution_count": 61,
   "metadata": {},
   "outputs": [
    {
     "data": {
      "image/png": "[encoded data removed]",
      "text/plain": [
       "<Figure size 1000x600 with 1 Axes>"
      ]
     },
     "metadata": {},
     "output_type": "display_data"
    },
    {
     "data": {
      "image/png": "[encoded data removed]",
      "text/plain": [
       "<Figure size 1000x600 with 1 Axes>"
      ]
     },
     "metadata": {},
     "output_type": "display_data"
    }
   ],
   "source": [
    "# Histogram of Surf users\n",
    "months = surf_duration_monthly['month']\n",
    "duration = surf_duration_monthly['duration']\n",
    "plt.figure(figsize=(10, 6))\n",
    "plt.bar(months, duration, color='red', width=0.6)\n",
    "plt.xlabel('Month')\n",
    "plt.ylabel('Total Duration in Minutes')\n",
    "plt.title('Total Call Duration by Month for Surf Package')\n",
    "plt.xticks(rotation=45) \n",
    "plt.show()\n",
    "\n",
    "# Histogram of Ultimate users\n",
    "months = ultimate_duration_monthly['month']\n",
    "duration = ultimate_duration_monthly['duration']\n",
    "plt.figure(figsize=(10, 6))\n",
    "plt.bar(months, duration, color='blue', width=0.6)\n",
    "plt.xlabel('Month')\n",
    "plt.ylabel('Total Duration in Minutes')\n",
    "plt.title('Total Call Duration by Month for Ultimate Package')\n",
    "plt.xticks(rotation=45)\n",
    "plt.show()\n"
   ]
  },
  {
   "cell_type": "markdown",
   "metadata": {},
   "source": [
    "The histogram above indicates a positive trend in call durations. \n",
    "\n",
    "This trend may be attributed to the increasing number of new Megaline customers (for both the Surf and Ultimate packages) each month. However, this does not necessarily imply that each customer is making longer phone calls every month, as evidenced by the previous bar chart, which shows that the average call duration remains below 500 minutes."
   ]
  },
  {
   "cell_type": "code",
   "execution_count": 62,
   "metadata": {},
   "outputs": [
    {
     "name": "stdout",
     "output_type": "stream",
     "text": [
      "Duration average of Surf:\n",
      "Deviation tandard: 76.5 minutes\n",
      "Variance: 5857.7\n",
      "\n",
      "Duration average of Ultimate:\n",
      "Deviation standard: 77.3 minutes\n",
      "Variance: 5970.0\n",
      "\n"
     ]
    }
   ],
   "source": [
    "# calculate deviation standard and variance of monthly phone call duration\n",
    "# Surf users\n",
    "surf_duration_std = round(avg_duration_monthly['surf'].std(), 1)\n",
    "surf_duration_var = round(avg_duration_monthly['surf'].var(), 1)\n",
    "\n",
    "# Ultimate users\n",
    "ulti_duration_std = round(avg_duration_monthly['ultimate'].std(), 1)\n",
    "ulti_duration_var = round(avg_duration_monthly['ultimate'].var(), 1)\n",
    "\n",
    "print('Duration average of Surf:')\n",
    "print(f'Deviation tandard: {surf_duration_std} minutes')\n",
    "print(f'Variance: {surf_duration_var}')\n",
    "print()\n",
    "print('Duration average of Ultimate:')\n",
    "print(f'Deviation standard: {ulti_duration_std} minutes')\n",
    "print(f'Variance: {ulti_duration_var}')\n",
    "print()"
   ]
  },
  {
   "cell_type": "code",
   "execution_count": 63,
   "metadata": {
    "scrolled": true
   },
   "outputs": [
    {
     "data": {
      "text/plain": [
       "<AxesSubplot:>"
      ]
     },
     "execution_count": 63,
     "metadata": {},
     "output_type": "execute_result"
    },
    {
     "data": {
      "image/png": "[encoded data removed]",
      "text/plain": [
       "<Figure size 640x480 with 1 Axes>"
      ]
     },
     "metadata": {},
     "output_type": "display_data"
    }
   ],
   "source": [
    "#Boxplot of monthly phone call duration average\n",
    "avg_duration_monthly.boxplot()"
   ]
  },
  {
   "cell_type": "markdown",
   "metadata": {},
   "source": [
    "There are both similarities and differences between the boxplots of the Surf and Ultimate packages.\n",
    "\n",
    "The similarity lies in the median (green line), which is not centered within the boxplot. This observation confirms the previous finding that the difference between the median and mean is relatively large, **indicating a skewed distribution for each package.**\n",
    "\n",
    "Considering the relatively large standard deviations for both packages, it can be concluded that the **calling behavior of customers for both packages varies significantly**. There are certain months in which customers are more active in making phone calls.\n",
    "\n",
    "The difference pertains to the distance between the upper and lower whiskers. The distribution for the Surf package exhibits a greater distance between the whiskers, suggesting that **the variability in calling behavior among Surf customers is higher**, while the calling behavior of Ultimate customers remains more consistent month to month."
   ]
  },
  {
   "cell_type": "markdown",
   "metadata": {},
   "source": [
    "### Text Messaging Activity"
   ]
  },
  {
   "cell_type": "code",
   "execution_count": 64,
   "metadata": {},
   "outputs": [
    {
     "data": {
      "text/html": [
       "<div>\n",
       "<style scoped>\n",
       "    .dataframe tbody tr th:only-of-type {\n",
       "        vertical-align: middle;\n",
       "    }\n",
       "\n",
       "    .dataframe tbody tr th {\n",
       "        vertical-align: top;\n",
       "    }\n",
       "\n",
       "    .dataframe thead th {\n",
       "        text-align: right;\n",
       "    }\n",
       "</style>\n",
       "<table border=\"1\" class=\"dataframe\">\n",
       "  <thead>\n",
       "    <tr style=\"text-align: right;\">\n",
       "      <th>plan</th>\n",
       "      <th>month</th>\n",
       "      <th>surf</th>\n",
       "      <th>ultimate</th>\n",
       "    </tr>\n",
       "  </thead>\n",
       "  <tbody>\n",
       "    <tr>\n",
       "      <th>0</th>\n",
       "      <td>2018-01</td>\n",
       "      <td>10.500000</td>\n",
       "      <td>15.500000</td>\n",
       "    </tr>\n",
       "    <tr>\n",
       "      <th>1</th>\n",
       "      <td>2018-02</td>\n",
       "      <td>12.000000</td>\n",
       "      <td>21.571429</td>\n",
       "    </tr>\n",
       "    <tr>\n",
       "      <th>2</th>\n",
       "      <td>2018-03</td>\n",
       "      <td>15.260870</td>\n",
       "      <td>20.250000</td>\n",
       "    </tr>\n",
       "    <tr>\n",
       "      <th>3</th>\n",
       "      <td>2018-04</td>\n",
       "      <td>17.400000</td>\n",
       "      <td>22.047619</td>\n",
       "    </tr>\n",
       "    <tr>\n",
       "      <th>4</th>\n",
       "      <td>2018-05</td>\n",
       "      <td>24.012987</td>\n",
       "      <td>32.103448</td>\n",
       "    </tr>\n",
       "    <tr>\n",
       "      <th>5</th>\n",
       "      <td>2018-06</td>\n",
       "      <td>25.298969</td>\n",
       "      <td>29.340426</td>\n",
       "    </tr>\n",
       "    <tr>\n",
       "      <th>6</th>\n",
       "      <td>2018-07</td>\n",
       "      <td>27.033058</td>\n",
       "      <td>32.830508</td>\n",
       "    </tr>\n",
       "    <tr>\n",
       "      <th>7</th>\n",
       "      <td>2018-08</td>\n",
       "      <td>28.777778</td>\n",
       "      <td>38.478873</td>\n",
       "    </tr>\n",
       "    <tr>\n",
       "      <th>8</th>\n",
       "      <td>2018-09</td>\n",
       "      <td>30.762887</td>\n",
       "      <td>37.895349</td>\n",
       "    </tr>\n",
       "    <tr>\n",
       "      <th>9</th>\n",
       "      <td>2018-10</td>\n",
       "      <td>33.839662</td>\n",
       "      <td>39.443396</td>\n",
       "    </tr>\n",
       "    <tr>\n",
       "      <th>10</th>\n",
       "      <td>2018-11</td>\n",
       "      <td>32.385159</td>\n",
       "      <td>38.606299</td>\n",
       "    </tr>\n",
       "    <tr>\n",
       "      <th>11</th>\n",
       "      <td>2018-12</td>\n",
       "      <td>38.600629</td>\n",
       "      <td>45.006623</td>\n",
       "    </tr>\n",
       "  </tbody>\n",
       "</table>\n",
       "</div>"
      ],
      "text/plain": [
       "plan    month       surf   ultimate\n",
       "0     2018-01  10.500000  15.500000\n",
       "1     2018-02  12.000000  21.571429\n",
       "2     2018-03  15.260870  20.250000\n",
       "3     2018-04  17.400000  22.047619\n",
       "4     2018-05  24.012987  32.103448\n",
       "5     2018-06  25.298969  29.340426\n",
       "6     2018-07  27.033058  32.830508\n",
       "7     2018-08  28.777778  38.478873\n",
       "8     2018-09  30.762887  37.895349\n",
       "9     2018-10  33.839662  39.443396\n",
       "10    2018-11  32.385159  38.606299\n",
       "11    2018-12  38.600629  45.006623"
      ]
     },
     "execution_count": 64,
     "metadata": {},
     "output_type": "execute_result"
    }
   ],
   "source": [
    "# compare number of text messages sent monthly by package type\n",
    "avg_sms_monthly = pd.pivot_table(df, index='month', columns='plan', values='sms_count').reset_index()\n",
    "\n",
    "# change periode M data type to string for visualization\n",
    "avg_sms_monthly['month'] = avg_sms_monthly['month'].astype('str')\n",
    "avg_sms_monthly"
   ]
  },
  {
   "cell_type": "code",
   "execution_count": 65,
   "metadata": {},
   "outputs": [
    {
     "data": {
      "text/html": [
       "<div>\n",
       "<style scoped>\n",
       "    .dataframe tbody tr th:only-of-type {\n",
       "        vertical-align: middle;\n",
       "    }\n",
       "\n",
       "    .dataframe tbody tr th {\n",
       "        vertical-align: top;\n",
       "    }\n",
       "\n",
       "    .dataframe thead th {\n",
       "        text-align: right;\n",
       "    }\n",
       "</style>\n",
       "<table border=\"1\" class=\"dataframe\">\n",
       "  <thead>\n",
       "    <tr style=\"text-align: right;\">\n",
       "      <th>plan</th>\n",
       "      <th>surf</th>\n",
       "      <th>ultimate</th>\n",
       "    </tr>\n",
       "  </thead>\n",
       "  <tbody>\n",
       "    <tr>\n",
       "      <th>count</th>\n",
       "      <td>12.000000</td>\n",
       "      <td>12.000000</td>\n",
       "    </tr>\n",
       "    <tr>\n",
       "      <th>mean</th>\n",
       "      <td>24.656000</td>\n",
       "      <td>31.089497</td>\n",
       "    </tr>\n",
       "    <tr>\n",
       "      <th>std</th>\n",
       "      <td>9.049246</td>\n",
       "      <td>9.346334</td>\n",
       "    </tr>\n",
       "    <tr>\n",
       "      <th>min</th>\n",
       "      <td>10.500000</td>\n",
       "      <td>15.500000</td>\n",
       "    </tr>\n",
       "    <tr>\n",
       "      <th>25%</th>\n",
       "      <td>16.865217</td>\n",
       "      <td>21.928571</td>\n",
       "    </tr>\n",
       "    <tr>\n",
       "      <th>50%</th>\n",
       "      <td>26.166013</td>\n",
       "      <td>32.466978</td>\n",
       "    </tr>\n",
       "    <tr>\n",
       "      <th>75%</th>\n",
       "      <td>31.168455</td>\n",
       "      <td>38.510730</td>\n",
       "    </tr>\n",
       "    <tr>\n",
       "      <th>max</th>\n",
       "      <td>38.600629</td>\n",
       "      <td>45.006623</td>\n",
       "    </tr>\n",
       "  </tbody>\n",
       "</table>\n",
       "</div>"
      ],
      "text/plain": [
       "plan        surf   ultimate\n",
       "count  12.000000  12.000000\n",
       "mean   24.656000  31.089497\n",
       "std     9.049246   9.346334\n",
       "min    10.500000  15.500000\n",
       "25%    16.865217  21.928571\n",
       "50%    26.166013  32.466978\n",
       "75%    31.168455  38.510730\n",
       "max    38.600629  45.006623"
      ]
     },
     "execution_count": 65,
     "metadata": {},
     "output_type": "execute_result"
    }
   ],
   "source": [
    "avg_sms_monthly.describe()"
   ]
  },
  {
   "cell_type": "markdown",
   "metadata": {},
   "source": [
    "The table above provides a brief overview of the average monthly text messages sent for the Surf and Ultimate plans over the course of one year. \n",
    "\n",
    "Key findings are as follows:\n",
    "\n",
    "On average, **Ultimate plan users tend to send more text messages** than those on the Surf plan. This difference is likely attributed to the significantly larger text message quota offered by the Ultimate plan compared to Surf. However, further analysis is needed to determine whether this difference is statistically significant and could serve as a basis for business decisions.\n",
    "\n",
    "The standard deviation for both plans indicates **moderate variability**, suggesting that while there is some fluctuation in text messaging activity each month, the range of variation is not substantial. Text messaging activity for both plans remains relatively stable across months.\n",
    "\n",
    "In terms of minimum and maximum values, the **average range for the Ultimate plan is slightly wider** than that of the Surf plan."
   ]
  },
  {
   "cell_type": "code",
   "execution_count": 66,
   "metadata": {},
   "outputs": [
    {
     "data": {
      "image/png": "[encoded data removed]",
      "text/plain": [
       "<Figure size 1000x600 with 1 Axes>"
      ]
     },
     "metadata": {},
     "output_type": "display_data"
    }
   ],
   "source": [
    "# bar chart of monthly average SMS activity of both packages\n",
    "months_sms = avg_sms_monthly['month']\n",
    "surf_sms = avg_sms_monthly['surf']\n",
    "ultimate_sms = avg_sms_monthly['ultimate']\n",
    "plt.figure(figsize=(10, 6))\n",
    "plt.bar(months_sms, surf_sms, label='surf', color='red', width=0.4, align='center')\n",
    "plt.bar(months_sms, ultimate_sms, label='ultimate', color='blue', width=0.4, align='edge')\n",
    "plt.ylim(0, 60)\n",
    "plt.xlabel('Month')\n",
    "plt.ylabel('Text Messages Average')\n",
    "plt.title('Monthly Average Text Messaging Comparison')\n",
    "plt.legend()\n",
    "plt.show()"
   ]
  },
  {
   "cell_type": "markdown",
   "metadata": {},
   "source": [
    "The bar chart above illustrates a positive trend, showing an increase in text messaging activity each month for both the Surf and Ultimate plans.\n",
    "\n",
    "As noted in the previous analysis, on average, Ultimate plan users send more SMS than those on the Surf plan. Therefore, the next step is to assess whether this difference is statistically significant enough to inform Megaline's future business decisions.\n",
    "\n",
    "The average SMS usage for both plans remains below the allocated quota. While there may be instances where customers exceed their monthly SMS limit, these occurrences are infrequent and inconsistent. **Thus, it would be challenging for the company to rely on SMS activity alone to generate consistent surcharge revenue.**\n",
    "\n",
    "The low frequency of SMS usage—particularly among Surf plan users—can likely be attributed to the availability of internet-based instant messaging applications on smartphones (i.e. iMessage, WhatsApp), which offer unrestricted messaging. This alternative is often preferred over traditional SMS."
   ]
  },
  {
   "cell_type": "markdown",
   "metadata": {},
   "source": [
    "### Web Session Activity"
   ]
  },
  {
   "cell_type": "code",
   "execution_count": 67,
   "metadata": {},
   "outputs": [
    {
     "data": {
      "text/html": [
       "<div>\n",
       "<style scoped>\n",
       "    .dataframe tbody tr th:only-of-type {\n",
       "        vertical-align: middle;\n",
       "    }\n",
       "\n",
       "    .dataframe tbody tr th {\n",
       "        vertical-align: top;\n",
       "    }\n",
       "\n",
       "    .dataframe thead th {\n",
       "        text-align: right;\n",
       "    }\n",
       "</style>\n",
       "<table border=\"1\" class=\"dataframe\">\n",
       "  <thead>\n",
       "    <tr style=\"text-align: right;\">\n",
       "      <th>plan</th>\n",
       "      <th>month</th>\n",
       "      <th>surf</th>\n",
       "      <th>ultimate</th>\n",
       "    </tr>\n",
       "  </thead>\n",
       "  <tbody>\n",
       "    <tr>\n",
       "      <th>0</th>\n",
       "      <td>2018-01</td>\n",
       "      <td>5.000000</td>\n",
       "      <td>7.250000</td>\n",
       "    </tr>\n",
       "    <tr>\n",
       "      <th>1</th>\n",
       "      <td>2018-02</td>\n",
       "      <td>12.222222</td>\n",
       "      <td>17.285714</td>\n",
       "    </tr>\n",
       "    <tr>\n",
       "      <th>2</th>\n",
       "      <td>2018-03</td>\n",
       "      <td>13.565217</td>\n",
       "      <td>18.416667</td>\n",
       "    </tr>\n",
       "    <tr>\n",
       "      <th>3</th>\n",
       "      <td>2018-04</td>\n",
       "      <td>12.220000</td>\n",
       "      <td>16.333333</td>\n",
       "    </tr>\n",
       "    <tr>\n",
       "      <th>4</th>\n",
       "      <td>2018-05</td>\n",
       "      <td>14.116883</td>\n",
       "      <td>16.862069</td>\n",
       "    </tr>\n",
       "    <tr>\n",
       "      <th>5</th>\n",
       "      <td>2018-06</td>\n",
       "      <td>15.484536</td>\n",
       "      <td>15.425532</td>\n",
       "    </tr>\n",
       "    <tr>\n",
       "      <th>6</th>\n",
       "      <td>2018-07</td>\n",
       "      <td>16.876033</td>\n",
       "      <td>16.491525</td>\n",
       "    </tr>\n",
       "    <tr>\n",
       "      <th>7</th>\n",
       "      <td>2018-08</td>\n",
       "      <td>16.882716</td>\n",
       "      <td>17.845070</td>\n",
       "    </tr>\n",
       "    <tr>\n",
       "      <th>8</th>\n",
       "      <td>2018-09</td>\n",
       "      <td>16.690722</td>\n",
       "      <td>17.011628</td>\n",
       "    </tr>\n",
       "    <tr>\n",
       "      <th>9</th>\n",
       "      <td>2018-10</td>\n",
       "      <td>17.409283</td>\n",
       "      <td>17.716981</td>\n",
       "    </tr>\n",
       "    <tr>\n",
       "      <th>10</th>\n",
       "      <td>2018-11</td>\n",
       "      <td>16.431095</td>\n",
       "      <td>17.118110</td>\n",
       "    </tr>\n",
       "    <tr>\n",
       "      <th>11</th>\n",
       "      <td>2018-12</td>\n",
       "      <td>18.238994</td>\n",
       "      <td>18.397351</td>\n",
       "    </tr>\n",
       "  </tbody>\n",
       "</table>\n",
       "</div>"
      ],
      "text/plain": [
       "plan    month       surf   ultimate\n",
       "0     2018-01   5.000000   7.250000\n",
       "1     2018-02  12.222222  17.285714\n",
       "2     2018-03  13.565217  18.416667\n",
       "3     2018-04  12.220000  16.333333\n",
       "4     2018-05  14.116883  16.862069\n",
       "5     2018-06  15.484536  15.425532\n",
       "6     2018-07  16.876033  16.491525\n",
       "7     2018-08  16.882716  17.845070\n",
       "8     2018-09  16.690722  17.011628\n",
       "9     2018-10  17.409283  17.716981\n",
       "10    2018-11  16.431095  17.118110\n",
       "11    2018-12  18.238994  18.397351"
      ]
     },
     "execution_count": 67,
     "metadata": {},
     "output_type": "execute_result"
    }
   ],
   "source": [
    "# compare monthly average gigabyte across packages\n",
    "avg_gb_monthly = pd.pivot_table(df, index='month', columns='plan', values='gb_used').reset_index()\n",
    "\n",
    "# change data type of M periode to string (for visualization)\n",
    "avg_gb_monthly['month'] = avg_gb_monthly['month'].astype('str')\n",
    "avg_gb_monthly"
   ]
  },
  {
   "cell_type": "code",
   "execution_count": 68,
   "metadata": {},
   "outputs": [
    {
     "data": {
      "text/html": [
       "<div>\n",
       "<style scoped>\n",
       "    .dataframe tbody tr th:only-of-type {\n",
       "        vertical-align: middle;\n",
       "    }\n",
       "\n",
       "    .dataframe tbody tr th {\n",
       "        vertical-align: top;\n",
       "    }\n",
       "\n",
       "    .dataframe thead th {\n",
       "        text-align: right;\n",
       "    }\n",
       "</style>\n",
       "<table border=\"1\" class=\"dataframe\">\n",
       "  <thead>\n",
       "    <tr style=\"text-align: right;\">\n",
       "      <th>plan</th>\n",
       "      <th>surf</th>\n",
       "      <th>ultimate</th>\n",
       "    </tr>\n",
       "  </thead>\n",
       "  <tbody>\n",
       "    <tr>\n",
       "      <th>count</th>\n",
       "      <td>12.000000</td>\n",
       "      <td>12.000000</td>\n",
       "    </tr>\n",
       "    <tr>\n",
       "      <th>mean</th>\n",
       "      <td>14.594808</td>\n",
       "      <td>16.346165</td>\n",
       "    </tr>\n",
       "    <tr>\n",
       "      <th>std</th>\n",
       "      <td>3.628348</td>\n",
       "      <td>2.991152</td>\n",
       "    </tr>\n",
       "    <tr>\n",
       "      <th>min</th>\n",
       "      <td>5.000000</td>\n",
       "      <td>7.250000</td>\n",
       "    </tr>\n",
       "    <tr>\n",
       "      <th>25%</th>\n",
       "      <td>13.229469</td>\n",
       "      <td>16.451977</td>\n",
       "    </tr>\n",
       "    <tr>\n",
       "      <th>50%</th>\n",
       "      <td>15.957816</td>\n",
       "      <td>17.064869</td>\n",
       "    </tr>\n",
       "    <tr>\n",
       "      <th>75%</th>\n",
       "      <td>16.877704</td>\n",
       "      <td>17.749003</td>\n",
       "    </tr>\n",
       "    <tr>\n",
       "      <th>max</th>\n",
       "      <td>18.238994</td>\n",
       "      <td>18.416667</td>\n",
       "    </tr>\n",
       "  </tbody>\n",
       "</table>\n",
       "</div>"
      ],
      "text/plain": [
       "plan        surf   ultimate\n",
       "count  12.000000  12.000000\n",
       "mean   14.594808  16.346165\n",
       "std     3.628348   2.991152\n",
       "min     5.000000   7.250000\n",
       "25%    13.229469  16.451977\n",
       "50%    15.957816  17.064869\n",
       "75%    16.877704  17.749003\n",
       "max    18.238994  18.416667"
      ]
     },
     "execution_count": 68,
     "metadata": {},
     "output_type": "execute_result"
    }
   ],
   "source": [
    "avg_gb_monthly.describe()"
   ]
  },
  {
   "cell_type": "markdown",
   "metadata": {},
   "source": [
    "The table above provides a summary of the average internet data usage for users of the Surf and Ultimate plans.\n",
    "\n",
    "On average, **Ultimate plan users consume more data** than Surf plan users.\n",
    "\n",
    "According to the standard deviation, **internet usage among Ultimate plan users is more consistent**, while Surf plan users show greater variability in their usage.\n",
    "\n",
    "A bar chart visualization is needed to better understand how the data usage for each plan compares to the maximum data limits included in the respective packages."
   ]
  },
  {
   "cell_type": "code",
   "execution_count": 69,
   "metadata": {
    "scrolled": false
   },
   "outputs": [
    {
     "data": {
      "image/png": "[encoded data removed]",
      "text/plain": [
       "<Figure size 1000x600 with 1 Axes>"
      ]
     },
     "metadata": {},
     "output_type": "display_data"
    }
   ],
   "source": [
    "# bar chart of monthly average web session activity across packages\n",
    "months_gb = avg_gb_monthly['month']\n",
    "surf_gb = avg_gb_monthly['surf']\n",
    "ultimate_gb = avg_gb_monthly['ultimate']\n",
    "plt.figure(figsize=(10, 6))\n",
    "plt.bar(months_gb, surf_gb, label='surf', color='red', alpha=0.6, width=0.4, align='center')\n",
    "plt.bar(months_gb, ultimate_gb, label='ultimate', color='blue', alpha=0.6, width=0.4, align='edge')\n",
    "plt.axhline(y=15, color='red', linestyle='--', label='15 GB Limit')\n",
    "plt.axhline(y=30, color='blue', linestyle='--', label='30 GB Limit')\n",
    "plt.ylim(0, 40)\n",
    "plt.xlabel('Month')\n",
    "plt.ylabel('Internet Data Average')\n",
    "plt.title('Monthly Average Internet Data Comparison')\n",
    "plt.legend()\n",
    "plt.show()"
   ]
  },
  {
   "cell_type": "markdown",
   "metadata": {},
   "source": [
    "The bar chart above reveals the following findings:\n",
    "\n",
    "On average, **internet usage for the Ultimate plan never exceeds the allocated limit** of 30 GB per month. While individual users may occasionally exceed this limit, such instances are neither frequent nor consistent.\n",
    "\n",
    "In contrast, **Surf plan users have consistently exceeded the 15 GB data limit since June 2018**, resulting in a surcharge of `$10` per additional GB. This trend has continued, with data usage steadily increasing through the end of the year.\n",
    "\n",
    "This presents a potential revenue opportunity for the company, as data overage charges are the highest compared to excess fees for call duration or SMS.\n",
    "\n",
    "The consistent overuse of data likely stems from a shift in user behavior, with customers opting to make calls and send messages through internet-based applications. This is supported by previous findings, where average call and SMS activity never exceeded the plan's limits."
   ]
  },
  {
   "cell_type": "markdown",
   "metadata": {},
   "source": [
    "[Back to Analysis](#Analysis)"
   ]
  },
  {
   "cell_type": "markdown",
   "metadata": {},
   "source": [
    "## Revenue"
   ]
  },
  {
   "cell_type": "markdown",
   "metadata": {},
   "source": [
    "The findings on customer behavior from the previous section form the basis for examining how this behavior impacts company revenue. This section delves deeper into the revenue differences between the two plans.\n",
    "\n",
    "As mentioned at the beginning of the report, the starting price of the Surf plan is `$20`, while the Ultimate plan is priced at `$70`. The initial price gap is substantial, with a corresponding difference in benefits. \n",
    "\n",
    "**A preliminary assumption is that the Ultimate plan generates more revenue**, given that its price is more than three times that of the Surf plan."
   ]
  },
  {
   "cell_type": "code",
   "execution_count": 70,
   "metadata": {},
   "outputs": [
    {
     "data": {
      "text/html": [
       "<div>\n",
       "<style scoped>\n",
       "    .dataframe tbody tr th:only-of-type {\n",
       "        vertical-align: middle;\n",
       "    }\n",
       "\n",
       "    .dataframe tbody tr th {\n",
       "        vertical-align: top;\n",
       "    }\n",
       "\n",
       "    .dataframe thead th {\n",
       "        text-align: right;\n",
       "    }\n",
       "</style>\n",
       "<table border=\"1\" class=\"dataframe\">\n",
       "  <thead>\n",
       "    <tr style=\"text-align: right;\">\n",
       "      <th>plan</th>\n",
       "      <th>month</th>\n",
       "      <th>surf</th>\n",
       "      <th>ultimate</th>\n",
       "    </tr>\n",
       "  </thead>\n",
       "  <tbody>\n",
       "    <tr>\n",
       "      <th>0</th>\n",
       "      <td>2018-01</td>\n",
       "      <td>40.00</td>\n",
       "      <td>280.0</td>\n",
       "    </tr>\n",
       "    <tr>\n",
       "      <th>1</th>\n",
       "      <td>2018-02</td>\n",
       "      <td>309.57</td>\n",
       "      <td>490.0</td>\n",
       "    </tr>\n",
       "    <tr>\n",
       "      <th>2</th>\n",
       "      <td>2018-03</td>\n",
       "      <td>1056.65</td>\n",
       "      <td>896.0</td>\n",
       "    </tr>\n",
       "    <tr>\n",
       "      <th>3</th>\n",
       "      <td>2018-04</td>\n",
       "      <td>2035.53</td>\n",
       "      <td>1533.0</td>\n",
       "    </tr>\n",
       "    <tr>\n",
       "      <th>4</th>\n",
       "      <td>2018-05</td>\n",
       "      <td>3667.37</td>\n",
       "      <td>2051.0</td>\n",
       "    </tr>\n",
       "    <tr>\n",
       "      <th>5</th>\n",
       "      <td>2018-06</td>\n",
       "      <td>4779.80</td>\n",
       "      <td>3367.0</td>\n",
       "    </tr>\n",
       "    <tr>\n",
       "      <th>6</th>\n",
       "      <td>2018-07</td>\n",
       "      <td>7583.56</td>\n",
       "      <td>4242.0</td>\n",
       "    </tr>\n",
       "    <tr>\n",
       "      <th>7</th>\n",
       "      <td>2018-08</td>\n",
       "      <td>10356.85</td>\n",
       "      <td>5173.0</td>\n",
       "    </tr>\n",
       "    <tr>\n",
       "      <th>8</th>\n",
       "      <td>2018-09</td>\n",
       "      <td>11304.67</td>\n",
       "      <td>6195.0</td>\n",
       "    </tr>\n",
       "    <tr>\n",
       "      <th>9</th>\n",
       "      <td>2018-10</td>\n",
       "      <td>15504.83</td>\n",
       "      <td>7665.0</td>\n",
       "    </tr>\n",
       "    <tr>\n",
       "      <th>10</th>\n",
       "      <td>2018-11</td>\n",
       "      <td>16415.21</td>\n",
       "      <td>9107.0</td>\n",
       "    </tr>\n",
       "    <tr>\n",
       "      <th>11</th>\n",
       "      <td>2018-12</td>\n",
       "      <td>22437.14</td>\n",
       "      <td>11067.0</td>\n",
       "    </tr>\n",
       "  </tbody>\n",
       "</table>\n",
       "</div>"
      ],
      "text/plain": [
       "plan    month      surf  ultimate\n",
       "0     2018-01     40.00     280.0\n",
       "1     2018-02    309.57     490.0\n",
       "2     2018-03   1056.65     896.0\n",
       "3     2018-04   2035.53    1533.0\n",
       "4     2018-05   3667.37    2051.0\n",
       "5     2018-06   4779.80    3367.0\n",
       "6     2018-07   7583.56    4242.0\n",
       "7     2018-08  10356.85    5173.0\n",
       "8     2018-09  11304.67    6195.0\n",
       "9     2018-10  15504.83    7665.0\n",
       "10    2018-11  16415.21    9107.0\n",
       "11    2018-12  22437.14   11067.0"
      ]
     },
     "execution_count": 70,
     "metadata": {},
     "output_type": "execute_result"
    }
   ],
   "source": [
    "#new dataset of monthly revenue generated by both packages\n",
    "income_monthly = pd.pivot_table(df, index='month', columns='plan', values='total_income', aggfunc='sum').reset_index()\n",
    "\n",
    "#change M periode data type to string\n",
    "income_monthly['month'] = income_monthly['month'].astype(str)\n",
    "income_monthly"
   ]
  },
  {
   "cell_type": "code",
   "execution_count": 71,
   "metadata": {},
   "outputs": [
    {
     "data": {
      "image/png": "[encoded data removed]",
      "text/plain": [
       "<Figure size 1200x500 with 1 Axes>"
      ]
     },
     "metadata": {},
     "output_type": "display_data"
    }
   ],
   "source": [
    "# line chart of table 'total_income'\n",
    "plt.figure(figsize=(12, 5))\n",
    "plt.title('Total Income of Surf and Ultimate plan per Month')\n",
    "sns.lineplot(data=income_monthly, x=\"month\", y=\"surf\", color='red')\n",
    "sns.lineplot(data=income_monthly, x=\"month\", y=\"ultimate\", color='blue')\n",
    "plt.show()"
   ]
  },
  {
   "cell_type": "markdown",
   "metadata": {},
   "source": [
    "Based on the chart above, the following findings have been identified:\n",
    "\n",
    "There is a positive trend in monthly revenue for both plans.\n",
    "\n",
    "In January 2018, the total revenue from the Ultimate plan was higher. However, a shift occurred in March 2018, when revenue from the Surf plan surpassed that of the Ultimate plan. This gap continued to widen, and by the end of the year, revenue from the Surf plan had grown to more than double that of the Ultimate plan."
   ]
  },
  {
   "cell_type": "code",
   "execution_count": 72,
   "metadata": {},
   "outputs": [
    {
     "data": {
      "text/html": [
       "<div>\n",
       "<style scoped>\n",
       "    .dataframe tbody tr th:only-of-type {\n",
       "        vertical-align: middle;\n",
       "    }\n",
       "\n",
       "    .dataframe tbody tr th {\n",
       "        vertical-align: top;\n",
       "    }\n",
       "\n",
       "    .dataframe thead th {\n",
       "        text-align: right;\n",
       "    }\n",
       "</style>\n",
       "<table border=\"1\" class=\"dataframe\">\n",
       "  <thead>\n",
       "    <tr style=\"text-align: right;\">\n",
       "      <th>plan</th>\n",
       "      <th>month</th>\n",
       "      <th>surf</th>\n",
       "      <th>ultimate</th>\n",
       "    </tr>\n",
       "  </thead>\n",
       "  <tbody>\n",
       "    <tr>\n",
       "      <th>0</th>\n",
       "      <td>2018-01</td>\n",
       "      <td>20.000000</td>\n",
       "      <td>70.000000</td>\n",
       "    </tr>\n",
       "    <tr>\n",
       "      <th>1</th>\n",
       "      <td>2018-02</td>\n",
       "      <td>34.396667</td>\n",
       "      <td>70.000000</td>\n",
       "    </tr>\n",
       "    <tr>\n",
       "      <th>2</th>\n",
       "      <td>2018-03</td>\n",
       "      <td>45.941304</td>\n",
       "      <td>74.666667</td>\n",
       "    </tr>\n",
       "    <tr>\n",
       "      <th>3</th>\n",
       "      <td>2018-04</td>\n",
       "      <td>40.710600</td>\n",
       "      <td>73.000000</td>\n",
       "    </tr>\n",
       "    <tr>\n",
       "      <th>4</th>\n",
       "      <td>2018-05</td>\n",
       "      <td>47.628182</td>\n",
       "      <td>70.724138</td>\n",
       "    </tr>\n",
       "    <tr>\n",
       "      <th>5</th>\n",
       "      <td>2018-06</td>\n",
       "      <td>49.276289</td>\n",
       "      <td>71.638298</td>\n",
       "    </tr>\n",
       "    <tr>\n",
       "      <th>6</th>\n",
       "      <td>2018-07</td>\n",
       "      <td>62.674050</td>\n",
       "      <td>71.898305</td>\n",
       "    </tr>\n",
       "    <tr>\n",
       "      <th>7</th>\n",
       "      <td>2018-08</td>\n",
       "      <td>63.931173</td>\n",
       "      <td>72.859155</td>\n",
       "    </tr>\n",
       "    <tr>\n",
       "      <th>8</th>\n",
       "      <td>2018-09</td>\n",
       "      <td>58.271495</td>\n",
       "      <td>72.034884</td>\n",
       "    </tr>\n",
       "    <tr>\n",
       "      <th>9</th>\n",
       "      <td>2018-10</td>\n",
       "      <td>65.421224</td>\n",
       "      <td>72.311321</td>\n",
       "    </tr>\n",
       "    <tr>\n",
       "      <th>10</th>\n",
       "      <td>2018-11</td>\n",
       "      <td>58.004276</td>\n",
       "      <td>71.708661</td>\n",
       "    </tr>\n",
       "    <tr>\n",
       "      <th>11</th>\n",
       "      <td>2018-12</td>\n",
       "      <td>70.557044</td>\n",
       "      <td>73.291391</td>\n",
       "    </tr>\n",
       "  </tbody>\n",
       "</table>\n",
       "</div>"
      ],
      "text/plain": [
       "plan    month       surf   ultimate\n",
       "0     2018-01  20.000000  70.000000\n",
       "1     2018-02  34.396667  70.000000\n",
       "2     2018-03  45.941304  74.666667\n",
       "3     2018-04  40.710600  73.000000\n",
       "4     2018-05  47.628182  70.724138\n",
       "5     2018-06  49.276289  71.638298\n",
       "6     2018-07  62.674050  71.898305\n",
       "7     2018-08  63.931173  72.859155\n",
       "8     2018-09  58.271495  72.034884\n",
       "9     2018-10  65.421224  72.311321\n",
       "10    2018-11  58.004276  71.708661\n",
       "11    2018-12  70.557044  73.291391"
      ]
     },
     "execution_count": 72,
     "metadata": {},
     "output_type": "execute_result"
    }
   ],
   "source": [
    "# dataset of monthly average revenue of both packages\n",
    "avg_income = pd.pivot_table(df, index='month', columns='plan', values='total_income', aggfunc='mean').reset_index()\n",
    "avg_income['month'] = avg_income['month'].astype(str)\n",
    "avg_income"
   ]
  },
  {
   "cell_type": "code",
   "execution_count": 73,
   "metadata": {},
   "outputs": [
    {
     "data": {
      "text/plain": [
       "count    12.000000\n",
       "mean     72.011068\n",
       "std       1.364068\n",
       "min      70.000000\n",
       "25%      71.409758\n",
       "50%      71.966594\n",
       "75%      72.894366\n",
       "max      74.666667\n",
       "Name: ultimate, dtype: float64"
      ]
     },
     "execution_count": 73,
     "metadata": {},
     "output_type": "execute_result"
    }
   ],
   "source": [
    "avg_income['ultimate'].describe()"
   ]
  },
  {
   "cell_type": "code",
   "execution_count": 74,
   "metadata": {},
   "outputs": [
    {
     "data": {
      "image/png": "[encoded data removed]",
      "text/plain": [
       "<Figure size 1200x500 with 1 Axes>"
      ]
     },
     "metadata": {},
     "output_type": "display_data"
    }
   ],
   "source": [
    "# line chart of monthly average revenue\n",
    "plt.figure(figsize=(12, 5))\n",
    "plt.title('Average Income per user of Surf and Ultimate plan per Month')\n",
    "sns.lineplot(data=avg_income, x=\"month\", y=\"surf\", color='red')\n",
    "sns.lineplot(data=avg_income, x=\"month\", y=\"ultimate\", color='blue')\n",
    "plt.show()"
   ]
  },
  {
   "cell_type": "markdown",
   "metadata": {},
   "source": [
    "The chart above shows that, **on average, the monthly revenue from the Ultimate plan is higher** than that of the Surf plan. The average revenue for the Ultimate plan is also **relatively stable**, with little variation from month to month.\n",
    "\n",
    "In contrast, the Surf plan exhibits more variability in its average monthly revenue. There is a positive trend, with average revenue increasing each month, reaching its peak in December 2018, where it comes close to the average revenue of the Ultimate plan.\n",
    "\n",
    "Further analysis is needed to explore the average spending per user over the course of the year."
   ]
  },
  {
   "cell_type": "code",
   "execution_count": 75,
   "metadata": {},
   "outputs": [
    {
     "data": {
      "text/html": [
       "<div>\n",
       "<style scoped>\n",
       "    .dataframe tbody tr th:only-of-type {\n",
       "        vertical-align: middle;\n",
       "    }\n",
       "\n",
       "    .dataframe tbody tr th {\n",
       "        vertical-align: top;\n",
       "    }\n",
       "\n",
       "    .dataframe thead th {\n",
       "        text-align: right;\n",
       "    }\n",
       "</style>\n",
       "<table border=\"1\" class=\"dataframe\">\n",
       "  <thead>\n",
       "    <tr style=\"text-align: right;\">\n",
       "      <th>plan</th>\n",
       "      <th>user_id</th>\n",
       "      <th>surf</th>\n",
       "    </tr>\n",
       "  </thead>\n",
       "  <tbody>\n",
       "    <tr>\n",
       "      <th>1</th>\n",
       "      <td>1001</td>\n",
       "      <td>50.018000</td>\n",
       "    </tr>\n",
       "    <tr>\n",
       "      <th>2</th>\n",
       "      <td>1002</td>\n",
       "      <td>33.333333</td>\n",
       "    </tr>\n",
       "    <tr>\n",
       "      <th>3</th>\n",
       "      <td>1003</td>\n",
       "      <td>158.120000</td>\n",
       "    </tr>\n",
       "    <tr>\n",
       "      <th>4</th>\n",
       "      <td>1004</td>\n",
       "      <td>76.250000</td>\n",
       "    </tr>\n",
       "    <tr>\n",
       "      <th>5</th>\n",
       "      <td>1005</td>\n",
       "      <td>40.000000</td>\n",
       "    </tr>\n",
       "  </tbody>\n",
       "</table>\n",
       "</div>"
      ],
      "text/plain": [
       "plan  user_id        surf\n",
       "1        1001   50.018000\n",
       "2        1002   33.333333\n",
       "3        1003  158.120000\n",
       "4        1004   76.250000\n",
       "5        1005   40.000000"
      ]
     },
     "execution_count": 75,
     "metadata": {},
     "output_type": "execute_result"
    }
   ],
   "source": [
    "# new dataset of revenue per user\n",
    "avg_user = pd.pivot_table(df, index='user_id', columns='plan', values='total_income', aggfunc='mean').reset_index()# Dapatkan user yang surf\n",
    "\n",
    "# table of average revenue from Surf users\n",
    "avg_surf = avg_user.loc[:, ['user_id', 'surf']].dropna()\n",
    "avg_surf.head()"
   ]
  },
  {
   "cell_type": "code",
   "execution_count": 76,
   "metadata": {},
   "outputs": [
    {
     "data": {
      "text/plain": [
       "count    333.000000\n",
       "mean      58.194344\n",
       "std       43.565028\n",
       "min       20.000000\n",
       "25%       28.000000\n",
       "50%       47.180000\n",
       "75%       72.151111\n",
       "max      320.185000\n",
       "Name: surf, dtype: float64"
      ]
     },
     "execution_count": 76,
     "metadata": {},
     "output_type": "execute_result"
    }
   ],
   "source": [
    "avg_surf['surf'].describe()"
   ]
  },
  {
   "cell_type": "code",
   "execution_count": 77,
   "metadata": {},
   "outputs": [
    {
     "data": {
      "text/html": [
       "<div>\n",
       "<style scoped>\n",
       "    .dataframe tbody tr th:only-of-type {\n",
       "        vertical-align: middle;\n",
       "    }\n",
       "\n",
       "    .dataframe tbody tr th {\n",
       "        vertical-align: top;\n",
       "    }\n",
       "\n",
       "    .dataframe thead th {\n",
       "        text-align: right;\n",
       "    }\n",
       "</style>\n",
       "<table border=\"1\" class=\"dataframe\">\n",
       "  <thead>\n",
       "    <tr style=\"text-align: right;\">\n",
       "      <th>plan</th>\n",
       "      <th>user_id</th>\n",
       "      <th>ultimate</th>\n",
       "    </tr>\n",
       "  </thead>\n",
       "  <tbody>\n",
       "    <tr>\n",
       "      <th>0</th>\n",
       "      <td>1000</td>\n",
       "      <td>70.0</td>\n",
       "    </tr>\n",
       "    <tr>\n",
       "      <th>6</th>\n",
       "      <td>1006</td>\n",
       "      <td>77.0</td>\n",
       "    </tr>\n",
       "    <tr>\n",
       "      <th>8</th>\n",
       "      <td>1008</td>\n",
       "      <td>70.0</td>\n",
       "    </tr>\n",
       "    <tr>\n",
       "      <th>11</th>\n",
       "      <td>1011</td>\n",
       "      <td>70.0</td>\n",
       "    </tr>\n",
       "    <tr>\n",
       "      <th>13</th>\n",
       "      <td>1013</td>\n",
       "      <td>70.0</td>\n",
       "    </tr>\n",
       "  </tbody>\n",
       "</table>\n",
       "</div>"
      ],
      "text/plain": [
       "plan  user_id  ultimate\n",
       "0        1000      70.0\n",
       "6        1006      77.0\n",
       "8        1008      70.0\n",
       "11       1011      70.0\n",
       "13       1013      70.0"
      ]
     },
     "execution_count": 77,
     "metadata": {},
     "output_type": "execute_result"
    }
   ],
   "source": [
    "# table of average revenue from Ultimate users\n",
    "avg_ulti = avg_user.loc[:, ['user_id', 'ultimate']].dropna()\n",
    "avg_ulti.head()"
   ]
  },
  {
   "cell_type": "code",
   "execution_count": 78,
   "metadata": {},
   "outputs": [
    {
     "data": {
      "text/plain": [
       "count    157.000000\n",
       "mean      71.823284\n",
       "std        7.424766\n",
       "min       70.000000\n",
       "25%       70.000000\n",
       "50%       70.000000\n",
       "75%       70.000000\n",
       "max      121.333333\n",
       "Name: ultimate, dtype: float64"
      ]
     },
     "execution_count": 78,
     "metadata": {},
     "output_type": "execute_result"
    }
   ],
   "source": [
    "avg_ulti['ultimate'].describe()"
   ]
  },
  {
   "cell_type": "markdown",
   "metadata": {},
   "source": [
    "From the description of each prepaid plan, the following findings have been identified:\n",
    "\n",
    "There is a significant difference in standard deviation (43.5 for the Surf plan and 7 for the Ultimate plan). This indicates that **the average annual spending of Surf plan users is more variable** compared to Ultimate plan users.\n",
    "\n",
    "In contrast, the average spending of Ultimate plan users is more consistent, as shown by the data distribution in quartiles 1, 2, and 3, all of which have a value of 70. Additionally, the range between the minimum and maximum values is smaller for the Ultimate plan compared to the Surf plan.\n",
    "\n",
    "Below is a histogram visualization to validate these assumptions for both plans."
   ]
  },
  {
   "cell_type": "code",
   "execution_count": 79,
   "metadata": {},
   "outputs": [
    {
     "data": {
      "image/png": "[encoded data removed]",
      "text/plain": [
       "<Figure size 1200x500 with 2 Axes>"
      ]
     },
     "metadata": {},
     "output_type": "display_data"
    }
   ],
   "source": [
    "#histogram of average revenue per user (Surf package)\n",
    "plt.figure(figsize=(12, 5))\n",
    "plt.subplot(1, 2, 1)\n",
    "plt.title('Surf')\n",
    "sns.histplot(avg_surf['surf'], binwidth=5, color='red')\n",
    "\n",
    "#histogram of average revenue per user (Ultimate package)\n",
    "plt.subplot(1, 2, 2)\n",
    "plt.title('Ultimate')\n",
    "sns.histplot(avg_ulti['ultimate'], binwidth=5, color='blue')\n",
    "plt.show()"
   ]
  },
  {
   "cell_type": "markdown",
   "metadata": {},
   "source": [
    "The histogram for the Surf plan shows that the average spending per user is more varied. Most users fall within the `$20-$30` range. However, a notable number of users also have average spending around `$70` (the price of the Ultimate plan) or even higher.\n",
    "\n",
    "The histogram for the Ultimate plan displays lower variability, as evidenced by the large number of users with average spending in the `$70-$75` range.\n",
    "\n",
    "The following is the variance calculation, which will help determine whether to use parametric or non-parametric statistical methods for the hypothesis testing phase."
   ]
  },
  {
   "cell_type": "code",
   "execution_count": 80,
   "metadata": {},
   "outputs": [
    {
     "name": "stdout",
     "output_type": "stream",
     "text": [
      "Surf:\n",
      "Deviation standard: $43.6\n",
      "Variance: 1897.9\n",
      "\n",
      "Ultimate:\n",
      "Deviation standard: $7.4\n",
      "Variance: 55.1\n"
     ]
    }
   ],
   "source": [
    "# Variance and Deviation Standard of monthly revenue\n",
    "# Surf\n",
    "surf_std = round(avg_surf['surf'].std(), 1)\n",
    "surf_var = round(avg_surf['surf'].var(), 1)\n",
    "print('Surf:')\n",
    "print(f'Deviation standard: ${surf_std}')\n",
    "print(f'Variance: {surf_var}')\n",
    "print()\n",
    "ulti_std = round(avg_ulti['ultimate'].std(), 1)\n",
    "ulti_var = round(avg_ulti['ultimate'].var(), 1)\n",
    "\n",
    "# Ultimate\n",
    "print('Ultimate:')\n",
    "print(f'Deviation standard: ${ulti_std}')\n",
    "print(f'Variance: {ulti_var}')"
   ]
  },
  {
   "cell_type": "markdown",
   "metadata": {},
   "source": [
    "The level of variability in the Surf plan is significantly higher compared to the Ultimate plan. To ensure reliable results, a normality test must be conducted before proceeding with hypothesis testing. This will help determine the appropriate significance test to use."
   ]
  },
  {
   "cell_type": "code",
   "execution_count": 81,
   "metadata": {},
   "outputs": [],
   "source": [
    "# function for normality test\n",
    "def normality_test(series):\n",
    "    p_value_shapiro = shapiro(series).pvalue\n",
    "    print(f'P-Value: {p_value_shapiro}')\n",
    "    print(f'Alpha  : {alpha}')\n",
    "    if p_value_shapiro >= alpha:\n",
    "        print('Fail to reject H0. Data exhibits normal distribution')\n",
    "    else:\n",
    "        print('H0 rejected. Data does NOT exhibit normal distribution')\n"
   ]
  },
  {
   "cell_type": "code",
   "execution_count": 82,
   "metadata": {},
   "outputs": [
    {
     "name": "stdout",
     "output_type": "stream",
     "text": [
      "P-Value: 5.548590627996112e-21\n",
      "Alpha  : 0.05\n",
      "H0 rejected. Data does NOT exhibit normal distribution\n"
     ]
    }
   ],
   "source": [
    "# apply function on average revenue by Surf users\n",
    "alpha = 0.05\n",
    "normality_test(avg_surf['surf'])"
   ]
  },
  {
   "cell_type": "code",
   "execution_count": 83,
   "metadata": {},
   "outputs": [
    {
     "name": "stdout",
     "output_type": "stream",
     "text": [
      "P-Value: 1.0645181919663397e-24\n",
      "Alpha  : 0.05\n",
      "H0 rejected. Data does NOT exhibit normal distribution\n"
     ]
    }
   ],
   "source": [
    "# apply function on average revenue by Ultimate users\n",
    "alpha = 0.05\n",
    "normality_test(avg_ulti['ultimate'])"
   ]
  },
  {
   "cell_type": "markdown",
   "metadata": {},
   "source": [
    "The normality test indicates that the distribution of both datasets is non-normal. Based on this finding, the significance test for differences in the hypothesis testing phase should employ a **non-parametric statistical** approach."
   ]
  },
  {
   "cell_type": "markdown",
   "metadata": {},
   "source": [
    "<span style=\"font-size:14pt; font-weight: bold;\">Preliminary Conclusions</span>\n",
    "\n",
    "The Surf and Ultimate packages are offered at significantly different initial prices. The number of customers for the Surf package (333) is twice that of the Ultimate package (157). If the average expenditure for each customer in the Surf and Ultimate packages aligns with their respective initial prices (`$20` and `$70`), the company's revenue proportion from the Ultimate package should be approximately double that from the Surf package.\n",
    "\n",
    "However, by the end of the year, revenue from the Surf package is actually twice that of the Ultimate package. The spending behavior of Ultimate package users appears to remain consistently close to the initial price. In contrast, Surf package users exhibit more variability, with over three-quarters of total users incurring surcharges due to excess usage.\n",
    "\n",
    "The surcharges incurred by Surf package users primarily stem from **internet data usage for web sessions**. The high level of web activity is understandable, given the widespread use of internet-based messaging applications that replace traditional SMS and phone calls. Moreover, the payment terms for exceeding internet data limits further benefit the company. Each megabyte is rounded up to 1 gigabyte, with a charge of `$10` per GB (half the initial price of the Surf package). Consequently, as illustrated in the histogram of average spending among Surf package users, approximately one-quarter of the total users spend `$70`, equivalent to the price of the Ultimate package, for significantly lower benefits.\n",
    "\n",
    "One consideration for the company is to ensure the satisfaction of Surf package customers. Given the relatively consistent incidence of surcharges, despite the competitive initial price of the Surf package, consumers who average `$70` or more in expenditures could be approached to transition to the Ultimate package, thereby maintaining customer satisfaction and preventing subscription cancellations."
   ]
  },
  {
   "cell_type": "markdown",
   "metadata": {},
   "source": [
    "[Back to Analysis](#Analysis)"
   ]
  },
  {
   "cell_type": "markdown",
   "metadata": {},
   "source": [
    "[Back to Contents](#contents)"
   ]
  },
  {
   "cell_type": "markdown",
   "metadata": {},
   "source": [
    "# Hypothesis Testing"
   ]
  },
  {
   "cell_type": "markdown",
   "metadata": {},
   "source": [
    "Section 3 of this report highlights the differences in average revenue between customers of the Surf and Ultimate packages. However, before these differences can be used as a basis for decision-making, it is essential to test whether the differences are statistically significant.\n",
    "\n",
    "This section focuses on hypothesis testing concerning:\n",
    "\n",
    "1. The significance of the difference in average revenue between the Surf and Ultimate packages.\n",
    "2. The significance of the difference in average revenue between users in the NY-NJ region and users in other regions."
   ]
  },
  {
   "cell_type": "markdown",
   "metadata": {},
   "source": [
    "## Average Revenue by Package"
   ]
  },
  {
   "cell_type": "markdown",
   "metadata": {},
   "source": [
    "**Significance of the Difference in Average Revenue Between the Surf and Ultimate Packages**\n",
    "\n",
    "Subscription to the Surf package and the Ultimate package are mutually exclusive and independent events. The sample of customers subscribed to the Surf package is independent of the sample of customers subscribed to the Ultimate package.\n",
    "\n",
    "Based on the normality test, both distributions are not normally distributed, which means that the independent samples t-test cannot be used to obtain reliable results. Hypothesis testing will be conducted using the **Mann-Whitney U test** as the nonparametric equivalent of the independent samples t-test, with an alpha level of 0.05."
   ]
  },
  {
   "cell_type": "markdown",
   "metadata": {},
   "source": [
    "**H0**: There is NO significant difference between the average revenue of users subscribed to the Surf package and the average revenue of users subscribed to the Ultimate package.\n",
    "\n",
    "**H1**: There IS a significant difference between the average revenue of users subscribed to the Surf package and the average revenue of users subscribed to the Ultimate package."
   ]
  },
  {
   "cell_type": "code",
   "execution_count": 84,
   "metadata": {},
   "outputs": [
    {
     "name": "stdout",
     "output_type": "stream",
     "text": [
      "Alpha  : 0.05\n",
      "P-Value: 1.3074481118017472e-18\n",
      "H0 rejected: There IS significant difference between the average revenue generated by users of the Surf plan and those of the Ultimate plan.\n"
     ]
    }
   ],
   "source": [
    "# Uji hipotesis\n",
    "alpha = 0.05\n",
    "p_value = mannwhitneyu(avg_surf['surf'], avg_ulti['ultimate'], nan_policy='omit').pvalue\n",
    "print(f'Alpha  : {alpha}')\n",
    "print(f'P-Value: {p_value}')\n",
    "if p_value >= alpha:\n",
    "    print('Fail to reject H0: There is NO significant difference between the average revenue generated by users of the Surf plan and those of the Ultimate plan.')\n",
    "else:\n",
    "    print('H0 rejected: There IS significant difference between the average revenue generated by users of the Surf plan and those of the Ultimate plan.')"
   ]
  },
  {
   "cell_type": "markdown",
   "metadata": {},
   "source": [
    "The Mann-Whitney U hypothesis test, conducted at an alpha level of 0.05, resulted in the rejection of the null hypothesis and the acceptance of the alternative hypothesis.\n",
    "\n",
    "**There is a significant difference between the average revenue** generated by users of the Surf plan and the average revenue generated by users of the Ultimate plan."
   ]
  },
  {
   "cell_type": "markdown",
   "metadata": {},
   "source": [
    "[Back to Hypothesis Testing](#Hypothesis-Testing)"
   ]
  },
  {
   "cell_type": "markdown",
   "metadata": {},
   "source": [
    "## Average Revenue by Location"
   ]
  },
  {
   "cell_type": "markdown",
   "metadata": {},
   "source": [
    "This section conducts a significance test concerning the differences in revenue among customers based on their residential areas. \n",
    "\n",
    "**H0:** There is no significant difference between the average revenue generated by customers in the NY-NJ region and that of customers in other regions.\n",
    "\n",
    "**H1:** There is a significant difference between the average revenue generated by customers in the NY-NJ region and that of customers in other regions."
   ]
  },
  {
   "cell_type": "code",
   "execution_count": 85,
   "metadata": {},
   "outputs": [
    {
     "data": {
      "text/html": [
       "<div>\n",
       "<style scoped>\n",
       "    .dataframe tbody tr th:only-of-type {\n",
       "        vertical-align: middle;\n",
       "    }\n",
       "\n",
       "    .dataframe tbody tr th {\n",
       "        vertical-align: top;\n",
       "    }\n",
       "\n",
       "    .dataframe thead th {\n",
       "        text-align: right;\n",
       "    }\n",
       "</style>\n",
       "<table border=\"1\" class=\"dataframe\">\n",
       "  <thead>\n",
       "    <tr style=\"text-align: right;\">\n",
       "      <th></th>\n",
       "      <th>month</th>\n",
       "      <th>Others</th>\n",
       "      <th>NY-NJ</th>\n",
       "    </tr>\n",
       "  </thead>\n",
       "  <tbody>\n",
       "    <tr>\n",
       "      <th>0</th>\n",
       "      <td>2018-01</td>\n",
       "      <td>53.333333</td>\n",
       "      <td>NaN</td>\n",
       "    </tr>\n",
       "    <tr>\n",
       "      <th>1</th>\n",
       "      <td>2018-02</td>\n",
       "      <td>50.683571</td>\n",
       "      <td>45.000000</td>\n",
       "    </tr>\n",
       "    <tr>\n",
       "      <th>2</th>\n",
       "      <td>2018-03</td>\n",
       "      <td>58.821034</td>\n",
       "      <td>41.140000</td>\n",
       "    </tr>\n",
       "    <tr>\n",
       "      <th>3</th>\n",
       "      <td>2018-04</td>\n",
       "      <td>52.506316</td>\n",
       "      <td>41.119286</td>\n",
       "    </tr>\n",
       "    <tr>\n",
       "      <th>4</th>\n",
       "      <td>2018-05</td>\n",
       "      <td>55.170455</td>\n",
       "      <td>47.965000</td>\n",
       "    </tr>\n",
       "    <tr>\n",
       "      <th>5</th>\n",
       "      <td>2018-06</td>\n",
       "      <td>58.808908</td>\n",
       "      <td>45.941600</td>\n",
       "    </tr>\n",
       "    <tr>\n",
       "      <th>6</th>\n",
       "      <td>2018-07</td>\n",
       "      <td>68.380136</td>\n",
       "      <td>53.747879</td>\n",
       "    </tr>\n",
       "    <tr>\n",
       "      <th>7</th>\n",
       "      <td>2018-08</td>\n",
       "      <td>68.487865</td>\n",
       "      <td>58.053171</td>\n",
       "    </tr>\n",
       "    <tr>\n",
       "      <th>8</th>\n",
       "      <td>2018-09</td>\n",
       "      <td>62.979528</td>\n",
       "      <td>60.115745</td>\n",
       "    </tr>\n",
       "    <tr>\n",
       "      <th>9</th>\n",
       "      <td>2018-10</td>\n",
       "      <td>67.266034</td>\n",
       "      <td>69.107170</td>\n",
       "    </tr>\n",
       "    <tr>\n",
       "      <th>10</th>\n",
       "      <td>2018-11</td>\n",
       "      <td>61.509368</td>\n",
       "      <td>66.402419</td>\n",
       "    </tr>\n",
       "    <tr>\n",
       "      <th>11</th>\n",
       "      <td>2018-12</td>\n",
       "      <td>72.766260</td>\n",
       "      <td>64.565789</td>\n",
       "    </tr>\n",
       "  </tbody>\n",
       "</table>\n",
       "</div>"
      ],
      "text/plain": [
       "      month     Others      NY-NJ\n",
       "0   2018-01  53.333333        NaN\n",
       "1   2018-02  50.683571  45.000000\n",
       "2   2018-03  58.821034  41.140000\n",
       "3   2018-04  52.506316  41.119286\n",
       "4   2018-05  55.170455  47.965000\n",
       "5   2018-06  58.808908  45.941600\n",
       "6   2018-07  68.380136  53.747879\n",
       "7   2018-08  68.487865  58.053171\n",
       "8   2018-09  62.979528  60.115745\n",
       "9   2018-10  67.266034  69.107170\n",
       "10  2018-11  61.509368  66.402419\n",
       "11  2018-12  72.766260  64.565789"
      ]
     },
     "execution_count": 85,
     "metadata": {},
     "output_type": "execute_result"
    }
   ],
   "source": [
    "# new dataset of revenue by location\n",
    "avg_location = pd.pivot_table(df, index='month', columns='is_nynj', values='total_income', aggfunc='mean').reset_index()\n",
    "avg_location.columns = [\"month\", \"Others\", \"NY-NJ\"]\n",
    "avg_location"
   ]
  },
  {
   "cell_type": "code",
   "execution_count": 86,
   "metadata": {},
   "outputs": [
    {
     "data": {
      "image/png": "[encoded data removed]",
      "text/plain": [
       "<Figure size 1000x600 with 1 Axes>"
      ]
     },
     "metadata": {},
     "output_type": "display_data"
    }
   ],
   "source": [
    "#visualize dataset of average revenue from users in NY-NJ region\n",
    "avg_location['month'] = avg_location['month'].astype('str')\n",
    "months = avg_location['month']\n",
    "others = avg_location['Others']\n",
    "nynj = avg_location['NY-NJ']\n",
    "plt.figure(figsize=(10, 6))\n",
    "plt.bar(months, others, label='Others', color='orange', width=0.4, align='center')\n",
    "plt.bar(months, nynj, label='NY-NJ', color='green', width=0.4, align='edge')\n",
    "plt.ylim(0, 100)\n",
    "plt.xlabel('Month')\n",
    "plt.ylabel('Average Income Generated in $')\n",
    "plt.title('Location-Based Average Income Comparison')\n",
    "plt.legend()\n",
    "plt.show()"
   ]
  },
  {
   "cell_type": "markdown",
   "metadata": {},
   "source": [
    "Based on the bar chart above, there are more months in which the average revenue from users in the NY-NJ region is lower compared to other regions.\n",
    "\n",
    "Before testing the hypothesis, a normality test will be conducted on the distribution of both datasets."
   ]
  },
  {
   "cell_type": "code",
   "execution_count": 87,
   "metadata": {
    "scrolled": true
   },
   "outputs": [
    {
     "name": "stdout",
     "output_type": "stream",
     "text": [
      "P-Value: 1.0\n",
      "Alpha  : 0.05\n",
      "Fail to reject H0. Data exhibits normal distribution\n"
     ]
    }
   ],
   "source": [
    "#apply normality test function for NY-NJ revenue\n",
    "alpha = 0.05\n",
    "normality_test(avg_location['NY-NJ'])"
   ]
  },
  {
   "cell_type": "code",
   "execution_count": 88,
   "metadata": {},
   "outputs": [
    {
     "name": "stdout",
     "output_type": "stream",
     "text": [
      "P-Value: 0.6214646100997925\n",
      "Alpha  : 0.05\n",
      "Fail to reject H0. Data exhibits normal distribution\n"
     ]
    }
   ],
   "source": [
    "#apply normality test function for other regions revenue\n",
    "alpha = 0.05\n",
    "normality_test(avg_location['Others'])"
   ]
  },
  {
   "cell_type": "code",
   "execution_count": 89,
   "metadata": {},
   "outputs": [
    {
     "name": "stdout",
     "output_type": "stream",
     "text": [
      "NY-NJ:\n",
      "Deviation standard: $10.3\n",
      "Variance: 106.1\n",
      "\n",
      "Others:\n",
      "Deviation standard: $7.2\n",
      "Variance: 52.1\n"
     ]
    }
   ],
   "source": [
    "# variance check\n",
    "# revenue from NY-NJ\n",
    "nynj_std = round(avg_location['NY-NJ'].std(), 1)\n",
    "nynj_var = round(avg_location['NY-NJ'].var(), 1)\n",
    "print('NY-NJ:')\n",
    "print(f'Deviation standard: ${nynj_std}')\n",
    "print(f'Variance: {nynj_var}')\n",
    "print()\n",
    "others_std = round(avg_location['Others'].std(), 1)\n",
    "others_var = round(avg_location['Others'].var(), 1)\n",
    "\n",
    "# revenue from other regions\n",
    "print('Others:')\n",
    "print(f'Deviation standard: ${others_std}')\n",
    "print(f'Variance: {others_var}')"
   ]
  },
  {
   "cell_type": "markdown",
   "metadata": {},
   "source": [
    "\"Residing in the NY-NJ region\" and \"residing in other regions\" are mutually exclusive and independent events. The sample of Surf plan customers is independent of the sample of Ultimate plan customers.\n",
    "\n",
    "According to the normality test, both distributions are approximately normal; however, their variances differ significantly. Therefore, the hypothesis testing will be conducted using parametric statistics, employing **Welch's t-test** with an alpha level of 0.05."
   ]
  },
  {
   "cell_type": "code",
   "execution_count": 90,
   "metadata": {
    "scrolled": true
   },
   "outputs": [
    {
     "name": "stdout",
     "output_type": "stream",
     "text": [
      "T-Statistic: 1.8633428127035778\n",
      "Alpha  : 0.05\n",
      "P-Value: 0.07903841126977762\n",
      "Fail to reject H0: There is NO significant difference between the average revenue generated in the NY-NJ region and that generated in other regions.\n"
     ]
    }
   ],
   "source": [
    "# Hypotesis testing\n",
    "avg_other = avg_location[\"Others\"]\n",
    "avg_nynj = avg_location[\"NY-NJ\"]\n",
    "t_stat, p_value = stats.ttest_ind(avg_other, avg_nynj, equal_var=False, nan_policy='omit')\n",
    "alpha = 0.05\n",
    "\n",
    "print(f\"T-Statistic: {t_stat}\")\n",
    "print(f'Alpha  : {alpha}')\n",
    "print(f'P-Value: {p_value}')\n",
    "if p_value >= alpha:\n",
    "    print('Fail to reject H0: There is NO significant difference between the average revenue generated in the NY-NJ region and that generated in other regions.')\n",
    "else:\n",
    "    print('H0 is rejected: There IS a significant difference between the average revenue generated in the NY-NJ region and that generated in other regions')"
   ]
  },
  {
   "cell_type": "markdown",
   "metadata": {},
   "source": [
    "The Welch's t-test hypothesis test, conducted at an alpha level of 0.05, indicates that the null hypothesis fails to be rejected. There is **no significant difference** between the average revenue generated by users in the NY-NJ region and that generated by users in other regions."
   ]
  },
  {
   "cell_type": "markdown",
   "metadata": {},
   "source": [
    "[Back to Hypothesis Testing](#Hypothesis-Testing)"
   ]
  },
  {
   "cell_type": "markdown",
   "metadata": {},
   "source": [
    "[Back to Contents](#contents)"
   ]
  },
  {
   "cell_type": "markdown",
   "metadata": {},
   "source": [
    "# Findings and Conclusions"
   ]
  },
  {
   "cell_type": "markdown",
   "metadata": {},
   "source": [
    "<span style=\"font-size:14pt; font-weight: bold;\">Findings</span>\n",
    "\n",
    "Two prepaid packages offered by Megaline each come with distinct advantages and disadvantages. The Surf package has a relatively low base price but imposes high surcharges when customers exceed the allocated limits for phone call duration, SMS count, or internet data. On the other hand, the Ultimate package offers a higher base price but includes significantly more generous allocations for calls, SMS, and internet data. Additionally, the surcharges applied to the Ultimate package are lower than those for the Surf package. By the end of 2018, there were 333 subscribers to the Surf package and 157 subscribers to the Ultimate package.\n",
    "\n",
    "User behavior was observed monthly across three metrics: call duration, SMS count, and web session activity (internet usage). On average, both Surf and Ultimate users remained within their respective allocations for call duration and SMS count. However, when it came to internet usage, Surf package users frequently exceeded their allocated data, resulting in substantial surcharges of $10 per gigabyte. In contrast, this pattern was not observed among Ultimate package users. Although their web session activity was comparable to Surf users, the high data allocation of the Ultimate package made it unlikely for any of its users to incur surcharges.\n",
    "\n",
    "This pattern of exceeding data limits significantly contributed to the increase in both total revenue and average revenue per user for the Surf package throughout the year. By the end of the year, **total revenue generated by Surf users was nearly twice that of the Ultimate package**. The average revenue per Surf user also showed an upward trend, almost matching the average revenue per Ultimate user by year’s end.\n",
    "\n",
    "Hypothesis testing confirmed a significant difference in average revenue between the Surf and Ultimate packages. The positive trend in web session activity among Surf users, if sustained, will continue to drive profitability for the company. However, customer satisfaction among Surf users requires careful monitoring. While the lower initial price of the Surf package is an attractive feature, many customers end up paying high surcharges, with some even reaching or exceeding `$ 70`; equivalent to the base price of the Ultimate package but for significantly fewer benefits. If left unaddressed, this issue could lead to customer churn. Given the consistent incidence of surcharges  among Surf users, the company could consider **proactively offering an upgrade to the Ultimate package** when a Surf user’s total payments approach `$ 70`.\n",
    "\n",
    "In contrast, Ultimate package users exhibited more consistent behavior. There was little variation in their internet usage, call durations, or SMS counts from month to month. For this group, the company’s primary strategy should be focused on **customer retention**. One way to achieve this could be by increasing the allocations for calls, SMS, and data without raising the base price. Since Ultimate users rarely exceed their package limits, this strategy would not result in financial loss for the company but would likely enhance the users’ **emotional perception** of receiving additional value at no extra cost.\n",
    "\n",
    "Hypothesis testing was also conducted to compare the average revenue per user between the New York & New Jersey (NY-NJ) region and other regions. Although the average revenue per user outside of NY-NJ was often higher, **the difference was not statistically significant**. If the company plans to engage in location-based marketing, further analysis would be needed to identify more substantial regional differences or other significant location-based variables."
   ]
  },
  {
   "cell_type": "markdown",
   "metadata": {},
   "source": [
    "<span style=\"font-size:14pt; font-weight: bold;\">Conclusions</span>\n",
    "\n",
    "The analysis of Megaline’s prepaid packages highlights distinct customer behaviors and revenue dynamics. While the Surf package attracts users with a low base price, its high surcharges for exceeding data limits drive substantial revenue growth. However, many Surf customers end up paying amounts comparable to the Ultimate package, raising the risk of dissatisfaction and potential churn. To mitigate this, the company could offer targeted upgrades when Surf customers’ payments approach the Ultimate price.\n",
    "\n",
    "In contrast, Ultimate users show consistent usage patterns within their generous limits, suggesting that retention strategies such as increasing service allocations without raising prices could boost satisfaction. The hypothesis tests confirm a significant revenue difference between the packages but reveal no meaningful regional differences, indicating that more granular segmentation is needed for location-based marketing efforts. Overall, the company can leverage the Surf package's revenue potential while managing satisfaction and focus on retaining Ultimate customers."
   ]
  },
  {
   "cell_type": "markdown",
   "metadata": {},
   "source": [
    " [Back to Contents](#contents)"
   ]
  }
 ],
 "metadata": {
  "ExecuteTimeLog": [
   {
    "duration": 828,
    "start_time": "2021-11-16T09:21:11.304Z"
   },
   {
    "duration": 893,
    "start_time": "2021-11-16T09:21:17.728Z"
   },
   {
    "duration": 1150,
    "start_time": "2021-11-16T09:21:29.568Z"
   },
   {
    "duration": 3,
    "start_time": "2021-11-16T09:24:14.495Z"
   },
   {
    "duration": 120,
    "start_time": "2021-11-16T09:24:46.630Z"
   },
   {
    "duration": 3,
    "start_time": "2021-11-16T09:28:27.882Z"
   },
   {
    "duration": 4,
    "start_time": "2021-11-16T09:29:54.281Z"
   },
   {
    "duration": 3,
    "start_time": "2021-11-16T09:30:45.936Z"
   },
   {
    "duration": 4,
    "start_time": "2021-11-16T09:31:06.300Z"
   },
   {
    "duration": 113,
    "start_time": "2021-11-16T09:31:37.208Z"
   },
   {
    "duration": 143,
    "start_time": "2021-11-16T09:31:48.656Z"
   },
   {
    "duration": 98,
    "start_time": "2021-11-16T09:31:55.678Z"
   },
   {
    "duration": 3,
    "start_time": "2021-11-16T09:32:08.535Z"
   },
   {
    "duration": 111,
    "start_time": "2021-11-16T09:32:10.120Z"
   },
   {
    "duration": 3,
    "start_time": "2021-11-16T09:32:15.732Z"
   },
   {
    "duration": 4,
    "start_time": "2021-11-16T09:32:29.423Z"
   },
   {
    "duration": 3,
    "start_time": "2021-11-16T10:03:03.074Z"
   },
   {
    "duration": 3,
    "start_time": "2021-11-16T10:10:01.288Z"
   },
   {
    "duration": 3,
    "start_time": "2021-11-16T10:10:46.923Z"
   },
   {
    "duration": 121,
    "start_time": "2021-11-16T10:37:46.494Z"
   },
   {
    "duration": 125,
    "start_time": "2021-11-16T10:38:20.632Z"
   },
   {
    "duration": 112,
    "start_time": "2021-11-16T10:46:53.001Z"
   },
   {
    "duration": 110,
    "start_time": "2021-11-16T10:48:25.775Z"
   },
   {
    "duration": 3,
    "start_time": "2021-11-16T10:50:18.720Z"
   },
   {
    "duration": 4,
    "start_time": "2021-11-16T10:50:37.649Z"
   },
   {
    "duration": 2,
    "start_time": "2021-11-16T10:50:51.884Z"
   },
   {
    "duration": 3,
    "start_time": "2021-11-16T10:51:56.237Z"
   },
   {
    "duration": 101,
    "start_time": "2021-11-16T10:53:13.791Z"
   },
   {
    "duration": 3,
    "start_time": "2021-11-16T10:55:59.186Z"
   },
   {
    "duration": 3,
    "start_time": "2021-11-16T10:56:10.751Z"
   },
   {
    "duration": 3,
    "start_time": "2021-11-16T10:56:49.038Z"
   },
   {
    "duration": 3,
    "start_time": "2021-11-16T10:56:49.174Z"
   },
   {
    "duration": 4,
    "start_time": "2021-11-16T10:56:49.414Z"
   },
   {
    "duration": 3,
    "start_time": "2021-11-16T10:56:49.680Z"
   },
   {
    "duration": 3,
    "start_time": "2021-11-16T10:56:50.370Z"
   },
   {
    "duration": 114,
    "start_time": "2021-11-16T10:59:34.518Z"
   },
   {
    "duration": 3,
    "start_time": "2021-11-16T11:01:41.201Z"
   },
   {
    "duration": 116,
    "start_time": "2021-11-16T11:01:48.754Z"
   },
   {
    "duration": 3,
    "start_time": "2021-11-16T11:02:16.685Z"
   },
   {
    "duration": 3,
    "start_time": "2021-11-16T11:02:19.479Z"
   },
   {
    "duration": 3,
    "start_time": "2021-11-16T11:02:47.067Z"
   },
   {
    "duration": 3,
    "start_time": "2021-11-16T11:02:49.353Z"
   },
   {
    "duration": 3,
    "start_time": "2021-11-16T11:03:07.835Z"
   },
   {
    "duration": 3,
    "start_time": "2021-11-16T11:03:07.953Z"
   },
   {
    "duration": 112,
    "start_time": "2021-11-16T11:07:52.072Z"
   },
   {
    "duration": 187,
    "start_time": "2021-11-16T11:09:23.468Z"
   },
   {
    "duration": 4,
    "start_time": "2021-11-16T11:10:01.455Z"
   },
   {
    "duration": 3,
    "start_time": "2021-11-16T11:10:05.069Z"
   },
   {
    "duration": 4,
    "start_time": "2021-11-16T11:10:13.376Z"
   },
   {
    "duration": 3,
    "start_time": "2021-11-16T11:10:14.434Z"
   },
   {
    "duration": 3,
    "start_time": "2021-11-16T11:10:22.853Z"
   },
   {
    "duration": 4,
    "start_time": "2021-11-16T11:27:29.279Z"
   },
   {
    "duration": 4,
    "start_time": "2021-11-16T11:29:08.919Z"
   },
   {
    "duration": 118,
    "start_time": "2021-11-16T11:29:46.703Z"
   },
   {
    "duration": 437,
    "start_time": "2021-11-16T11:36:02.181Z"
   },
   {
    "duration": 157,
    "start_time": "2021-11-16T11:36:14.388Z"
   },
   {
    "duration": 207,
    "start_time": "2021-11-16T11:47:15.898Z"
   },
   {
    "duration": 3,
    "start_time": "2021-11-16T11:53:52.092Z"
   },
   {
    "duration": 3,
    "start_time": "2021-11-16T11:53:52.236Z"
   },
   {
    "duration": 3,
    "start_time": "2021-11-16T11:59:12.005Z"
   },
   {
    "duration": 112,
    "start_time": "2021-11-16T12:00:33.446Z"
   },
   {
    "duration": 3,
    "start_time": "2021-11-16T12:02:14.453Z"
   },
   {
    "duration": 3,
    "start_time": "2021-11-16T12:02:39.512Z"
   },
   {
    "duration": 106,
    "start_time": "2021-11-16T12:03:03.460Z"
   },
   {
    "duration": 3,
    "start_time": "2021-11-17T20:37:21.139Z"
   },
   {
    "duration": 3,
    "start_time": "2021-11-17T20:37:22.229Z"
   },
   {
    "duration": 3,
    "start_time": "2021-11-17T20:38:38.806Z"
   },
   {
    "duration": 3,
    "start_time": "2021-11-17T20:38:41.958Z"
   },
   {
    "duration": 3,
    "start_time": "2021-11-17T20:43:46.551Z"
   },
   {
    "duration": 4,
    "start_time": "2021-11-17T20:58:21.835Z"
   },
   {
    "duration": 3,
    "start_time": "2021-11-17T20:59:21.872Z"
   },
   {
    "duration": 4,
    "start_time": "2021-11-17T20:59:45.352Z"
   },
   {
    "duration": 4,
    "start_time": "2021-11-17T20:59:49.646Z"
   },
   {
    "duration": 159,
    "start_time": "2021-11-17T21:02:26.949Z"
   },
   {
    "duration": 3,
    "start_time": "2021-11-17T21:03:53.461Z"
   },
   {
    "duration": 3,
    "start_time": "2021-11-17T21:03:53.694Z"
   },
   {
    "duration": 3,
    "start_time": "2021-11-17T21:05:28.145Z"
   },
   {
    "duration": 116,
    "start_time": "2021-11-17T21:05:57.787Z"
   },
   {
    "duration": 3,
    "start_time": "2021-11-17T21:06:37.993Z"
   },
   {
    "duration": 3,
    "start_time": "2021-11-17T21:06:38.261Z"
   },
   {
    "duration": 3,
    "start_time": "2021-11-17T21:11:54.358Z"
   },
   {
    "duration": 3,
    "start_time": "2021-11-17T21:12:43.846Z"
   },
   {
    "duration": 4,
    "start_time": "2021-11-17T21:13:08.773Z"
   },
   {
    "duration": 3,
    "start_time": "2021-11-17T21:14:44.441Z"
   },
   {
    "duration": 3,
    "start_time": "2021-11-17T21:15:42.059Z"
   },
   {
    "duration": 4,
    "start_time": "2021-11-17T21:15:51.995Z"
   },
   {
    "duration": 3,
    "start_time": "2021-11-17T21:15:53.923Z"
   },
   {
    "duration": 3,
    "start_time": "2021-11-17T21:15:55.282Z"
   },
   {
    "duration": 3,
    "start_time": "2021-11-17T21:16:28.492Z"
   },
   {
    "duration": 3,
    "start_time": "2021-11-17T21:16:32.603Z"
   },
   {
    "duration": 3,
    "start_time": "2021-11-17T21:17:06.941Z"
   },
   {
    "duration": 98,
    "start_time": "2021-11-17T21:18:05.733Z"
   },
   {
    "duration": 4,
    "start_time": "2021-11-17T21:21:35.255Z"
   },
   {
    "duration": 3,
    "start_time": "2021-11-17T21:21:37.804Z"
   },
   {
    "duration": 4,
    "start_time": "2021-11-17T21:23:06.071Z"
   },
   {
    "duration": 3,
    "start_time": "2021-11-17T21:23:24.799Z"
   },
   {
    "duration": 3,
    "start_time": "2021-11-17T21:23:32.591Z"
   },
   {
    "duration": 98,
    "start_time": "2021-11-17T21:28:31.559Z"
   },
   {
    "duration": 3,
    "start_time": "2021-11-17T21:28:45.448Z"
   },
   {
    "duration": 3,
    "start_time": "2021-11-17T21:29:17.303Z"
   },
   {
    "duration": 3,
    "start_time": "2021-11-17T21:29:29.617Z"
   },
   {
    "duration": 3,
    "start_time": "2021-11-17T21:29:32.681Z"
   },
   {
    "duration": 3,
    "start_time": "2021-11-17T21:36:11.474Z"
   },
   {
    "duration": 3,
    "start_time": "2021-11-17T21:36:14.791Z"
   },
   {
    "duration": 3,
    "start_time": "2021-11-17T21:36:53.943Z"
   },
   {
    "duration": 3,
    "start_time": "2021-11-17T21:36:56.165Z"
   },
   {
    "duration": 4,
    "start_time": "2021-11-17T21:37:16.590Z"
   },
   {
    "duration": 3,
    "start_time": "2021-11-17T21:37:22.702Z"
   },
   {
    "duration": 4,
    "start_time": "2021-11-17T21:38:03.479Z"
   },
   {
    "duration": 3,
    "start_time": "2021-11-17T21:38:08.601Z"
   },
   {
    "duration": 3,
    "start_time": "2021-11-17T21:38:12.928Z"
   },
   {
    "duration": 3,
    "start_time": "2021-11-17T21:38:48.896Z"
   },
   {
    "duration": 2,
    "start_time": "2021-11-17T21:38:49.171Z"
   },
   {
    "duration": 4,
    "start_time": "2021-11-17T21:39:57.889Z"
   },
   {
    "duration": 3,
    "start_time": "2021-11-17T21:39:58.057Z"
   },
   {
    "duration": 3,
    "start_time": "2021-11-17T21:41:20.108Z"
   },
   {
    "duration": 3,
    "start_time": "2021-11-17T21:41:20.629Z"
   },
   {
    "duration": 3,
    "start_time": "2021-11-17T21:42:49.136Z"
   },
   {
    "duration": 3,
    "start_time": "2021-11-17T21:43:15.137Z"
   },
   {
    "duration": 4,
    "start_time": "2021-11-17T21:43:16.766Z"
   },
   {
    "duration": 4,
    "start_time": "2021-11-17T21:43:31.711Z"
   },
   {
    "duration": 3,
    "start_time": "2021-11-17T21:43:36.312Z"
   },
   {
    "duration": 4,
    "start_time": "2021-11-17T21:45:08.825Z"
   },
   {
    "duration": 4,
    "start_time": "2021-11-17T21:45:10.119Z"
   },
   {
    "duration": 4,
    "start_time": "2021-11-17T21:45:13.748Z"
   },
   {
    "duration": 3,
    "start_time": "2021-11-17T21:45:22.219Z"
   },
   {
    "duration": 3,
    "start_time": "2021-11-17T21:45:33.412Z"
   },
   {
    "duration": 2,
    "start_time": "2021-11-17T21:46:01.885Z"
   },
   {
    "duration": 3,
    "start_time": "2021-11-17T21:46:03.628Z"
   },
   {
    "duration": 107,
    "start_time": "2021-11-17T21:47:32.512Z"
   },
   {
    "duration": 103,
    "start_time": "2021-11-17T21:50:36.243Z"
   },
   {
    "duration": 3,
    "start_time": "2021-11-18T06:28:31.440Z"
   },
   {
    "duration": 3,
    "start_time": "2021-11-18T06:29:00.168Z"
   },
   {
    "duration": 3,
    "start_time": "2021-11-18T06:31:27.008Z"
   },
   {
    "duration": 2,
    "start_time": "2021-11-18T06:35:34.288Z"
   },
   {
    "duration": 2,
    "start_time": "2021-11-18T06:38:04.527Z"
   },
   {
    "duration": 2553,
    "start_time": "2024-10-24T03:39:40.880Z"
   },
   {
    "duration": 16,
    "start_time": "2024-10-24T03:39:43.435Z"
   },
   {
    "duration": 11,
    "start_time": "2024-10-24T03:39:43.452Z"
   },
   {
    "duration": 92,
    "start_time": "2024-10-24T03:39:43.465Z"
   },
   {
    "duration": 48,
    "start_time": "2024-10-24T03:39:43.559Z"
   },
   {
    "duration": 81,
    "start_time": "2024-10-24T03:39:43.609Z"
   },
   {
    "duration": 9,
    "start_time": "2024-10-24T03:39:43.691Z"
   },
   {
    "duration": 7,
    "start_time": "2024-10-24T03:39:43.702Z"
   },
   {
    "duration": 7,
    "start_time": "2024-10-24T03:39:43.710Z"
   },
   {
    "duration": 9,
    "start_time": "2024-10-24T03:39:43.721Z"
   },
   {
    "duration": 7,
    "start_time": "2024-10-24T03:39:43.732Z"
   },
   {
    "duration": 8,
    "start_time": "2024-10-24T03:39:43.741Z"
   },
   {
    "duration": 5,
    "start_time": "2024-10-24T03:39:43.751Z"
   },
   {
    "duration": 48,
    "start_time": "2024-10-24T03:39:43.757Z"
   },
   {
    "duration": 4,
    "start_time": "2024-10-24T03:39:43.807Z"
   },
   {
    "duration": 6,
    "start_time": "2024-10-24T03:39:43.813Z"
   },
   {
    "duration": 5,
    "start_time": "2024-10-24T03:39:43.821Z"
   },
   {
    "duration": 10,
    "start_time": "2024-10-24T03:39:43.828Z"
   },
   {
    "duration": 11,
    "start_time": "2024-10-24T03:39:43.839Z"
   },
   {
    "duration": 8,
    "start_time": "2024-10-24T03:39:43.851Z"
   },
   {
    "duration": 57,
    "start_time": "2024-10-24T03:39:43.861Z"
   },
   {
    "duration": 9,
    "start_time": "2024-10-24T03:39:43.920Z"
   },
   {
    "duration": 30,
    "start_time": "2024-10-24T03:39:43.930Z"
   },
   {
    "duration": 8,
    "start_time": "2024-10-24T03:39:43.962Z"
   },
   {
    "duration": 49,
    "start_time": "2024-10-24T03:39:43.971Z"
   },
   {
    "duration": 3,
    "start_time": "2024-10-24T03:39:44.022Z"
   },
   {
    "duration": 20,
    "start_time": "2024-10-24T03:39:44.027Z"
   },
   {
    "duration": 12,
    "start_time": "2024-10-24T03:39:44.053Z"
   },
   {
    "duration": 8,
    "start_time": "2024-10-24T03:39:44.066Z"
   },
   {
    "duration": 42,
    "start_time": "2024-10-24T03:39:44.075Z"
   },
   {
    "duration": 16,
    "start_time": "2024-10-24T03:39:44.118Z"
   },
   {
    "duration": 23,
    "start_time": "2024-10-24T03:39:44.136Z"
   },
   {
    "duration": 13,
    "start_time": "2024-10-24T03:39:44.161Z"
   },
   {
    "duration": 32,
    "start_time": "2024-10-24T03:39:44.176Z"
   },
   {
    "duration": 33,
    "start_time": "2024-10-24T03:39:44.210Z"
   },
   {
    "duration": 20,
    "start_time": "2024-10-24T03:39:44.245Z"
   },
   {
    "duration": 39,
    "start_time": "2024-10-24T03:39:44.267Z"
   },
   {
    "duration": 6,
    "start_time": "2024-10-24T03:39:44.308Z"
   },
   {
    "duration": 27,
    "start_time": "2024-10-24T03:39:44.316Z"
   },
   {
    "duration": 21,
    "start_time": "2024-10-24T03:39:44.345Z"
   },
   {
    "duration": 44,
    "start_time": "2024-10-24T03:39:44.367Z"
   },
   {
    "duration": 22,
    "start_time": "2024-10-24T03:39:44.413Z"
   },
   {
    "duration": 9,
    "start_time": "2024-10-24T03:39:44.437Z"
   },
   {
    "duration": 14,
    "start_time": "2024-10-24T03:39:44.447Z"
   },
   {
    "duration": 13,
    "start_time": "2024-10-24T03:39:44.463Z"
   },
   {
    "duration": 43,
    "start_time": "2024-10-24T03:39:44.477Z"
   },
   {
    "duration": 13,
    "start_time": "2024-10-24T03:39:44.522Z"
   },
   {
    "duration": 13,
    "start_time": "2024-10-24T03:39:44.537Z"
   },
   {
    "duration": 13,
    "start_time": "2024-10-24T03:39:44.552Z"
   },
   {
    "duration": 42,
    "start_time": "2024-10-24T03:39:44.568Z"
   },
   {
    "duration": 15,
    "start_time": "2024-10-24T03:39:44.611Z"
   },
   {
    "duration": 18,
    "start_time": "2024-10-24T03:39:44.627Z"
   },
   {
    "duration": 6,
    "start_time": "2024-10-24T03:39:44.647Z"
   },
   {
    "duration": 13,
    "start_time": "2024-10-24T03:39:44.654Z"
   },
   {
    "duration": 38,
    "start_time": "2024-10-24T03:39:44.669Z"
   },
   {
    "duration": 193,
    "start_time": "2024-10-24T03:39:44.709Z"
   },
   {
    "duration": 15,
    "start_time": "2024-10-24T03:39:44.904Z"
   },
   {
    "duration": 11,
    "start_time": "2024-10-24T03:39:44.921Z"
   },
   {
    "duration": 14,
    "start_time": "2024-10-24T03:39:44.934Z"
   },
   {
    "duration": 11,
    "start_time": "2024-10-24T03:39:44.950Z"
   },
   {
    "duration": 369,
    "start_time": "2024-10-24T03:39:44.963Z"
   },
   {
    "duration": 5,
    "start_time": "2024-10-24T03:39:45.334Z"
   },
   {
    "duration": 102,
    "start_time": "2024-10-24T03:39:45.341Z"
   },
   {
    "duration": 16,
    "start_time": "2024-10-24T03:39:45.446Z"
   },
   {
    "duration": 10,
    "start_time": "2024-10-24T03:39:45.464Z"
   },
   {
    "duration": 192,
    "start_time": "2024-10-24T03:39:45.476Z"
   },
   {
    "duration": 15,
    "start_time": "2024-10-24T03:39:45.669Z"
   },
   {
    "duration": 24,
    "start_time": "2024-10-24T03:39:45.685Z"
   },
   {
    "duration": 325,
    "start_time": "2024-10-24T03:39:45.710Z"
   },
   {
    "duration": 15,
    "start_time": "2024-10-24T03:39:46.036Z"
   },
   {
    "duration": 162,
    "start_time": "2024-10-24T03:39:46.053Z"
   },
   {
    "duration": 14,
    "start_time": "2024-10-24T03:39:46.217Z"
   },
   {
    "duration": 5,
    "start_time": "2024-10-24T03:39:46.233Z"
   },
   {
    "duration": 175,
    "start_time": "2024-10-24T03:39:46.240Z"
   },
   {
    "duration": 14,
    "start_time": "2024-10-24T03:39:46.417Z"
   },
   {
    "duration": 6,
    "start_time": "2024-10-24T03:39:46.433Z"
   },
   {
    "duration": 8,
    "start_time": "2024-10-24T03:39:46.440Z"
   },
   {
    "duration": 6,
    "start_time": "2024-10-24T03:39:46.449Z"
   },
   {
    "duration": 300,
    "start_time": "2024-10-24T03:39:46.456Z"
   },
   {
    "duration": 5,
    "start_time": "2024-10-24T03:39:46.758Z"
   },
   {
    "duration": 6,
    "start_time": "2024-10-24T03:39:46.765Z"
   },
   {
    "duration": 3,
    "start_time": "2024-10-24T03:39:46.777Z"
   },
   {
    "duration": 26,
    "start_time": "2024-10-24T03:39:46.781Z"
   },
   {
    "duration": 5,
    "start_time": "2024-10-24T03:39:46.808Z"
   },
   {
    "duration": 15,
    "start_time": "2024-10-24T03:39:46.815Z"
   },
   {
    "duration": 191,
    "start_time": "2024-10-24T03:39:46.831Z"
   },
   {
    "duration": 3,
    "start_time": "2024-10-24T03:39:47.024Z"
   },
   {
    "duration": 3,
    "start_time": "2024-10-24T03:39:47.029Z"
   },
   {
    "duration": 6,
    "start_time": "2024-10-24T03:39:47.034Z"
   },
   {
    "duration": 5,
    "start_time": "2024-10-24T03:39:47.042Z"
   }
  ],
  "kernelspec": {
   "display_name": "Python 3 (ipykernel)",
   "language": "python",
   "name": "python3"
  },
  "language_info": {
   "codemirror_mode": {
    "name": "ipython",
    "version": 3
   },
   "file_extension": ".py",
   "mimetype": "text/x-python",
   "name": "python",
   "nbconvert_exporter": "python",
   "pygments_lexer": "ipython3",
   "version": "3.9.19"
  },
  "toc": {
   "base_numbering": 1,
   "nav_menu": {},
   "number_sections": true,
   "sideBar": true,
   "skip_h1_title": false,
   "title_cell": "Table of Contents",
   "title_sidebar": "Contents",
   "toc_cell": false,
   "toc_position": {
    "height": "calc(100% - 180px)",
    "left": "10px",
    "top": "150px",
    "width": "216.719px"
   },
   "toc_section_display": true,
   "toc_window_display": true
  }
 },
 "nbformat": 4,
 "nbformat_minor": 2
}
